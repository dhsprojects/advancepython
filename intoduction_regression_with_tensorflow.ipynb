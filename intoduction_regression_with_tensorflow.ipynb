{
  "nbformat": 4,
  "nbformat_minor": 0,
  "metadata": {
    "colab": {
      "name": "intoduction_regression_with_tensorflow",
      "provenance": [],
      "collapsed_sections": [],
      "toc_visible": true,
      "authorship_tag": "ABX9TyMqASq5lviFhlh+Lx3rlDby",
      "include_colab_link": true
    },
    "kernelspec": {
      "name": "python3",
      "display_name": "Python 3"
    },
    "language_info": {
      "name": "python"
    }
  },
  "cells": [
    {
      "cell_type": "markdown",
      "metadata": {
        "id": "view-in-github",
        "colab_type": "text"
      },
      "source": [
        "<a href=\"https://colab.research.google.com/github/dhsprojects/advancepython/blob/master/intoduction_regression_with_tensorflow.ipynb\" target=\"_parent\"><img src=\"https://colab.research.google.com/assets/colab-badge.svg\" alt=\"Open In Colab\"/></a>"
      ]
    },
    {
      "cell_type": "markdown",
      "metadata": {
        "id": "X49qbFiXa0ve"
      },
      "source": [
        "#Introduction to Regression with neural network with tensorflow\n",
        "\n",
        "there are lots of definition for regression i going to simplified. Predicting the numeric output based on the various other combinitation of varibles."
      ]
    },
    {
      "cell_type": "code",
      "metadata": {
        "id": "NdDGmaCEazuj"
      },
      "source": [
        "import numpy as np\n",
        "import tensorflow as tf\n",
        "import matplotlib.pyplot as plt\n"
      ],
      "execution_count": null,
      "outputs": []
    },
    {
      "cell_type": "code",
      "metadata": {
        "colab": {
          "base_uri": "https://localhost:8080/",
          "height": 286
        },
        "id": "91zGLg0gSgdR",
        "outputId": "ea147904-d5e6-4298-c5b9-703d51f2eab6"
      },
      "source": [
        "x = np.array([-7, -4, -1, 2, 5, 8, 11, 14])\n",
        "y = np.array([3, 6, 9, 12, 15, 18, 21, 24])\n",
        "plt.scatter(x,y)"
      ],
      "execution_count": null,
      "outputs": [
        {
          "output_type": "execute_result",
          "data": {
            "text/plain": [
              "<matplotlib.collections.PathCollection at 0x7fdc5e1e40d0>"
            ]
          },
          "metadata": {
            "tags": []
          },
          "execution_count": 2
        },
        {
          "output_type": "display_data",
          "data": {
            "image/png": "[encoded data removed]",
            "text/plain": [
              "<Figure size 432x288 with 1 Axes>"
            ]
          },
          "metadata": {
            "tags": [],
            "needs_background": "light"
          }
        }
      ]
    },
    {
      "cell_type": "code",
      "metadata": {
        "colab": {
          "base_uri": "https://localhost:8080/"
        },
        "id": "0bH27IyVT4Ea",
        "outputId": "92fc0eae-9e56-45de-f8fa-fe662addcb70"
      },
      "source": [
        "y == x+10"
      ],
      "execution_count": null,
      "outputs": [
        {
          "output_type": "execute_result",
          "data": {
            "text/plain": [
              "array([ True,  True,  True,  True,  True,  True,  True,  True])"
            ]
          },
          "metadata": {
            "tags": []
          },
          "execution_count": 3
        }
      ]
    },
    {
      "cell_type": "code",
      "metadata": {
        "colab": {
          "base_uri": "https://localhost:8080/"
        },
        "id": "qOCB8Qlsb3LV",
        "outputId": "7c09eb94-3e78-4a6d-eaf0-439b864ff184"
      },
      "source": [
        "x = tf.cast(x,dtype=tf.int32)\n",
        "y = tf.cast(y,dtype=tf.int32)\n",
        "x,y"
      ],
      "execution_count": null,
      "outputs": [
        {
          "output_type": "execute_result",
          "data": {
            "text/plain": [
              "(<tf.Tensor: shape=(8,), dtype=int32, numpy=array([-7, -4, -1,  2,  5,  8, 11, 14], dtype=int32)>,\n",
              " <tf.Tensor: shape=(8,), dtype=int32, numpy=array([ 3,  6,  9, 12, 15, 18, 21, 24], dtype=int32)>)"
            ]
          },
          "metadata": {
            "tags": []
          },
          "execution_count": 4
        }
      ]
    },
    {
      "cell_type": "markdown",
      "metadata": {
        "id": "P2IrMa48W3gX"
      },
      "source": [
        "#Steps for creating the model\n",
        "1. creating the model - define the input and output layers,as well as the hidden layers of deep learning model.\n",
        "2. compling the model - define the loss function( in other words tells the motel is how worng is) and optimizer (tells our model to imporve performance)\n",
        "3. Fitting the model - letting the model try to find pattern between x&y (features and labels)"
      ]
    },
    {
      "cell_type": "markdown",
      "metadata": {
        "id": "5qefhknytneK"
      },
      "source": [
        "# New Section"
      ]
    },
    {
      "cell_type": "code",
      "metadata": {
        "colab": {
          "base_uri": "https://localhost:8080/"
        },
        "id": "MXaDaycdT8S_",
        "outputId": "67eecf6c-5a33-44c6-f843-4a1c97904d6d"
      },
      "source": [
        "# set random seed\n",
        "tf.random.set_seed(42)\n",
        "\n",
        "# 1.creating the model\n",
        "model = tf.keras.Sequential([\n",
        "                             tf.keras.layers.Dense(1)\n",
        "])\n",
        "\n",
        "# 2. compling the model\n",
        "\n",
        "model.compile(loss = tf.keras.losses.mae,       #mean absolute error\n",
        "              optimizer = tf.keras.optimizers.SGD(), #stochastic gradient descent\n",
        "              metrics = ['mae'])\n",
        "\n",
        "#3. fit the model\n",
        "model.fit(x,y,epochs=5)"
      ],
      "execution_count": null,
      "outputs": [
        {
          "output_type": "stream",
          "text": [
            "Epoch 1/5\n",
            "1/1 [==============================] - 1s 519ms/step - loss: 11.5048 - mae: 11.5048\n",
            "Epoch 2/5\n",
            "1/1 [==============================] - 0s 5ms/step - loss: 11.3723 - mae: 11.3723\n",
            "Epoch 3/5\n",
            "1/1 [==============================] - 0s 4ms/step - loss: 11.2398 - mae: 11.2398\n",
            "Epoch 4/5\n",
            "1/1 [==============================] - 0s 3ms/step - loss: 11.1073 - mae: 11.1073\n",
            "Epoch 5/5\n",
            "1/1 [==============================] - 0s 3ms/step - loss: 10.9748 - mae: 10.9748\n"
          ],
          "name": "stdout"
        },
        {
          "output_type": "execute_result",
          "data": {
            "text/plain": [
              "<tensorflow.python.keras.callbacks.History at 0x7fdc17772390>"
            ]
          },
          "metadata": {
            "tags": []
          },
          "execution_count": 5
        }
      ]
    },
    {
      "cell_type": "code",
      "metadata": {
        "id": "q6Ik6P2RdTzs",
        "colab": {
          "base_uri": "https://localhost:8080/"
        },
        "outputId": "9954df5c-44c5-42fb-98bd-1058c8d4bd27"
      },
      "source": [
        "x,y"
      ],
      "execution_count": null,
      "outputs": [
        {
          "output_type": "execute_result",
          "data": {
            "text/plain": [
              "(<tf.Tensor: shape=(8,), dtype=int32, numpy=array([-7, -4, -1,  2,  5,  8, 11, 14], dtype=int32)>,\n",
              " <tf.Tensor: shape=(8,), dtype=int32, numpy=array([ 3,  6,  9, 12, 15, 18, 21, 24], dtype=int32)>)"
            ]
          },
          "metadata": {
            "tags": []
          },
          "execution_count": 6
        }
      ]
    },
    {
      "cell_type": "code",
      "metadata": {
        "id": "suoW8spre-qJ"
      },
      "source": [
        "y_pred = model.predict([17]) "
      ],
      "execution_count": null,
      "outputs": []
    },
    {
      "cell_type": "code",
      "metadata": {
        "id": "wTPzPv2vfKVq",
        "colab": {
          "base_uri": "https://localhost:8080/"
        },
        "outputId": "36fc9dd2-7a71-4c68-e60f-1ed020ed8fc4"
      },
      "source": [
        "y_pred"
      ],
      "execution_count": null,
      "outputs": [
        {
          "output_type": "execute_result",
          "data": {
            "text/plain": [
              "array([[12.716021]], dtype=float32)"
            ]
          },
          "metadata": {
            "tags": []
          },
          "execution_count": 8
        }
      ]
    },
    {
      "cell_type": "markdown",
      "metadata": {
        "id": "WpTdLAnGfPjg"
      },
      "source": [
        "# Improving our model"
      ]
    },
    {
      "cell_type": "markdown",
      "metadata": {
        "id": "ltU0lPkcBU9j"
      },
      "source": [
        "we can improve the model, by altering the steps while creating the model\n",
        "\n",
        "1. **creating the model** - here we might add more input layers by adding more number of hidden layers.\n",
        "2. **Compile the model** - here we might change the optimizer and changing the learning rate in the model.\n",
        "3. **Fitting the model** - here we might increase number of epochs. otherwise we have give more example to train and give more time for data "
      ]
    },
    {
      "cell_type": "code",
      "metadata": {
        "id": "U2C_aHl-fMmx",
        "colab": {
          "base_uri": "https://localhost:8080/"
        },
        "outputId": "133ac2ce-362b-4f97-ad0e-96d9a1710fea"
      },
      "source": [
        "# by increasing epochs\n",
        "# set random seed\n",
        "tf.random.set_seed(42)\n",
        "\n",
        "# 1.creating the model\n",
        "model = tf.keras.Sequential([\n",
        "                             tf.keras.layers.Dense(1)\n",
        "])\n",
        "\n",
        "# 2. compling the model\n",
        "\n",
        "model.compile(loss = tf.keras.losses.mae,       #mean absolute error\n",
        "              optimizer = tf.keras.optimizers.SGD(), #stochastic gradient descent\n",
        "              metrics = ['mae'])\n",
        "\n",
        "#3. fit the model\n",
        "model.fit(x,y,epochs=100)"
      ],
      "execution_count": null,
      "outputs": [
        {
          "output_type": "stream",
          "text": [
            "Epoch 1/100\n",
            "1/1 [==============================] - 0s 253ms/step - loss: 11.5048 - mae: 11.5048\n",
            "Epoch 2/100\n",
            "1/1 [==============================] - 0s 3ms/step - loss: 11.3723 - mae: 11.3723\n",
            "Epoch 3/100\n",
            "1/1 [==============================] - 0s 12ms/step - loss: 11.2398 - mae: 11.2398\n",
            "Epoch 4/100\n",
            "1/1 [==============================] - 0s 6ms/step - loss: 11.1073 - mae: 11.1073\n",
            "Epoch 5/100\n",
            "1/1 [==============================] - 0s 6ms/step - loss: 10.9748 - mae: 10.9748\n",
            "Epoch 6/100\n",
            "1/1 [==============================] - 0s 6ms/step - loss: 10.8423 - mae: 10.8423\n",
            "Epoch 7/100\n",
            "1/1 [==============================] - 0s 6ms/step - loss: 10.7098 - mae: 10.7098\n",
            "Epoch 8/100\n",
            "1/1 [==============================] - 0s 9ms/step - loss: 10.5773 - mae: 10.5773\n",
            "Epoch 9/100\n",
            "1/1 [==============================] - 0s 10ms/step - loss: 10.4448 - mae: 10.4448\n",
            "Epoch 10/100\n",
            "1/1 [==============================] - 0s 8ms/step - loss: 10.3123 - mae: 10.3123\n",
            "Epoch 11/100\n",
            "1/1 [==============================] - 0s 7ms/step - loss: 10.1798 - mae: 10.1798\n",
            "Epoch 12/100\n",
            "1/1 [==============================] - 0s 6ms/step - loss: 10.0473 - mae: 10.0473\n",
            "Epoch 13/100\n",
            "1/1 [==============================] - 0s 3ms/step - loss: 9.9148 - mae: 9.9148\n",
            "Epoch 14/100\n",
            "1/1 [==============================] - 0s 4ms/step - loss: 9.7823 - mae: 9.7823\n",
            "Epoch 15/100\n",
            "1/1 [==============================] - 0s 9ms/step - loss: 9.6498 - mae: 9.6498\n",
            "Epoch 16/100\n",
            "1/1 [==============================] - 0s 7ms/step - loss: 9.5173 - mae: 9.5173\n",
            "Epoch 17/100\n",
            "1/1 [==============================] - 0s 4ms/step - loss: 9.3848 - mae: 9.3848\n",
            "Epoch 18/100\n",
            "1/1 [==============================] - 0s 4ms/step - loss: 9.2523 - mae: 9.2523\n",
            "Epoch 19/100\n",
            "1/1 [==============================] - 0s 4ms/step - loss: 9.1198 - mae: 9.1198\n",
            "Epoch 20/100\n",
            "1/1 [==============================] - 0s 19ms/step - loss: 8.9873 - mae: 8.9873\n",
            "Epoch 21/100\n",
            "1/1 [==============================] - 0s 4ms/step - loss: 8.8548 - mae: 8.8548\n",
            "Epoch 22/100\n",
            "1/1 [==============================] - 0s 4ms/step - loss: 8.7223 - mae: 8.7223\n",
            "Epoch 23/100\n",
            "1/1 [==============================] - 0s 4ms/step - loss: 8.5898 - mae: 8.5898\n",
            "Epoch 24/100\n",
            "1/1 [==============================] - 0s 4ms/step - loss: 8.4573 - mae: 8.4573\n",
            "Epoch 25/100\n",
            "1/1 [==============================] - 0s 6ms/step - loss: 8.3248 - mae: 8.3248\n",
            "Epoch 26/100\n",
            "1/1 [==============================] - 0s 4ms/step - loss: 8.1923 - mae: 8.1923\n",
            "Epoch 27/100\n",
            "1/1 [==============================] - 0s 5ms/step - loss: 8.0598 - mae: 8.0598\n",
            "Epoch 28/100\n",
            "1/1 [==============================] - 0s 6ms/step - loss: 7.9273 - mae: 7.9273\n",
            "Epoch 29/100\n",
            "1/1 [==============================] - 0s 4ms/step - loss: 7.7948 - mae: 7.7948\n",
            "Epoch 30/100\n",
            "1/1 [==============================] - 0s 9ms/step - loss: 7.6623 - mae: 7.6623\n",
            "Epoch 31/100\n",
            "1/1 [==============================] - 0s 4ms/step - loss: 7.5298 - mae: 7.5298\n",
            "Epoch 32/100\n",
            "1/1 [==============================] - 0s 4ms/step - loss: 7.3973 - mae: 7.3973\n",
            "Epoch 33/100\n",
            "1/1 [==============================] - 0s 5ms/step - loss: 7.2648 - mae: 7.2648\n",
            "Epoch 34/100\n",
            "1/1 [==============================] - 0s 6ms/step - loss: 7.2525 - mae: 7.2525\n",
            "Epoch 35/100\n",
            "1/1 [==============================] - 0s 9ms/step - loss: 7.2469 - mae: 7.2469\n",
            "Epoch 36/100\n",
            "1/1 [==============================] - 0s 4ms/step - loss: 7.2413 - mae: 7.2413\n",
            "Epoch 37/100\n",
            "1/1 [==============================] - 0s 4ms/step - loss: 7.2356 - mae: 7.2356\n",
            "Epoch 38/100\n",
            "1/1 [==============================] - 0s 4ms/step - loss: 7.2300 - mae: 7.2300\n",
            "Epoch 39/100\n",
            "1/1 [==============================] - 0s 5ms/step - loss: 7.2244 - mae: 7.2244\n",
            "Epoch 40/100\n",
            "1/1 [==============================] - 0s 7ms/step - loss: 7.2188 - mae: 7.2188\n",
            "Epoch 41/100\n",
            "1/1 [==============================] - 0s 5ms/step - loss: 7.2131 - mae: 7.2131\n",
            "Epoch 42/100\n",
            "1/1 [==============================] - 0s 6ms/step - loss: 7.2075 - mae: 7.2075\n",
            "Epoch 43/100\n",
            "1/1 [==============================] - 0s 7ms/step - loss: 7.2019 - mae: 7.2019\n",
            "Epoch 44/100\n",
            "1/1 [==============================] - 0s 4ms/step - loss: 7.1963 - mae: 7.1963\n",
            "Epoch 45/100\n",
            "1/1 [==============================] - 0s 4ms/step - loss: 7.1906 - mae: 7.1906\n",
            "Epoch 46/100\n",
            "1/1 [==============================] - 0s 6ms/step - loss: 7.1850 - mae: 7.1850\n",
            "Epoch 47/100\n",
            "1/1 [==============================] - 0s 4ms/step - loss: 7.1794 - mae: 7.1794\n",
            "Epoch 48/100\n",
            "1/1 [==============================] - 0s 4ms/step - loss: 7.1738 - mae: 7.1738\n",
            "Epoch 49/100\n",
            "1/1 [==============================] - 0s 6ms/step - loss: 7.1681 - mae: 7.1681\n",
            "Epoch 50/100\n",
            "1/1 [==============================] - 0s 4ms/step - loss: 7.1625 - mae: 7.1625\n",
            "Epoch 51/100\n",
            "1/1 [==============================] - 0s 4ms/step - loss: 7.1569 - mae: 7.1569\n",
            "Epoch 52/100\n",
            "1/1 [==============================] - 0s 6ms/step - loss: 7.1512 - mae: 7.1512\n",
            "Epoch 53/100\n",
            "1/1 [==============================] - 0s 6ms/step - loss: 7.1456 - mae: 7.1456\n",
            "Epoch 54/100\n",
            "1/1 [==============================] - 0s 6ms/step - loss: 7.1400 - mae: 7.1400\n",
            "Epoch 55/100\n",
            "1/1 [==============================] - 0s 7ms/step - loss: 7.1344 - mae: 7.1344\n",
            "Epoch 56/100\n",
            "1/1 [==============================] - 0s 6ms/step - loss: 7.1287 - mae: 7.1287\n",
            "Epoch 57/100\n",
            "1/1 [==============================] - 0s 5ms/step - loss: 7.1231 - mae: 7.1231\n",
            "Epoch 58/100\n",
            "1/1 [==============================] - 0s 6ms/step - loss: 7.1175 - mae: 7.1175\n",
            "Epoch 59/100\n",
            "1/1 [==============================] - 0s 10ms/step - loss: 7.1119 - mae: 7.1119\n",
            "Epoch 60/100\n",
            "1/1 [==============================] - 0s 4ms/step - loss: 7.1063 - mae: 7.1063\n",
            "Epoch 61/100\n",
            "1/1 [==============================] - 0s 4ms/step - loss: 7.1006 - mae: 7.1006\n",
            "Epoch 62/100\n",
            "1/1 [==============================] - 0s 4ms/step - loss: 7.0950 - mae: 7.0950\n",
            "Epoch 63/100\n",
            "1/1 [==============================] - 0s 5ms/step - loss: 7.0894 - mae: 7.0894\n",
            "Epoch 64/100\n",
            "1/1 [==============================] - 0s 5ms/step - loss: 7.0838 - mae: 7.0838\n",
            "Epoch 65/100\n",
            "1/1 [==============================] - 0s 6ms/step - loss: 7.0781 - mae: 7.0781\n",
            "Epoch 66/100\n",
            "1/1 [==============================] - 0s 4ms/step - loss: 7.0725 - mae: 7.0725\n",
            "Epoch 67/100\n",
            "1/1 [==============================] - 0s 5ms/step - loss: 7.0669 - mae: 7.0669\n",
            "Epoch 68/100\n",
            "1/1 [==============================] - 0s 5ms/step - loss: 7.0613 - mae: 7.0613\n",
            "Epoch 69/100\n",
            "1/1 [==============================] - 0s 6ms/step - loss: 7.0556 - mae: 7.0556\n",
            "Epoch 70/100\n",
            "1/1 [==============================] - 0s 5ms/step - loss: 7.0500 - mae: 7.0500\n",
            "Epoch 71/100\n",
            "1/1 [==============================] - 0s 3ms/step - loss: 7.0444 - mae: 7.0444\n",
            "Epoch 72/100\n",
            "1/1 [==============================] - 0s 9ms/step - loss: 7.0388 - mae: 7.0388\n",
            "Epoch 73/100\n",
            "1/1 [==============================] - 0s 4ms/step - loss: 7.0331 - mae: 7.0331\n",
            "Epoch 74/100\n",
            "1/1 [==============================] - 0s 4ms/step - loss: 7.0275 - mae: 7.0275\n",
            "Epoch 75/100\n",
            "1/1 [==============================] - 0s 4ms/step - loss: 7.0219 - mae: 7.0219\n",
            "Epoch 76/100\n",
            "1/1 [==============================] - 0s 6ms/step - loss: 7.0163 - mae: 7.0163\n",
            "Epoch 77/100\n",
            "1/1 [==============================] - 0s 4ms/step - loss: 7.0106 - mae: 7.0106\n",
            "Epoch 78/100\n",
            "1/1 [==============================] - 0s 5ms/step - loss: 7.0050 - mae: 7.0050\n",
            "Epoch 79/100\n",
            "1/1 [==============================] - 0s 7ms/step - loss: 6.9994 - mae: 6.9994\n",
            "Epoch 80/100\n",
            "1/1 [==============================] - 0s 4ms/step - loss: 6.9938 - mae: 6.9938\n",
            "Epoch 81/100\n",
            "1/1 [==============================] - 0s 8ms/step - loss: 6.9881 - mae: 6.9881\n",
            "Epoch 82/100\n",
            "1/1 [==============================] - 0s 4ms/step - loss: 6.9825 - mae: 6.9825\n",
            "Epoch 83/100\n",
            "1/1 [==============================] - 0s 7ms/step - loss: 6.9769 - mae: 6.9769\n",
            "Epoch 84/100\n",
            "1/1 [==============================] - 0s 6ms/step - loss: 6.9713 - mae: 6.9713\n",
            "Epoch 85/100\n",
            "1/1 [==============================] - 0s 4ms/step - loss: 6.9656 - mae: 6.9656\n",
            "Epoch 86/100\n",
            "1/1 [==============================] - 0s 8ms/step - loss: 6.9600 - mae: 6.9600\n",
            "Epoch 87/100\n",
            "1/1 [==============================] - 0s 10ms/step - loss: 6.9544 - mae: 6.9544\n",
            "Epoch 88/100\n",
            "1/1 [==============================] - 0s 3ms/step - loss: 6.9488 - mae: 6.9488\n",
            "Epoch 89/100\n",
            "1/1 [==============================] - 0s 5ms/step - loss: 6.9431 - mae: 6.9431\n",
            "Epoch 90/100\n",
            "1/1 [==============================] - 0s 6ms/step - loss: 6.9375 - mae: 6.9375\n",
            "Epoch 91/100\n",
            "1/1 [==============================] - 0s 4ms/step - loss: 6.9319 - mae: 6.9319\n",
            "Epoch 92/100\n",
            "1/1 [==============================] - 0s 6ms/step - loss: 6.9263 - mae: 6.9263\n",
            "Epoch 93/100\n",
            "1/1 [==============================] - 0s 4ms/step - loss: 6.9206 - mae: 6.9206\n",
            "Epoch 94/100\n",
            "1/1 [==============================] - 0s 5ms/step - loss: 6.9150 - mae: 6.9150\n",
            "Epoch 95/100\n",
            "1/1 [==============================] - 0s 6ms/step - loss: 6.9094 - mae: 6.9094\n",
            "Epoch 96/100\n",
            "1/1 [==============================] - 0s 6ms/step - loss: 6.9038 - mae: 6.9038\n",
            "Epoch 97/100\n",
            "1/1 [==============================] - 0s 4ms/step - loss: 6.8981 - mae: 6.8981\n",
            "Epoch 98/100\n",
            "1/1 [==============================] - 0s 5ms/step - loss: 6.8925 - mae: 6.8925\n",
            "Epoch 99/100\n",
            "1/1 [==============================] - 0s 4ms/step - loss: 6.8869 - mae: 6.8869\n",
            "Epoch 100/100\n",
            "1/1 [==============================] - 0s 5ms/step - loss: 6.8813 - mae: 6.8813\n"
          ],
          "name": "stdout"
        },
        {
          "output_type": "execute_result",
          "data": {
            "text/plain": [
              "<tensorflow.python.keras.callbacks.History at 0x7fdc154db890>"
            ]
          },
          "metadata": {
            "tags": []
          },
          "execution_count": 9
        }
      ]
    },
    {
      "cell_type": "code",
      "metadata": {
        "id": "6E4OiktPHTs_",
        "colab": {
          "base_uri": "https://localhost:8080/"
        },
        "outputId": "f0c0482c-bb1a-47ed-da28-52f775afdd4f"
      },
      "source": [
        "#now checking the model\n",
        "model.predict([17])"
      ],
      "execution_count": null,
      "outputs": [
        {
          "output_type": "execute_result",
          "data": {
            "text/plain": [
              "array([[30.158512]], dtype=float32)"
            ]
          },
          "metadata": {
            "tags": []
          },
          "execution_count": 10
        }
      ]
    },
    {
      "cell_type": "code",
      "metadata": {
        "id": "SYXf18bMHm4h",
        "colab": {
          "base_uri": "https://localhost:8080/"
        },
        "outputId": "1e951afa-1068-40ae-a5fe-6d48f10afc24"
      },
      "source": [
        "#Now change with increase hidden layer\n",
        "# set random seed\n",
        "tf.random.set_seed(42)\n",
        "\n",
        "# 1.creating the model\n",
        "model = tf.keras.Sequential([\n",
        "                             \n",
        "                             tf.keras.layers.Dense(100,activation=\"relu\"),\n",
        "                             tf.keras.layers.Dense(100,activation=\"relu\"),\n",
        "                             tf.keras.layers.Dense(1)\n",
        "\n",
        "])\n",
        "\n",
        "# 2. compling the model\n",
        "\n",
        "model.compile(loss = tf.keras.losses.mae,       #mean absolute error\n",
        "              optimizer = tf.keras.optimizers.SGD(), #stochastic gradient descent\n",
        "              metrics = ['mae'])\n",
        "\n",
        "#3. fit the model\n",
        "model.fit(x,y,epochs=100)"
      ],
      "execution_count": null,
      "outputs": [
        {
          "output_type": "stream",
          "text": [
            "Epoch 1/100\n",
            "1/1 [==============================] - 0s 366ms/step - loss: 13.3925 - mae: 13.3925\n",
            "Epoch 2/100\n",
            "1/1 [==============================] - 0s 4ms/step - loss: 12.7882 - mae: 12.7882\n",
            "Epoch 3/100\n",
            "1/1 [==============================] - 0s 4ms/step - loss: 12.1989 - mae: 12.1989\n",
            "Epoch 4/100\n",
            "1/1 [==============================] - 0s 4ms/step - loss: 11.5895 - mae: 11.5895\n",
            "Epoch 5/100\n",
            "1/1 [==============================] - 0s 6ms/step - loss: 10.9394 - mae: 10.9394\n",
            "Epoch 6/100\n",
            "1/1 [==============================] - 0s 4ms/step - loss: 10.2587 - mae: 10.2587\n",
            "Epoch 7/100\n",
            "1/1 [==============================] - 0s 5ms/step - loss: 9.5093 - mae: 9.5093\n",
            "Epoch 8/100\n",
            "1/1 [==============================] - 0s 5ms/step - loss: 8.6485 - mae: 8.6485\n",
            "Epoch 9/100\n",
            "1/1 [==============================] - 0s 5ms/step - loss: 7.6382 - mae: 7.6382\n",
            "Epoch 10/100\n",
            "1/1 [==============================] - 0s 6ms/step - loss: 6.4307 - mae: 6.4307\n",
            "Epoch 11/100\n",
            "1/1 [==============================] - 0s 4ms/step - loss: 5.0554 - mae: 5.0554\n",
            "Epoch 12/100\n",
            "1/1 [==============================] - 0s 7ms/step - loss: 3.9445 - mae: 3.9445\n",
            "Epoch 13/100\n",
            "1/1 [==============================] - 0s 4ms/step - loss: 4.0148 - mae: 4.0148\n",
            "Epoch 14/100\n",
            "1/1 [==============================] - 0s 6ms/step - loss: 3.9048 - mae: 3.9048\n",
            "Epoch 15/100\n",
            "1/1 [==============================] - 0s 4ms/step - loss: 4.0262 - mae: 4.0262\n",
            "Epoch 16/100\n",
            "1/1 [==============================] - 0s 17ms/step - loss: 3.8901 - mae: 3.8901\n",
            "Epoch 17/100\n",
            "1/1 [==============================] - 0s 5ms/step - loss: 4.0070 - mae: 4.0070\n",
            "Epoch 18/100\n",
            "1/1 [==============================] - 0s 3ms/step - loss: 3.9013 - mae: 3.9013\n",
            "Epoch 19/100\n",
            "1/1 [==============================] - 0s 5ms/step - loss: 3.9672 - mae: 3.9672\n",
            "Epoch 20/100\n",
            "1/1 [==============================] - 0s 6ms/step - loss: 3.9130 - mae: 3.9130\n",
            "Epoch 21/100\n",
            "1/1 [==============================] - 0s 6ms/step - loss: 3.9264 - mae: 3.9264\n",
            "Epoch 22/100\n",
            "1/1 [==============================] - 0s 5ms/step - loss: 3.9247 - mae: 3.9247\n",
            "Epoch 23/100\n",
            "1/1 [==============================] - 0s 6ms/step - loss: 3.8850 - mae: 3.8850\n",
            "Epoch 24/100\n",
            "1/1 [==============================] - 0s 10ms/step - loss: 3.9370 - mae: 3.9370\n",
            "Epoch 25/100\n",
            "1/1 [==============================] - 0s 4ms/step - loss: 3.8428 - mae: 3.8428\n",
            "Epoch 26/100\n",
            "1/1 [==============================] - 0s 5ms/step - loss: 3.9499 - mae: 3.9499\n",
            "Epoch 27/100\n",
            "1/1 [==============================] - 0s 10ms/step - loss: 3.8167 - mae: 3.8167\n",
            "Epoch 28/100\n",
            "1/1 [==============================] - 0s 8ms/step - loss: 3.9601 - mae: 3.9601\n",
            "Epoch 29/100\n",
            "1/1 [==============================] - 0s 12ms/step - loss: 3.8497 - mae: 3.8497\n",
            "Epoch 30/100\n",
            "1/1 [==============================] - 0s 6ms/step - loss: 3.8946 - mae: 3.8946\n",
            "Epoch 31/100\n",
            "1/1 [==============================] - 0s 4ms/step - loss: 3.8628 - mae: 3.8628\n",
            "Epoch 32/100\n",
            "1/1 [==============================] - 0s 5ms/step - loss: 3.8514 - mae: 3.8514\n",
            "Epoch 33/100\n",
            "1/1 [==============================] - 0s 6ms/step - loss: 3.8765 - mae: 3.8765\n",
            "Epoch 34/100\n",
            "1/1 [==============================] - 0s 7ms/step - loss: 3.8075 - mae: 3.8075\n",
            "Epoch 35/100\n",
            "1/1 [==============================] - 0s 7ms/step - loss: 3.8906 - mae: 3.8906\n",
            "Epoch 36/100\n",
            "1/1 [==============================] - 0s 5ms/step - loss: 3.7629 - mae: 3.7629\n",
            "Epoch 37/100\n",
            "1/1 [==============================] - 0s 14ms/step - loss: 3.9052 - mae: 3.9052\n",
            "Epoch 38/100\n",
            "1/1 [==============================] - 0s 7ms/step - loss: 3.7874 - mae: 3.7874\n",
            "Epoch 39/100\n",
            "1/1 [==============================] - 0s 6ms/step - loss: 3.8546 - mae: 3.8546\n",
            "Epoch 40/100\n",
            "1/1 [==============================] - 0s 5ms/step - loss: 3.8077 - mae: 3.8077\n",
            "Epoch 41/100\n",
            "1/1 [==============================] - 0s 7ms/step - loss: 3.8096 - mae: 3.8096\n",
            "Epoch 42/100\n",
            "1/1 [==============================] - 0s 5ms/step - loss: 3.8225 - mae: 3.8225\n",
            "Epoch 43/100\n",
            "1/1 [==============================] - 0s 4ms/step - loss: 3.7633 - mae: 3.7633\n",
            "Epoch 44/100\n",
            "1/1 [==============================] - 0s 9ms/step - loss: 3.8368 - mae: 3.8368\n",
            "Epoch 45/100\n",
            "1/1 [==============================] - 0s 7ms/step - loss: 3.7164 - mae: 3.7164\n",
            "Epoch 46/100\n",
            "1/1 [==============================] - 0s 12ms/step - loss: 3.8528 - mae: 3.8528\n",
            "Epoch 47/100\n",
            "1/1 [==============================] - 0s 4ms/step - loss: 3.7342 - mae: 3.7342\n",
            "Epoch 48/100\n",
            "1/1 [==============================] - 0s 14ms/step - loss: 3.8060 - mae: 3.8060\n",
            "Epoch 49/100\n",
            "1/1 [==============================] - 0s 5ms/step - loss: 3.7587 - mae: 3.7587\n",
            "Epoch 50/100\n",
            "1/1 [==============================] - 0s 6ms/step - loss: 3.7590 - mae: 3.7590\n",
            "Epoch 51/100\n",
            "1/1 [==============================] - 0s 5ms/step - loss: 3.7746 - mae: 3.7746\n",
            "Epoch 52/100\n",
            "1/1 [==============================] - 0s 7ms/step - loss: 3.7111 - mae: 3.7111\n",
            "Epoch 53/100\n",
            "1/1 [==============================] - 0s 7ms/step - loss: 3.7912 - mae: 3.7912\n",
            "Epoch 54/100\n",
            "1/1 [==============================] - 0s 5ms/step - loss: 3.6639 - mae: 3.6639\n",
            "Epoch 55/100\n",
            "1/1 [==============================] - 0s 7ms/step - loss: 3.8153 - mae: 3.8153\n",
            "Epoch 56/100\n",
            "1/1 [==============================] - 0s 7ms/step - loss: 3.7000 - mae: 3.7000\n",
            "Epoch 57/100\n",
            "1/1 [==============================] - 0s 5ms/step - loss: 3.7495 - mae: 3.7495\n",
            "Epoch 58/100\n",
            "1/1 [==============================] - 0s 6ms/step - loss: 3.7163 - mae: 3.7163\n",
            "Epoch 59/100\n",
            "1/1 [==============================] - 0s 5ms/step - loss: 3.7004 - mae: 3.7004\n",
            "Epoch 60/100\n",
            "1/1 [==============================] - 0s 7ms/step - loss: 3.7334 - mae: 3.7334\n",
            "Epoch 61/100\n",
            "1/1 [==============================] - 0s 5ms/step - loss: 3.6507 - mae: 3.6507\n",
            "Epoch 62/100\n",
            "1/1 [==============================] - 0s 7ms/step - loss: 3.7508 - mae: 3.7508\n",
            "Epoch 63/100\n",
            "1/1 [==============================] - 0s 5ms/step - loss: 3.6241 - mae: 3.6241\n",
            "Epoch 64/100\n",
            "1/1 [==============================] - 0s 6ms/step - loss: 3.7472 - mae: 3.7472\n",
            "Epoch 65/100\n",
            "1/1 [==============================] - 0s 7ms/step - loss: 3.6606 - mae: 3.6606\n",
            "Epoch 66/100\n",
            "1/1 [==============================] - 0s 7ms/step - loss: 3.6837 - mae: 3.6837\n",
            "Epoch 67/100\n",
            "1/1 [==============================] - 0s 7ms/step - loss: 3.6782 - mae: 3.6782\n",
            "Epoch 68/100\n",
            "1/1 [==============================] - 0s 10ms/step - loss: 3.6324 - mae: 3.6324\n",
            "Epoch 69/100\n",
            "1/1 [==============================] - 0s 5ms/step - loss: 3.6965 - mae: 3.6965\n",
            "Epoch 70/100\n",
            "1/1 [==============================] - 0s 7ms/step - loss: 3.5801 - mae: 3.5801\n",
            "Epoch 71/100\n",
            "1/1 [==============================] - 0s 17ms/step - loss: 3.7151 - mae: 3.7151\n",
            "Epoch 72/100\n",
            "1/1 [==============================] - 0s 6ms/step - loss: 3.5892 - mae: 3.5892\n",
            "Epoch 73/100\n",
            "1/1 [==============================] - 0s 12ms/step - loss: 3.6693 - mae: 3.6693\n",
            "Epoch 74/100\n",
            "1/1 [==============================] - 0s 5ms/step - loss: 3.6276 - mae: 3.6276\n",
            "Epoch 75/100\n",
            "1/1 [==============================] - 0s 8ms/step - loss: 3.6100 - mae: 3.6100\n",
            "Epoch 76/100\n",
            "1/1 [==============================] - 0s 5ms/step - loss: 3.6463 - mae: 3.6463\n",
            "Epoch 77/100\n",
            "1/1 [==============================] - 0s 11ms/step - loss: 3.5558 - mae: 3.5558\n",
            "Epoch 78/100\n",
            "1/1 [==============================] - 0s 6ms/step - loss: 3.6656 - mae: 3.6656\n",
            "Epoch 79/100\n",
            "1/1 [==============================] - 0s 7ms/step - loss: 3.5416 - mae: 3.5416\n",
            "Epoch 80/100\n",
            "1/1 [==============================] - 0s 5ms/step - loss: 3.6399 - mae: 3.6399\n",
            "Epoch 81/100\n",
            "1/1 [==============================] - 0s 8ms/step - loss: 3.5605 - mae: 3.5605\n",
            "Epoch 82/100\n",
            "1/1 [==============================] - 0s 5ms/step - loss: 3.5859 - mae: 3.5859\n",
            "Epoch 83/100\n",
            "1/1 [==============================] - 0s 4ms/step - loss: 3.5803 - mae: 3.5803\n",
            "Epoch 84/100\n",
            "1/1 [==============================] - 0s 7ms/step - loss: 3.5386 - mae: 3.5386\n",
            "Epoch 85/100\n",
            "1/1 [==============================] - 0s 4ms/step - loss: 3.6204 - mae: 3.6204\n",
            "Epoch 86/100\n",
            "1/1 [==============================] - 0s 8ms/step - loss: 3.4978 - mae: 3.4978\n",
            "Epoch 87/100\n",
            "1/1 [==============================] - 0s 7ms/step - loss: 3.6084 - mae: 3.6084\n",
            "Epoch 88/100\n",
            "1/1 [==============================] - 0s 12ms/step - loss: 3.5172 - mae: 3.5172\n",
            "Epoch 89/100\n",
            "1/1 [==============================] - 0s 5ms/step - loss: 3.5525 - mae: 3.5525\n",
            "Epoch 90/100\n",
            "1/1 [==============================] - 0s 9ms/step - loss: 3.5373 - mae: 3.5373\n",
            "Epoch 91/100\n",
            "1/1 [==============================] - 0s 7ms/step - loss: 3.4951 - mae: 3.4951\n",
            "Epoch 92/100\n",
            "1/1 [==============================] - 0s 4ms/step - loss: 3.5577 - mae: 3.5577\n",
            "Epoch 93/100\n",
            "1/1 [==============================] - 0s 5ms/step - loss: 3.4373 - mae: 3.4373\n",
            "Epoch 94/100\n",
            "1/1 [==============================] - 0s 4ms/step - loss: 3.5703 - mae: 3.5703\n",
            "Epoch 95/100\n",
            "1/1 [==============================] - 0s 4ms/step - loss: 3.4770 - mae: 3.4770\n",
            "Epoch 96/100\n",
            "1/1 [==============================] - 0s 6ms/step - loss: 3.5122 - mae: 3.5122\n",
            "Epoch 97/100\n",
            "1/1 [==============================] - 0s 4ms/step - loss: 3.4975 - mae: 3.4975\n",
            "Epoch 98/100\n",
            "1/1 [==============================] - 0s 4ms/step - loss: 3.4533 - mae: 3.4533\n",
            "Epoch 99/100\n",
            "1/1 [==============================] - 0s 6ms/step - loss: 3.5190 - mae: 3.5190\n",
            "Epoch 100/100\n",
            "1/1 [==============================] - 0s 8ms/step - loss: 3.3992 - mae: 3.3992\n"
          ],
          "name": "stdout"
        },
        {
          "output_type": "execute_result",
          "data": {
            "text/plain": [
              "<tensorflow.python.keras.callbacks.History at 0x7fdc155288d0>"
            ]
          },
          "metadata": {
            "tags": []
          },
          "execution_count": 11
        }
      ]
    },
    {
      "cell_type": "code",
      "metadata": {
        "id": "thCvYDsaIb6l",
        "colab": {
          "base_uri": "https://localhost:8080/"
        },
        "outputId": "9ccdf635-cc8e-45ad-c28f-7ebd3b1a2791"
      },
      "source": [
        " #prediting the model\n",
        " model.predict([17])"
      ],
      "execution_count": null,
      "outputs": [
        {
          "output_type": "execute_result",
          "data": {
            "text/plain": [
              "array([[30.014841]], dtype=float32)"
            ]
          },
          "metadata": {
            "tags": []
          },
          "execution_count": 12
        }
      ]
    },
    {
      "cell_type": "code",
      "metadata": {
        "id": "Cdnj8YFyJeCE",
        "colab": {
          "base_uri": "https://localhost:8080/"
        },
        "outputId": "27393413-61c2-48c0-f720-571f8550f8f8"
      },
      "source": [
        "#improving model by adding learning rate\n",
        "# set random seed\n",
        "tf.random.set_seed(42)\n",
        "\n",
        "# 1.creating the model\n",
        "model = tf.keras.Sequential([\n",
        "                             \n",
        "                             tf.keras.layers.Dense(100,activation=\"relu\"),\n",
        "                             tf.keras.layers.Dense(100,activation=\"relu\"),\n",
        "                             tf.keras.layers.Dense(1)\n",
        "\n",
        "])\n",
        "\n",
        "# 2. compling the model\n",
        "\n",
        "model.compile(loss = tf.keras.losses.mae,       #mean absolute error\n",
        "              optimizer = tf.keras.optimizers.SGD(learning_rate=0.001), #stochastic gradient descent\n",
        "              metrics = ['mae'])\n",
        "\n",
        "#3. fit the model\n",
        "model.fit(x,y,epochs=100)"
      ],
      "execution_count": null,
      "outputs": [
        {
          "output_type": "stream",
          "text": [
            "Epoch 1/100\n",
            "1/1 [==============================] - 0s 338ms/step - loss: 13.3925 - mae: 13.3925\n",
            "Epoch 2/100\n",
            "1/1 [==============================] - 0s 6ms/step - loss: 13.3306 - mae: 13.3306\n",
            "Epoch 3/100\n",
            "1/1 [==============================] - 0s 5ms/step - loss: 13.2693 - mae: 13.2693\n",
            "Epoch 4/100\n",
            "1/1 [==============================] - 0s 5ms/step - loss: 13.2079 - mae: 13.2079\n",
            "Epoch 5/100\n",
            "1/1 [==============================] - 0s 4ms/step - loss: 13.1466 - mae: 13.1466\n",
            "Epoch 6/100\n",
            "1/1 [==============================] - 0s 4ms/step - loss: 13.0853 - mae: 13.0853\n",
            "Epoch 7/100\n",
            "1/1 [==============================] - 0s 6ms/step - loss: 13.0238 - mae: 13.0238\n",
            "Epoch 8/100\n",
            "1/1 [==============================] - 0s 4ms/step - loss: 12.9625 - mae: 12.9625\n",
            "Epoch 9/100\n",
            "1/1 [==============================] - 0s 4ms/step - loss: 12.9032 - mae: 12.9032\n",
            "Epoch 10/100\n",
            "1/1 [==============================] - 0s 6ms/step - loss: 12.8435 - mae: 12.8435\n",
            "Epoch 11/100\n",
            "1/1 [==============================] - 0s 4ms/step - loss: 12.7838 - mae: 12.7838\n",
            "Epoch 12/100\n",
            "1/1 [==============================] - 0s 6ms/step - loss: 12.7239 - mae: 12.7239\n",
            "Epoch 13/100\n",
            "1/1 [==============================] - 0s 4ms/step - loss: 12.6649 - mae: 12.6649\n",
            "Epoch 14/100\n",
            "1/1 [==============================] - 0s 5ms/step - loss: 12.6061 - mae: 12.6061\n",
            "Epoch 15/100\n",
            "1/1 [==============================] - 0s 4ms/step - loss: 12.5469 - mae: 12.5469\n",
            "Epoch 16/100\n",
            "1/1 [==============================] - 0s 5ms/step - loss: 12.4876 - mae: 12.4876\n",
            "Epoch 17/100\n",
            "1/1 [==============================] - 0s 8ms/step - loss: 12.4275 - mae: 12.4275\n",
            "Epoch 18/100\n",
            "1/1 [==============================] - 0s 4ms/step - loss: 12.3673 - mae: 12.3673\n",
            "Epoch 19/100\n",
            "1/1 [==============================] - 0s 5ms/step - loss: 12.3068 - mae: 12.3068\n",
            "Epoch 20/100\n",
            "1/1 [==============================] - 0s 4ms/step - loss: 12.2459 - mae: 12.2459\n",
            "Epoch 21/100\n",
            "1/1 [==============================] - 0s 5ms/step - loss: 12.1852 - mae: 12.1852\n",
            "Epoch 22/100\n",
            "1/1 [==============================] - 0s 7ms/step - loss: 12.1244 - mae: 12.1244\n",
            "Epoch 23/100\n",
            "1/1 [==============================] - 0s 13ms/step - loss: 12.0632 - mae: 12.0632\n",
            "Epoch 24/100\n",
            "1/1 [==============================] - 0s 4ms/step - loss: 12.0015 - mae: 12.0015\n",
            "Epoch 25/100\n",
            "1/1 [==============================] - 0s 6ms/step - loss: 11.9393 - mae: 11.9393\n",
            "Epoch 26/100\n",
            "1/1 [==============================] - 0s 4ms/step - loss: 11.8760 - mae: 11.8760\n",
            "Epoch 27/100\n",
            "1/1 [==============================] - 0s 6ms/step - loss: 11.8122 - mae: 11.8122\n",
            "Epoch 28/100\n",
            "1/1 [==============================] - 0s 4ms/step - loss: 11.7480 - mae: 11.7480\n",
            "Epoch 29/100\n",
            "1/1 [==============================] - 0s 4ms/step - loss: 11.6831 - mae: 11.6831\n",
            "Epoch 30/100\n",
            "1/1 [==============================] - 0s 4ms/step - loss: 11.6175 - mae: 11.6175\n",
            "Epoch 31/100\n",
            "1/1 [==============================] - 0s 4ms/step - loss: 11.5514 - mae: 11.5514\n",
            "Epoch 32/100\n",
            "1/1 [==============================] - 0s 7ms/step - loss: 11.4845 - mae: 11.4845\n",
            "Epoch 33/100\n",
            "1/1 [==============================] - 0s 4ms/step - loss: 11.4170 - mae: 11.4170\n",
            "Epoch 34/100\n",
            "1/1 [==============================] - 0s 4ms/step - loss: 11.3489 - mae: 11.3489\n",
            "Epoch 35/100\n",
            "1/1 [==============================] - 0s 8ms/step - loss: 11.2800 - mae: 11.2800\n",
            "Epoch 36/100\n",
            "1/1 [==============================] - 0s 4ms/step - loss: 11.2107 - mae: 11.2107\n",
            "Epoch 37/100\n",
            "1/1 [==============================] - 0s 3ms/step - loss: 11.1414 - mae: 11.1414\n",
            "Epoch 38/100\n",
            "1/1 [==============================] - 0s 4ms/step - loss: 11.0741 - mae: 11.0741\n",
            "Epoch 39/100\n",
            "1/1 [==============================] - 0s 4ms/step - loss: 11.0063 - mae: 11.0063\n",
            "Epoch 40/100\n",
            "1/1 [==============================] - 0s 4ms/step - loss: 10.9380 - mae: 10.9380\n",
            "Epoch 41/100\n",
            "1/1 [==============================] - 0s 7ms/step - loss: 10.8696 - mae: 10.8696\n",
            "Epoch 42/100\n",
            "1/1 [==============================] - 0s 3ms/step - loss: 10.8018 - mae: 10.8018\n",
            "Epoch 43/100\n",
            "1/1 [==============================] - 0s 5ms/step - loss: 10.7329 - mae: 10.7329\n",
            "Epoch 44/100\n",
            "1/1 [==============================] - 0s 4ms/step - loss: 10.6633 - mae: 10.6633\n",
            "Epoch 45/100\n",
            "1/1 [==============================] - 0s 6ms/step - loss: 10.5928 - mae: 10.5928\n",
            "Epoch 46/100\n",
            "1/1 [==============================] - 0s 4ms/step - loss: 10.5213 - mae: 10.5213\n",
            "Epoch 47/100\n",
            "1/1 [==============================] - 0s 4ms/step - loss: 10.4489 - mae: 10.4489\n",
            "Epoch 48/100\n",
            "1/1 [==============================] - 0s 5ms/step - loss: 10.3757 - mae: 10.3757\n",
            "Epoch 49/100\n",
            "1/1 [==============================] - 0s 4ms/step - loss: 10.3016 - mae: 10.3016\n",
            "Epoch 50/100\n",
            "1/1 [==============================] - 0s 4ms/step - loss: 10.2269 - mae: 10.2269\n",
            "Epoch 51/100\n",
            "1/1 [==============================] - 0s 5ms/step - loss: 10.1512 - mae: 10.1512\n",
            "Epoch 52/100\n",
            "1/1 [==============================] - 0s 4ms/step - loss: 10.0756 - mae: 10.0756\n",
            "Epoch 53/100\n",
            "1/1 [==============================] - 0s 5ms/step - loss: 9.9991 - mae: 9.9991\n",
            "Epoch 54/100\n",
            "1/1 [==============================] - 0s 4ms/step - loss: 9.9216 - mae: 9.9216\n",
            "Epoch 55/100\n",
            "1/1 [==============================] - 0s 6ms/step - loss: 9.8427 - mae: 9.8427\n",
            "Epoch 56/100\n",
            "1/1 [==============================] - 0s 5ms/step - loss: 9.7628 - mae: 9.7628\n",
            "Epoch 57/100\n",
            "1/1 [==============================] - 0s 15ms/step - loss: 9.6815 - mae: 9.6815\n",
            "Epoch 58/100\n",
            "1/1 [==============================] - 0s 5ms/step - loss: 9.5991 - mae: 9.5991\n",
            "Epoch 59/100\n",
            "1/1 [==============================] - 0s 6ms/step - loss: 9.5153 - mae: 9.5153\n",
            "Epoch 60/100\n",
            "1/1 [==============================] - 0s 5ms/step - loss: 9.4303 - mae: 9.4303\n",
            "Epoch 61/100\n",
            "1/1 [==============================] - 0s 9ms/step - loss: 9.3439 - mae: 9.3439\n",
            "Epoch 62/100\n",
            "1/1 [==============================] - 0s 12ms/step - loss: 9.2563 - mae: 9.2563\n",
            "Epoch 63/100\n",
            "1/1 [==============================] - 0s 7ms/step - loss: 9.1671 - mae: 9.1671\n",
            "Epoch 64/100\n",
            "1/1 [==============================] - 0s 7ms/step - loss: 9.0766 - mae: 9.0766\n",
            "Epoch 65/100\n",
            "1/1 [==============================] - 0s 6ms/step - loss: 8.9846 - mae: 8.9846\n",
            "Epoch 66/100\n",
            "1/1 [==============================] - 0s 7ms/step - loss: 8.8921 - mae: 8.8921\n",
            "Epoch 67/100\n",
            "1/1 [==============================] - 0s 8ms/step - loss: 8.7980 - mae: 8.7980\n",
            "Epoch 68/100\n",
            "1/1 [==============================] - 0s 7ms/step - loss: 8.7022 - mae: 8.7022\n",
            "Epoch 69/100\n",
            "1/1 [==============================] - 0s 6ms/step - loss: 8.6048 - mae: 8.6048\n",
            "Epoch 70/100\n",
            "1/1 [==============================] - 0s 6ms/step - loss: 8.5055 - mae: 8.5055\n",
            "Epoch 71/100\n",
            "1/1 [==============================] - 0s 17ms/step - loss: 8.4045 - mae: 8.4045\n",
            "Epoch 72/100\n",
            "1/1 [==============================] - 0s 12ms/step - loss: 8.3015 - mae: 8.3015\n",
            "Epoch 73/100\n",
            "1/1 [==============================] - 0s 11ms/step - loss: 8.1968 - mae: 8.1968\n",
            "Epoch 74/100\n",
            "1/1 [==============================] - 0s 6ms/step - loss: 8.0900 - mae: 8.0900\n",
            "Epoch 75/100\n",
            "1/1 [==============================] - 0s 5ms/step - loss: 7.9812 - mae: 7.9812\n",
            "Epoch 76/100\n",
            "1/1 [==============================] - 0s 7ms/step - loss: 7.8703 - mae: 7.8703\n",
            "Epoch 77/100\n",
            "1/1 [==============================] - 0s 6ms/step - loss: 7.7573 - mae: 7.7573\n",
            "Epoch 78/100\n",
            "1/1 [==============================] - 0s 5ms/step - loss: 7.6420 - mae: 7.6420\n",
            "Epoch 79/100\n",
            "1/1 [==============================] - 0s 5ms/step - loss: 7.5246 - mae: 7.5246\n",
            "Epoch 80/100\n",
            "1/1 [==============================] - 0s 4ms/step - loss: 7.4048 - mae: 7.4048\n",
            "Epoch 81/100\n",
            "1/1 [==============================] - 0s 11ms/step - loss: 7.2826 - mae: 7.2826\n",
            "Epoch 82/100\n",
            "1/1 [==============================] - 0s 4ms/step - loss: 7.1570 - mae: 7.1570\n",
            "Epoch 83/100\n",
            "1/1 [==============================] - 0s 5ms/step - loss: 7.0277 - mae: 7.0277\n",
            "Epoch 84/100\n",
            "1/1 [==============================] - 0s 6ms/step - loss: 6.8956 - mae: 6.8956\n",
            "Epoch 85/100\n",
            "1/1 [==============================] - 0s 12ms/step - loss: 6.7610 - mae: 6.7610\n",
            "Epoch 86/100\n",
            "1/1 [==============================] - 0s 12ms/step - loss: 6.6236 - mae: 6.6236\n",
            "Epoch 87/100\n",
            "1/1 [==============================] - 0s 9ms/step - loss: 6.4835 - mae: 6.4835\n",
            "Epoch 88/100\n",
            "1/1 [==============================] - 0s 6ms/step - loss: 6.3403 - mae: 6.3403\n",
            "Epoch 89/100\n",
            "1/1 [==============================] - 0s 10ms/step - loss: 6.1964 - mae: 6.1964\n",
            "Epoch 90/100\n",
            "1/1 [==============================] - 0s 6ms/step - loss: 6.0609 - mae: 6.0609\n",
            "Epoch 91/100\n",
            "1/1 [==============================] - 0s 6ms/step - loss: 5.9229 - mae: 5.9229\n",
            "Epoch 92/100\n",
            "1/1 [==============================] - 0s 7ms/step - loss: 5.7822 - mae: 5.7822\n",
            "Epoch 93/100\n",
            "1/1 [==============================] - 0s 6ms/step - loss: 5.6390 - mae: 5.6390\n",
            "Epoch 94/100\n",
            "1/1 [==============================] - 0s 7ms/step - loss: 5.4928 - mae: 5.4928\n",
            "Epoch 95/100\n",
            "1/1 [==============================] - 0s 4ms/step - loss: 5.3433 - mae: 5.3433\n",
            "Epoch 96/100\n",
            "1/1 [==============================] - 0s 4ms/step - loss: 5.1902 - mae: 5.1902\n",
            "Epoch 97/100\n",
            "1/1 [==============================] - 0s 5ms/step - loss: 5.0330 - mae: 5.0330\n",
            "Epoch 98/100\n",
            "1/1 [==============================] - 0s 6ms/step - loss: 4.8724 - mae: 4.8724\n",
            "Epoch 99/100\n",
            "1/1 [==============================] - 0s 4ms/step - loss: 4.7077 - mae: 4.7077\n",
            "Epoch 100/100\n",
            "1/1 [==============================] - 0s 7ms/step - loss: 4.5398 - mae: 4.5398\n"
          ],
          "name": "stdout"
        },
        {
          "output_type": "execute_result",
          "data": {
            "text/plain": [
              "<tensorflow.python.keras.callbacks.History at 0x7fdc15ee9090>"
            ]
          },
          "metadata": {
            "tags": []
          },
          "execution_count": 13
        }
      ]
    },
    {
      "cell_type": "code",
      "metadata": {
        "id": "yjGcAiSTKDWW",
        "colab": {
          "base_uri": "https://localhost:8080/"
        },
        "outputId": "ec3ace1a-8e90-4d13-8309-b3e491d2e7de"
      },
      "source": [
        "# set random seed\n",
        "tf.random.set_seed(42)\n",
        "\n",
        "# 1.creating the model\n",
        "model = tf.keras.Sequential([\n",
        "                             \n",
        "                             tf.keras.layers.Dense(100,activation=\"relu\"),\n",
        "                             tf.keras.layers.Dense(100,activation=\"relu\"),\n",
        "                             tf.keras.layers.Dense(1)\n",
        "\n",
        "])\n",
        "\n",
        "# 2. compling the model\n",
        "\n",
        "model.compile(loss = tf.keras.losses.mae,       #mean absolute error\n",
        "              optimizer = tf.keras.optimizers.Adam(learning_rate=0.01), #stochastic gradient descent\n",
        "              metrics = ['mae'])\n",
        "\n",
        "#3. fit the model\n",
        "model.fit(x,y,epochs=100)"
      ],
      "execution_count": null,
      "outputs": [
        {
          "output_type": "stream",
          "text": [
            "Epoch 1/100\n",
            "1/1 [==============================] - 0s 384ms/step - loss: 13.3925 - mae: 13.3925\n",
            "Epoch 2/100\n",
            "1/1 [==============================] - 0s 7ms/step - loss: 10.5473 - mae: 10.5473\n",
            "Epoch 3/100\n",
            "1/1 [==============================] - 0s 5ms/step - loss: 8.6333 - mae: 8.6333\n",
            "Epoch 4/100\n",
            "1/1 [==============================] - 0s 7ms/step - loss: 6.5549 - mae: 6.5549\n",
            "Epoch 5/100\n",
            "1/1 [==============================] - 0s 6ms/step - loss: 4.1624 - mae: 4.1624\n",
            "Epoch 6/100\n",
            "1/1 [==============================] - 0s 8ms/step - loss: 4.3911 - mae: 4.3911\n",
            "Epoch 7/100\n",
            "1/1 [==============================] - 0s 8ms/step - loss: 5.1939 - mae: 5.1939\n",
            "Epoch 8/100\n",
            "1/1 [==============================] - 0s 6ms/step - loss: 5.3084 - mae: 5.3084\n",
            "Epoch 9/100\n",
            "1/1 [==============================] - 0s 6ms/step - loss: 4.9715 - mae: 4.9715\n",
            "Epoch 10/100\n",
            "1/1 [==============================] - 0s 5ms/step - loss: 4.3370 - mae: 4.3370\n",
            "Epoch 11/100\n",
            "1/1 [==============================] - 0s 9ms/step - loss: 3.9085 - mae: 3.9085\n",
            "Epoch 12/100\n",
            "1/1 [==============================] - 0s 8ms/step - loss: 3.6810 - mae: 3.6810\n",
            "Epoch 13/100\n",
            "1/1 [==============================] - 0s 6ms/step - loss: 3.9440 - mae: 3.9440\n",
            "Epoch 14/100\n",
            "1/1 [==============================] - 0s 8ms/step - loss: 4.0090 - mae: 4.0090\n",
            "Epoch 15/100\n",
            "1/1 [==============================] - 0s 4ms/step - loss: 3.7129 - mae: 3.7129\n",
            "Epoch 16/100\n",
            "1/1 [==============================] - 0s 6ms/step - loss: 3.4889 - mae: 3.4889\n",
            "Epoch 17/100\n",
            "1/1 [==============================] - 0s 6ms/step - loss: 3.5315 - mae: 3.5315\n",
            "Epoch 18/100\n",
            "1/1 [==============================] - 0s 10ms/step - loss: 3.5791 - mae: 3.5791\n",
            "Epoch 19/100\n",
            "1/1 [==============================] - 0s 5ms/step - loss: 3.6319 - mae: 3.6319\n",
            "Epoch 20/100\n",
            "1/1 [==============================] - 0s 7ms/step - loss: 3.4998 - mae: 3.4998\n",
            "Epoch 21/100\n",
            "1/1 [==============================] - 0s 7ms/step - loss: 3.2525 - mae: 3.2525\n",
            "Epoch 22/100\n",
            "1/1 [==============================] - 0s 8ms/step - loss: 3.0367 - mae: 3.0367\n",
            "Epoch 23/100\n",
            "1/1 [==============================] - 0s 6ms/step - loss: 2.8001 - mae: 2.8001\n",
            "Epoch 24/100\n",
            "1/1 [==============================] - 0s 7ms/step - loss: 2.7762 - mae: 2.7762\n",
            "Epoch 25/100\n",
            "1/1 [==============================] - 0s 7ms/step - loss: 2.6347 - mae: 2.6347\n",
            "Epoch 26/100\n",
            "1/1 [==============================] - 0s 8ms/step - loss: 2.3359 - mae: 2.3359\n",
            "Epoch 27/100\n",
            "1/1 [==============================] - 0s 8ms/step - loss: 2.1096 - mae: 2.1096\n",
            "Epoch 28/100\n",
            "1/1 [==============================] - 0s 7ms/step - loss: 2.0459 - mae: 2.0459\n",
            "Epoch 29/100\n",
            "1/1 [==============================] - 0s 9ms/step - loss: 1.7133 - mae: 1.7133\n",
            "Epoch 30/100\n",
            "1/1 [==============================] - 0s 13ms/step - loss: 1.2715 - mae: 1.2715\n",
            "Epoch 31/100\n",
            "1/1 [==============================] - 0s 10ms/step - loss: 1.4804 - mae: 1.4804\n",
            "Epoch 32/100\n",
            "1/1 [==============================] - 0s 8ms/step - loss: 0.8657 - mae: 0.8657\n",
            "Epoch 33/100\n",
            "1/1 [==============================] - 0s 8ms/step - loss: 0.8545 - mae: 0.8545\n",
            "Epoch 34/100\n",
            "1/1 [==============================] - 0s 9ms/step - loss: 1.1276 - mae: 1.1276\n",
            "Epoch 35/100\n",
            "1/1 [==============================] - 0s 8ms/step - loss: 0.6330 - mae: 0.6330\n",
            "Epoch 36/100\n",
            "1/1 [==============================] - 0s 7ms/step - loss: 1.3774 - mae: 1.3774\n",
            "Epoch 37/100\n",
            "1/1 [==============================] - 0s 10ms/step - loss: 1.6234 - mae: 1.6234\n",
            "Epoch 38/100\n",
            "1/1 [==============================] - 0s 6ms/step - loss: 1.6213 - mae: 1.6213\n",
            "Epoch 39/100\n",
            "1/1 [==============================] - 0s 7ms/step - loss: 0.9908 - mae: 0.9908\n",
            "Epoch 40/100\n",
            "1/1 [==============================] - 0s 8ms/step - loss: 0.7822 - mae: 0.7822\n",
            "Epoch 41/100\n",
            "1/1 [==============================] - 0s 5ms/step - loss: 1.1940 - mae: 1.1940\n",
            "Epoch 42/100\n",
            "1/1 [==============================] - 0s 7ms/step - loss: 0.7952 - mae: 0.7952\n",
            "Epoch 43/100\n",
            "1/1 [==============================] - 0s 6ms/step - loss: 0.5293 - mae: 0.5293\n",
            "Epoch 44/100\n",
            "1/1 [==============================] - 0s 10ms/step - loss: 0.9580 - mae: 0.9580\n",
            "Epoch 45/100\n",
            "1/1 [==============================] - 0s 6ms/step - loss: 0.7484 - mae: 0.7484\n",
            "Epoch 46/100\n",
            "1/1 [==============================] - 0s 8ms/step - loss: 0.6876 - mae: 0.6876\n",
            "Epoch 47/100\n",
            "1/1 [==============================] - 0s 6ms/step - loss: 0.8283 - mae: 0.8283\n",
            "Epoch 48/100\n",
            "1/1 [==============================] - 0s 7ms/step - loss: 0.4657 - mae: 0.4657\n",
            "Epoch 49/100\n",
            "1/1 [==============================] - 0s 7ms/step - loss: 0.4999 - mae: 0.4999\n",
            "Epoch 50/100\n",
            "1/1 [==============================] - 0s 7ms/step - loss: 0.7487 - mae: 0.7487\n",
            "Epoch 51/100\n",
            "1/1 [==============================] - 0s 8ms/step - loss: 0.4757 - mae: 0.4757\n",
            "Epoch 52/100\n",
            "1/1 [==============================] - 0s 10ms/step - loss: 0.4008 - mae: 0.4008\n",
            "Epoch 53/100\n",
            "1/1 [==============================] - 0s 7ms/step - loss: 0.6783 - mae: 0.6783\n",
            "Epoch 54/100\n",
            "1/1 [==============================] - 0s 9ms/step - loss: 0.3301 - mae: 0.3301\n",
            "Epoch 55/100\n",
            "1/1 [==============================] - 0s 8ms/step - loss: 0.5816 - mae: 0.5816\n",
            "Epoch 56/100\n",
            "1/1 [==============================] - 0s 7ms/step - loss: 0.8421 - mae: 0.8421\n",
            "Epoch 57/100\n",
            "1/1 [==============================] - 0s 7ms/step - loss: 0.5778 - mae: 0.5778\n",
            "Epoch 58/100\n",
            "1/1 [==============================] - 0s 7ms/step - loss: 0.3563 - mae: 0.3563\n",
            "Epoch 59/100\n",
            "1/1 [==============================] - 0s 7ms/step - loss: 0.5269 - mae: 0.5269\n",
            "Epoch 60/100\n",
            "1/1 [==============================] - 0s 8ms/step - loss: 0.4272 - mae: 0.4272\n",
            "Epoch 61/100\n",
            "1/1 [==============================] - 0s 8ms/step - loss: 0.5878 - mae: 0.5878\n",
            "Epoch 62/100\n",
            "1/1 [==============================] - 0s 11ms/step - loss: 0.3096 - mae: 0.3096\n",
            "Epoch 63/100\n",
            "1/1 [==============================] - 0s 7ms/step - loss: 0.5387 - mae: 0.5387\n",
            "Epoch 64/100\n",
            "1/1 [==============================] - 0s 15ms/step - loss: 0.6816 - mae: 0.6816\n",
            "Epoch 65/100\n",
            "1/1 [==============================] - 0s 8ms/step - loss: 0.3633 - mae: 0.3633\n",
            "Epoch 66/100\n",
            "1/1 [==============================] - 0s 6ms/step - loss: 0.4334 - mae: 0.4334\n",
            "Epoch 67/100\n",
            "1/1 [==============================] - 0s 7ms/step - loss: 0.3199 - mae: 0.3199\n",
            "Epoch 68/100\n",
            "1/1 [==============================] - 0s 15ms/step - loss: 0.5914 - mae: 0.5914\n",
            "Epoch 69/100\n",
            "1/1 [==============================] - 0s 8ms/step - loss: 0.6533 - mae: 0.6533\n",
            "Epoch 70/100\n",
            "1/1 [==============================] - 0s 11ms/step - loss: 0.1828 - mae: 0.1828\n",
            "Epoch 71/100\n",
            "1/1 [==============================] - 0s 5ms/step - loss: 0.6336 - mae: 0.6336\n",
            "Epoch 72/100\n",
            "1/1 [==============================] - 0s 4ms/step - loss: 0.8594 - mae: 0.8594\n",
            "Epoch 73/100\n",
            "1/1 [==============================] - 0s 4ms/step - loss: 0.5859 - mae: 0.5859\n",
            "Epoch 74/100\n",
            "1/1 [==============================] - 0s 7ms/step - loss: 0.3015 - mae: 0.3015\n",
            "Epoch 75/100\n",
            "1/1 [==============================] - 0s 7ms/step - loss: 0.4457 - mae: 0.4457\n",
            "Epoch 76/100\n",
            "1/1 [==============================] - 0s 8ms/step - loss: 0.3120 - mae: 0.3120\n",
            "Epoch 77/100\n",
            "1/1 [==============================] - 0s 6ms/step - loss: 0.4690 - mae: 0.4690\n",
            "Epoch 78/100\n",
            "1/1 [==============================] - 0s 7ms/step - loss: 0.1914 - mae: 0.1914\n",
            "Epoch 79/100\n",
            "1/1 [==============================] - 0s 10ms/step - loss: 0.5596 - mae: 0.5596\n",
            "Epoch 80/100\n",
            "1/1 [==============================] - 0s 5ms/step - loss: 0.6564 - mae: 0.6564\n",
            "Epoch 81/100\n",
            "1/1 [==============================] - 0s 6ms/step - loss: 0.1960 - mae: 0.1960\n",
            "Epoch 82/100\n",
            "1/1 [==============================] - 0s 7ms/step - loss: 0.7367 - mae: 0.7367\n",
            "Epoch 83/100\n",
            "1/1 [==============================] - 0s 6ms/step - loss: 1.0165 - mae: 1.0165\n",
            "Epoch 84/100\n",
            "1/1 [==============================] - 0s 5ms/step - loss: 0.8211 - mae: 0.8211\n",
            "Epoch 85/100\n",
            "1/1 [==============================] - 0s 8ms/step - loss: 0.2942 - mae: 0.2942\n",
            "Epoch 86/100\n",
            "1/1 [==============================] - 0s 5ms/step - loss: 0.7236 - mae: 0.7236\n",
            "Epoch 87/100\n",
            "1/1 [==============================] - 0s 7ms/step - loss: 1.0451 - mae: 1.0451\n",
            "Epoch 88/100\n",
            "1/1 [==============================] - 0s 8ms/step - loss: 0.8408 - mae: 0.8408\n",
            "Epoch 89/100\n",
            "1/1 [==============================] - 0s 5ms/step - loss: 0.1768 - mae: 0.1768\n",
            "Epoch 90/100\n",
            "1/1 [==============================] - 0s 8ms/step - loss: 0.6313 - mae: 0.6313\n",
            "Epoch 91/100\n",
            "1/1 [==============================] - 0s 5ms/step - loss: 0.8606 - mae: 0.8606\n",
            "Epoch 92/100\n",
            "1/1 [==============================] - 0s 7ms/step - loss: 0.6278 - mae: 0.6278\n",
            "Epoch 93/100\n",
            "1/1 [==============================] - 0s 7ms/step - loss: 0.1965 - mae: 0.1965\n",
            "Epoch 94/100\n",
            "1/1 [==============================] - 0s 10ms/step - loss: 0.5692 - mae: 0.5692\n",
            "Epoch 95/100\n",
            "1/1 [==============================] - 0s 6ms/step - loss: 0.5449 - mae: 0.5449\n",
            "Epoch 96/100\n",
            "1/1 [==============================] - 0s 8ms/step - loss: 0.2385 - mae: 0.2385\n",
            "Epoch 97/100\n",
            "1/1 [==============================] - 0s 7ms/step - loss: 0.3127 - mae: 0.3127\n",
            "Epoch 98/100\n",
            "1/1 [==============================] - 0s 11ms/step - loss: 0.1572 - mae: 0.1572\n",
            "Epoch 99/100\n",
            "1/1 [==============================] - 0s 6ms/step - loss: 0.2958 - mae: 0.2958\n",
            "Epoch 100/100\n",
            "1/1 [==============================] - 0s 7ms/step - loss: 0.0654 - mae: 0.0654\n"
          ],
          "name": "stdout"
        },
        {
          "output_type": "execute_result",
          "data": {
            "text/plain": [
              "<tensorflow.python.keras.callbacks.History at 0x7fdc15eeee50>"
            ]
          },
          "metadata": {
            "tags": []
          },
          "execution_count": 14
        }
      ]
    },
    {
      "cell_type": "code",
      "metadata": {
        "id": "95FDKNgHKM--",
        "colab": {
          "base_uri": "https://localhost:8080/"
        },
        "outputId": "40e2f331-6238-44a6-ebe4-65aab5b29519"
      },
      "source": [
        "model.predict([17])"
      ],
      "execution_count": null,
      "outputs": [
        {
          "output_type": "execute_result",
          "data": {
            "text/plain": [
              "array([[26.77314]], dtype=float32)"
            ]
          },
          "metadata": {
            "tags": []
          },
          "execution_count": 15
        }
      ]
    },
    {
      "cell_type": "markdown",
      "metadata": {
        "id": "WpK51EquA5OP"
      },
      "source": [
        "when it comes to evalution... there are 3 words should memorize\n",
        ">**\"visualize  visualize visualize\"**"
      ]
    },
    {
      "cell_type": "markdown",
      "metadata": {
        "id": "HaUgfVjdBZMU"
      },
      "source": [
        "Its a good idea to visualize\n",
        "* the data - what data we are working with? what does it look like?\n",
        "* The model itself - what does model look like?\n",
        "* The training of the model - how does a model perform while it learn?\n",
        "* The predicition of the model - how do the prediction of the model like up aganist the ground truth"
      ]
    },
    {
      "cell_type": "code",
      "metadata": {
        "id": "TYpMqJ6ZKTyU"
      },
      "source": [
        "x = tf.range(-100,100,4)"
      ],
      "execution_count": null,
      "outputs": []
    },
    {
      "cell_type": "code",
      "metadata": {
        "id": "o8wjim4dtmqZ",
        "colab": {
          "base_uri": "https://localhost:8080/"
        },
        "outputId": "83712635-1b11-4569-fa27-fe066da554e7"
      },
      "source": [
        "x"
      ],
      "execution_count": null,
      "outputs": [
        {
          "output_type": "execute_result",
          "data": {
            "text/plain": [
              "<tf.Tensor: shape=(50,), dtype=int32, numpy=\n",
              "array([-100,  -96,  -92,  -88,  -84,  -80,  -76,  -72,  -68,  -64,  -60,\n",
              "        -56,  -52,  -48,  -44,  -40,  -36,  -32,  -28,  -24,  -20,  -16,\n",
              "        -12,   -8,   -4,    0,    4,    8,   12,   16,   20,   24,   28,\n",
              "         32,   36,   40,   44,   48,   52,   56,   60,   64,   68,   72,\n",
              "         76,   80,   84,   88,   92,   96], dtype=int32)>"
            ]
          },
          "metadata": {
            "tags": []
          },
          "execution_count": 17
        }
      ]
    },
    {
      "cell_type": "code",
      "metadata": {
        "id": "Nm6z9hXBtnQa"
      },
      "source": [
        "y = x+10"
      ],
      "execution_count": null,
      "outputs": []
    },
    {
      "cell_type": "code",
      "metadata": {
        "id": "qEjreHHcts4P",
        "colab": {
          "base_uri": "https://localhost:8080/"
        },
        "outputId": "bd206160-49bf-483a-f233-a17b6722d354"
      },
      "source": [
        "y"
      ],
      "execution_count": null,
      "outputs": [
        {
          "output_type": "execute_result",
          "data": {
            "text/plain": [
              "<tf.Tensor: shape=(50,), dtype=int32, numpy=\n",
              "array([-90, -86, -82, -78, -74, -70, -66, -62, -58, -54, -50, -46, -42,\n",
              "       -38, -34, -30, -26, -22, -18, -14, -10,  -6,  -2,   2,   6,  10,\n",
              "        14,  18,  22,  26,  30,  34,  38,  42,  46,  50,  54,  58,  62,\n",
              "        66,  70,  74,  78,  82,  86,  90,  94,  98, 102, 106], dtype=int32)>"
            ]
          },
          "metadata": {
            "tags": []
          },
          "execution_count": 19
        }
      ]
    },
    {
      "cell_type": "code",
      "metadata": {
        "id": "zEKRQoxGtton",
        "colab": {
          "base_uri": "https://localhost:8080/",
          "height": 282
        },
        "outputId": "dda4a253-3444-40f6-ea64-b6de10aa08cb"
      },
      "source": [
        "plt.scatter(x,y)"
      ],
      "execution_count": null,
      "outputs": [
        {
          "output_type": "execute_result",
          "data": {
            "text/plain": [
              "<matplotlib.collections.PathCollection at 0x7fdc15edc8d0>"
            ]
          },
          "metadata": {
            "tags": []
          },
          "execution_count": 20
        },
        {
          "output_type": "display_data",
          "data": {
            "image/png": "[encoded data removed]",
            "text/plain": [
              "<Figure size 432x288 with 1 Axes>"
            ]
          },
          "metadata": {
            "tags": [],
            "needs_background": "light"
          }
        }
      ]
    },
    {
      "cell_type": "code",
      "metadata": {
        "id": "FPIHA5bOtx4H"
      },
      "source": [
        "x_train = x[:40]\n",
        "y_train = y[:40]"
      ],
      "execution_count": null,
      "outputs": []
    },
    {
      "cell_type": "code",
      "metadata": {
        "id": "ej22DZxMt6-n"
      },
      "source": [
        "x_test = x[40:]\n",
        "y_test = y[40:]"
      ],
      "execution_count": null,
      "outputs": []
    },
    {
      "cell_type": "code",
      "metadata": {
        "id": "iZA7vBZKuaOK",
        "colab": {
          "base_uri": "https://localhost:8080/",
          "height": 445
        },
        "outputId": "c0d7b648-f076-46ab-cd14-231c4e2cebf1"
      },
      "source": [
        "plt.figure(figsize=(10,7))\n",
        "plt.scatter(x_train,y_train,c=\"b\",label=\"Training Data\")\n",
        "plt.scatter(x_test,y_test,c = \"g\",label=\"Test data\")\n",
        "plt.legend()"
      ],
      "execution_count": null,
      "outputs": [
        {
          "output_type": "execute_result",
          "data": {
            "text/plain": [
              "<matplotlib.legend.Legend at 0x7fdc143c7d50>"
            ]
          },
          "metadata": {
            "tags": []
          },
          "execution_count": 23
        },
        {
          "output_type": "display_data",
          "data": {
            "image/png": "[encoded data removed]",
            "text/plain": [
              "<Figure size 720x504 with 1 Axes>"
            ]
          },
          "metadata": {
            "tags": [],
            "needs_background": "light"
          }
        }
      ]
    },
    {
      "cell_type": "code",
      "metadata": {
        "id": "r0zlQM_7u5qn",
        "colab": {
          "base_uri": "https://localhost:8080/"
        },
        "outputId": "314a7b49-045d-4c13-a71e-bbdaac5796a3"
      },
      "source": [
        "model = tf.keras.Sequential([\n",
        "          tf.keras.layers.Input(1,),\n",
        "          tf.keras.layers.Dense(50,activation=None),\n",
        "])\n",
        "model.compile(loss=tf.keras.losses.mae,\n",
        "              optimizer=tf.keras.optimizers.SGD(),\n",
        "              metrics=['mae'])"
      ],
      "execution_count": null,
      "outputs": [
        {
          "output_type": "stream",
          "text": [
            "WARNING:tensorflow:Please add `keras.layers.InputLayer` instead of `keras.Input` to Sequential model. `keras.Input` is intended to be used by Functional model.\n"
          ],
          "name": "stdout"
        }
      ]
    },
    {
      "cell_type": "code",
      "metadata": {
        "id": "IbX3R9h_--Ss",
        "colab": {
          "base_uri": "https://localhost:8080/"
        },
        "outputId": "80e560c8-7bab-416f-9e71-7cfb5dc0537f"
      },
      "source": [
        "model.summary()"
      ],
      "execution_count": null,
      "outputs": [
        {
          "output_type": "stream",
          "text": [
            "Model: \"sequential_5\"\n",
            "_________________________________________________________________\n",
            "Layer (type)                 Output Shape              Param #   \n",
            "=================================================================\n",
            "dense_11 (Dense)             (None, 50)                100       \n",
            "=================================================================\n",
            "Total params: 100\n",
            "Trainable params: 100\n",
            "Non-trainable params: 0\n",
            "_________________________________________________________________\n"
          ],
          "name": "stdout"
        }
      ]
    },
    {
      "cell_type": "markdown",
      "metadata": {
        "id": "X1MSbjkN_VJ8"
      },
      "source": [
        "* Total param = total number of parameter in the model\n",
        "\n",
        "* Trainable param = these are the parameter (patterns) the model can updates as its trains\n",
        "\n",
        "* Non-trainable param = These parameters arent updated during training (this is typical when you bring in already learn patterns or parameters from other models during **Transfer Learning**\n",
        "\n",
        "**Resources** for more information check MIT introduction to deep learning videos "
      ]
    },
    {
      "cell_type": "code",
      "metadata": {
        "id": "Wyg70tRw_Q5M",
        "colab": {
          "base_uri": "https://localhost:8080/",
          "height": 201
        },
        "outputId": "785b85f0-e1df-41ed-eb03-5417d4b365c6"
      },
      "source": [
        "from tensorflow.keras.utils import plot_model\n",
        "\n",
        "plot_model(model = model,show_shapes=True)"
      ],
      "execution_count": null,
      "outputs": [
        {
          "output_type": "execute_result",
          "data": {
            "image/png": "[encoded data removed]",
            "text/plain": [
              "<IPython.core.display.Image object>"
            ]
          },
          "metadata": {
            "tags": []
          },
          "execution_count": 26
        }
      ]
    },
    {
      "cell_type": "code",
      "metadata": {
        "id": "ijSe9bLk4MGI",
        "colab": {
          "base_uri": "https://localhost:8080/"
        },
        "outputId": "ba9fb92b-e7be-482b-e399-707bbf49dee8"
      },
      "source": [
        "tf.random.set_seed = 42\n",
        "#createing the model\n",
        "model = tf.keras.Sequential([\n",
        "            tf.keras.layers.Dense(100,input_shape=[1], name=\"Input_layer\",activation=None),\n",
        "            tf.keras.layers.Dense(20,activation=None),\n",
        "            tf.keras.layers.Dense(20,activation=None),\n",
        "            tf.keras.layers.Dense(1,  name=\"Output_layer\")\n",
        "])\n",
        "\n",
        "#2.compile the model\n",
        "model.compile(loss=tf.keras.losses.mae,\n",
        "              optimizer = tf.keras.optimizers.Adam(learning_rate=0.01),\n",
        "              metrics=['mae'])\n",
        "\n",
        "#3.fit the model\n",
        "model.fit(x_train,y_train,epochs=49)"
      ],
      "execution_count": null,
      "outputs": [
        {
          "output_type": "stream",
          "text": [
            "Epoch 1/49\n",
            "2/2 [==============================] - 0s 7ms/step - loss: 33.8141 - mae: 33.8141\n",
            "Epoch 2/49\n",
            "2/2 [==============================] - 0s 4ms/step - loss: 10.5442 - mae: 10.5442\n",
            "Epoch 3/49\n",
            "2/2 [==============================] - 0s 11ms/step - loss: 14.9074 - mae: 14.9074\n",
            "Epoch 4/49\n",
            "2/2 [==============================] - 0s 8ms/step - loss: 8.4155 - mae: 8.4155\n",
            "Epoch 5/49\n",
            "2/2 [==============================] - 0s 5ms/step - loss: 10.4045 - mae: 10.4045\n",
            "Epoch 6/49\n",
            "2/2 [==============================] - 0s 10ms/step - loss: 6.6617 - mae: 6.6617\n",
            "Epoch 7/49\n",
            "2/2 [==============================] - 0s 7ms/step - loss: 6.6913 - mae: 6.6913\n",
            "Epoch 8/49\n",
            "2/2 [==============================] - 0s 8ms/step - loss: 6.5949 - mae: 6.5949\n",
            "Epoch 9/49\n",
            "2/2 [==============================] - 0s 15ms/step - loss: 6.2073 - mae: 6.2073\n",
            "Epoch 10/49\n",
            "2/2 [==============================] - 0s 7ms/step - loss: 5.3436 - mae: 5.3436\n",
            "Epoch 11/49\n",
            "2/2 [==============================] - 0s 7ms/step - loss: 6.1853 - mae: 6.1853\n",
            "Epoch 12/49\n",
            "2/2 [==============================] - 0s 7ms/step - loss: 7.3885 - mae: 7.3885\n",
            "Epoch 13/49\n",
            "2/2 [==============================] - 0s 8ms/step - loss: 5.6335 - mae: 5.6335\n",
            "Epoch 14/49\n",
            "2/2 [==============================] - 0s 10ms/step - loss: 5.3477 - mae: 5.3477\n",
            "Epoch 15/49\n",
            "2/2 [==============================] - 0s 12ms/step - loss: 4.8652 - mae: 4.8652\n",
            "Epoch 16/49\n",
            "2/2 [==============================] - 0s 8ms/step - loss: 3.6989 - mae: 3.6989\n",
            "Epoch 17/49\n",
            "2/2 [==============================] - 0s 5ms/step - loss: 4.1346 - mae: 4.1346\n",
            "Epoch 18/49\n",
            "2/2 [==============================] - 0s 6ms/step - loss: 3.2685 - mae: 3.2685\n",
            "Epoch 19/49\n",
            "2/2 [==============================] - 0s 4ms/step - loss: 1.9587 - mae: 1.9587\n",
            "Epoch 20/49\n",
            "2/2 [==============================] - 0s 5ms/step - loss: 1.7826 - mae: 1.7826\n",
            "Epoch 21/49\n",
            "2/2 [==============================] - 0s 6ms/step - loss: 2.5572 - mae: 2.5572\n",
            "Epoch 22/49\n",
            "2/2 [==============================] - 0s 5ms/step - loss: 3.3043 - mae: 3.3043\n",
            "Epoch 23/49\n",
            "2/2 [==============================] - 0s 11ms/step - loss: 2.1419 - mae: 2.1419\n",
            "Epoch 24/49\n",
            "2/2 [==============================] - 0s 6ms/step - loss: 2.4717 - mae: 2.4717\n",
            "Epoch 25/49\n",
            "2/2 [==============================] - 0s 5ms/step - loss: 0.4257 - mae: 0.4257\n",
            "Epoch 26/49\n",
            "2/2 [==============================] - 0s 9ms/step - loss: 3.7299 - mae: 3.7299\n",
            "Epoch 27/49\n",
            "2/2 [==============================] - 0s 7ms/step - loss: 1.7101 - mae: 1.7101\n",
            "Epoch 28/49\n",
            "2/2 [==============================] - 0s 6ms/step - loss: 5.3773 - mae: 5.3773\n",
            "Epoch 29/49\n",
            "2/2 [==============================] - 0s 8ms/step - loss: 4.2219 - mae: 4.2219\n",
            "Epoch 30/49\n",
            "2/2 [==============================] - 0s 7ms/step - loss: 2.9126 - mae: 2.9126\n",
            "Epoch 31/49\n",
            "2/2 [==============================] - 0s 7ms/step - loss: 0.9341 - mae: 0.9341\n",
            "Epoch 32/49\n",
            "2/2 [==============================] - 0s 7ms/step - loss: 0.7801 - mae: 0.7801\n",
            "Epoch 33/49\n",
            "2/2 [==============================] - 0s 6ms/step - loss: 1.3025 - mae: 1.3025\n",
            "Epoch 34/49\n",
            "2/2 [==============================] - 0s 5ms/step - loss: 2.4672 - mae: 2.4672\n",
            "Epoch 35/49\n",
            "2/2 [==============================] - 0s 8ms/step - loss: 0.8974 - mae: 0.8974\n",
            "Epoch 36/49\n",
            "2/2 [==============================] - 0s 6ms/step - loss: 0.9993 - mae: 0.9993\n",
            "Epoch 37/49\n",
            "2/2 [==============================] - 0s 10ms/step - loss: 4.5085 - mae: 4.5085\n",
            "Epoch 38/49\n",
            "2/2 [==============================] - 0s 6ms/step - loss: 0.6565 - mae: 0.6565\n",
            "Epoch 39/49\n",
            "2/2 [==============================] - 0s 7ms/step - loss: 0.5152 - mae: 0.5152\n",
            "Epoch 40/49\n",
            "2/2 [==============================] - 0s 6ms/step - loss: 1.3057 - mae: 1.3057\n",
            "Epoch 41/49\n",
            "2/2 [==============================] - 0s 7ms/step - loss: 2.7629 - mae: 2.7629\n",
            "Epoch 42/49\n",
            "2/2 [==============================] - 0s 7ms/step - loss: 1.3734 - mae: 1.3734\n",
            "Epoch 43/49\n",
            "2/2 [==============================] - 0s 6ms/step - loss: 5.6692 - mae: 5.6692\n",
            "Epoch 44/49\n",
            "2/2 [==============================] - 0s 6ms/step - loss: 1.6987 - mae: 1.6987\n",
            "Epoch 45/49\n",
            "2/2 [==============================] - 0s 4ms/step - loss: 7.7052 - mae: 7.7052\n",
            "Epoch 46/49\n",
            "2/2 [==============================] - 0s 5ms/step - loss: 6.0701 - mae: 6.0701\n",
            "Epoch 47/49\n",
            "2/2 [==============================] - 0s 4ms/step - loss: 2.7467 - mae: 2.7467\n",
            "Epoch 48/49\n",
            "2/2 [==============================] - 0s 7ms/step - loss: 3.1177 - mae: 3.1177\n",
            "Epoch 49/49\n",
            "2/2 [==============================] - 0s 4ms/step - loss: 2.8176 - mae: 2.8176\n"
          ],
          "name": "stdout"
        },
        {
          "output_type": "execute_result",
          "data": {
            "text/plain": [
              "<tensorflow.python.keras.callbacks.History at 0x7fdc14293350>"
            ]
          },
          "metadata": {
            "tags": []
          },
          "execution_count": 27
        }
      ]
    },
    {
      "cell_type": "code",
      "metadata": {
        "id": "t1ssEpjWIUWB",
        "colab": {
          "base_uri": "https://localhost:8080/"
        },
        "outputId": "40152455-1ba1-4119-82e3-b9e5653d38e0"
      },
      "source": [
        "y_pred = model.predict(x_test)"
      ],
      "execution_count": null,
      "outputs": [
        {
          "output_type": "stream",
          "text": [
            "WARNING:tensorflow:5 out of the last 5 calls to <function Model.make_predict_function.<locals>.predict_function at 0x7fdc1432ff80> triggered tf.function retracing. Tracing is expensive and the excessive number of tracings could be due to (1) creating @tf.function repeatedly in a loop, (2) passing tensors with different shapes, (3) passing Python objects instead of tensors. For (1), please define your @tf.function outside of the loop. For (2), @tf.function has experimental_relax_shapes=True option that relaxes argument shapes that can avoid unnecessary retracing. For (3), please refer to https://www.tensorflow.org/guide/function#controlling_retracing and https://www.tensorflow.org/api_docs/python/tf/function for  more details.\n"
          ],
          "name": "stdout"
        }
      ]
    },
    {
      "cell_type": "code",
      "metadata": {
        "id": "3sQOsPDY6lqP",
        "colab": {
          "base_uri": "https://localhost:8080/"
        },
        "outputId": "860161e6-59cf-493b-e2e4-526b743f9230"
      },
      "source": [
        "model.summary()"
      ],
      "execution_count": null,
      "outputs": [
        {
          "output_type": "stream",
          "text": [
            "Model: \"sequential_6\"\n",
            "_________________________________________________________________\n",
            "Layer (type)                 Output Shape              Param #   \n",
            "=================================================================\n",
            "Input_layer (Dense)          (None, 100)               200       \n",
            "_________________________________________________________________\n",
            "dense_12 (Dense)             (None, 20)                2020      \n",
            "_________________________________________________________________\n",
            "dense_13 (Dense)             (None, 20)                420       \n",
            "_________________________________________________________________\n",
            "Output_layer (Dense)         (None, 1)                 21        \n",
            "=================================================================\n",
            "Total params: 2,661\n",
            "Trainable params: 2,661\n",
            "Non-trainable params: 0\n",
            "_________________________________________________________________\n"
          ],
          "name": "stdout"
        }
      ]
    },
    {
      "cell_type": "code",
      "metadata": {
        "id": "_irf1sch69dp",
        "colab": {
          "base_uri": "https://localhost:8080/",
          "height": 533
        },
        "outputId": "3daccb1f-6380-40f8-a02c-2d6c1e21a309"
      },
      "source": [
        "plot_model(model=model,show_shapes=True)"
      ],
      "execution_count": null,
      "outputs": [
        {
          "output_type": "execute_result",
          "data": {
            "image/png": "[encoded data removed]",
            "text/plain": [
              "<IPython.core.display.Image object>"
            ]
          },
          "metadata": {
            "tags": []
          },
          "execution_count": 30
        }
      ]
    },
    {
      "cell_type": "markdown",
      "metadata": {
        "id": "PzXGpAqk7zpN"
      },
      "source": [
        "# visualizing our model predictions\n",
        "\n",
        "To visualize predictions,its a good idea to plot them against the ground truth.\n",
        "\n",
        "Often you'll see this in the form of `y_test` or `y_true` verus y_pred (ground truth versus your model's prediction"
      ]
    },
    {
      "cell_type": "markdown",
      "metadata": {
        "id": "DXHy6tS6Ewnq"
      },
      "source": [
        "**Note**: If you feel like you're going to reuse some kind of functionality in the future, it's a good idea to create a function"
      ]
    },
    {
      "cell_type": "code",
      "metadata": {
        "id": "A6ZgOxiK7RAF"
      },
      "source": [
        " def plot_predictions(train_data = x_train,\n",
        "                      train_labels = y_train,\n",
        "                      test_data = x_test,\n",
        "                      test_labels = y_test,\n",
        "                      test_pred = y_pred):\n",
        "   \"\"\"\n",
        "   plots training data, tedt data and compare predictions to ground truth labels.\n",
        "   \n",
        "   \"\"\"\n",
        "   plt.figure(figsize=(10,7))\n",
        "   plt.scatter(train_data,train_labels,c= 'b',label = \"Training data\")\n",
        "   plt.scatter(test_data, test_labels,c= 'g',label=\"Testing data\")\n",
        "   plt.scatter(test_data, test_pred,c='r',label=\"Predictions\")\n",
        "   plt.legend()"
      ],
      "execution_count": null,
      "outputs": []
    },
    {
      "cell_type": "code",
      "metadata": {
        "id": "VrnCcS_-GRLE",
        "colab": {
          "base_uri": "https://localhost:8080/",
          "height": 428
        },
        "outputId": "0e256d2e-0e95-47ed-cfc0-a3a764e5f657"
      },
      "source": [
        "plot_predictions()"
      ],
      "execution_count": null,
      "outputs": [
        {
          "output_type": "display_data",
          "data": {
            "image/png": "[encoded data removed]",
            "text/plain": [
              "<Figure size 720x504 with 1 Axes>"
            ]
          },
          "metadata": {
            "tags": [],
            "needs_background": "light"
          }
        }
      ]
    },
    {
      "cell_type": "markdown",
      "metadata": {
        "id": "EetCshwgLKCK"
      },
      "source": [
        "## Evaluting our model's predicition with regression evaluation metrices\n",
        "\n",
        "Depending on thr problem you are working on, there will be the different evelution matrics to evaluate the model's performance\n",
        "\n",
        "since we are working with regression problem, we mainly focus on 2 things:\n",
        "* MAE - on average, how wrong is each of my model prediciton\n",
        "\n",
        "* MSE - square of average error"
      ]
    },
    {
      "cell_type": "code",
      "metadata": {
        "id": "Xo0zwWI-LJRZ",
        "colab": {
          "base_uri": "https://localhost:8080/"
        },
        "outputId": "394ff30b-f4de-45d9-f99a-dab1c9b94ad4"
      },
      "source": [
        "model.evaluate(x_test,y_test)"
      ],
      "execution_count": null,
      "outputs": [
        {
          "output_type": "stream",
          "text": [
            "1/1 [==============================] - 0s 129ms/step - loss: 2.8821 - mae: 2.8821\n"
          ],
          "name": "stdout"
        },
        {
          "output_type": "execute_result",
          "data": {
            "text/plain": [
              "[2.8820900917053223, 2.8820900917053223]"
            ]
          },
          "metadata": {
            "tags": []
          },
          "execution_count": 33
        }
      ]
    },
    {
      "cell_type": "code",
      "metadata": {
        "id": "FPqC17DCGUfU",
        "colab": {
          "base_uri": "https://localhost:8080/"
        },
        "outputId": "58b4c4a7-5286-40ab-cd4d-923f0a17cd65"
      },
      "source": [
        "y_pred"
      ],
      "execution_count": null,
      "outputs": [
        {
          "output_type": "execute_result",
          "data": {
            "text/plain": [
              "array([[ 67.63215 ],\n",
              "       [ 71.51788 ],\n",
              "       [ 75.4036  ],\n",
              "       [ 79.289314],\n",
              "       [ 83.17506 ],\n",
              "       [ 87.06078 ],\n",
              "       [ 90.9465  ],\n",
              "       [ 94.832214],\n",
              "       [ 98.71793 ],\n",
              "       [102.60367 ]], dtype=float32)"
            ]
          },
          "metadata": {
            "tags": []
          },
          "execution_count": 34
        }
      ]
    },
    {
      "cell_type": "code",
      "metadata": {
        "id": "xsrzoZZuQBjs",
        "colab": {
          "base_uri": "https://localhost:8080/"
        },
        "outputId": "e6fc0d3a-fb6a-4d3d-b6bf-55e0b2531398"
      },
      "source": [
        "y_test"
      ],
      "execution_count": null,
      "outputs": [
        {
          "output_type": "execute_result",
          "data": {
            "text/plain": [
              "<tf.Tensor: shape=(10,), dtype=int32, numpy=array([ 70,  74,  78,  82,  86,  90,  94,  98, 102, 106], dtype=int32)>"
            ]
          },
          "metadata": {
            "tags": []
          },
          "execution_count": 35
        }
      ]
    },
    {
      "cell_type": "code",
      "metadata": {
        "id": "IjOhp0b5QD43"
      },
      "source": [
        "mae = tf.metrics.mean_absolute_error(y_true = y_test, y_pred=y_pred)"
      ],
      "execution_count": null,
      "outputs": []
    },
    {
      "cell_type": "code",
      "metadata": {
        "id": "1LHlx3urQRIA",
        "colab": {
          "base_uri": "https://localhost:8080/"
        },
        "outputId": "cefb36c1-6541-4998-b65a-42e2b5eb2166"
      },
      "source": [
        "mae"
      ],
      "execution_count": null,
      "outputs": [
        {
          "output_type": "execute_result",
          "data": {
            "text/plain": [
              "<tf.Tensor: shape=(10,), dtype=float32, numpy=\n",
              "array([20.367851 , 16.785694 , 13.957838 , 11.8842745, 10.564989 ,\n",
              "       10.       , 10.189301 , 11.132886 , 12.83076  , 15.282934 ],\n",
              "      dtype=float32)>"
            ]
          },
          "metadata": {
            "tags": []
          },
          "execution_count": 37
        }
      ]
    },
    {
      "cell_type": "code",
      "metadata": {
        "id": "LyFWUJMYQSfQ",
        "colab": {
          "base_uri": "https://localhost:8080/"
        },
        "outputId": "90083082-42cd-4922-81f0-7d4d50297f18"
      },
      "source": [
        "# in above line code its printed sequence of value for mae its should predict one value how could i do it\n",
        "y_test,y_pred"
      ],
      "execution_count": null,
      "outputs": [
        {
          "output_type": "execute_result",
          "data": {
            "text/plain": [
              "(<tf.Tensor: shape=(10,), dtype=int32, numpy=array([ 70,  74,  78,  82,  86,  90,  94,  98, 102, 106], dtype=int32)>,\n",
              " array([[ 67.63215 ],\n",
              "        [ 71.51788 ],\n",
              "        [ 75.4036  ],\n",
              "        [ 79.289314],\n",
              "        [ 83.17506 ],\n",
              "        [ 87.06078 ],\n",
              "        [ 90.9465  ],\n",
              "        [ 94.832214],\n",
              "        [ 98.71793 ],\n",
              "        [102.60367 ]], dtype=float32))"
            ]
          },
          "metadata": {
            "tags": []
          },
          "execution_count": 38
        }
      ]
    },
    {
      "cell_type": "code",
      "metadata": {
        "id": "jaYAp1g8QpGe",
        "colab": {
          "base_uri": "https://localhost:8080/"
        },
        "outputId": "6f2bfe81-02c8-4ebe-ca8f-c769c987b2dc"
      },
      "source": [
        "y_pred,y_test"
      ],
      "execution_count": null,
      "outputs": [
        {
          "output_type": "execute_result",
          "data": {
            "text/plain": [
              "(array([[ 67.63215 ],\n",
              "        [ 71.51788 ],\n",
              "        [ 75.4036  ],\n",
              "        [ 79.289314],\n",
              "        [ 83.17506 ],\n",
              "        [ 87.06078 ],\n",
              "        [ 90.9465  ],\n",
              "        [ 94.832214],\n",
              "        [ 98.71793 ],\n",
              "        [102.60367 ]], dtype=float32),\n",
              " <tf.Tensor: shape=(10,), dtype=int32, numpy=array([ 70,  74,  78,  82,  86,  90,  94,  98, 102, 106], dtype=int32)>)"
            ]
          },
          "metadata": {
            "tags": []
          },
          "execution_count": 39
        }
      ]
    },
    {
      "cell_type": "code",
      "metadata": {
        "id": "EdZxwscNQyo1",
        "colab": {
          "base_uri": "https://localhost:8080/"
        },
        "outputId": "e25474c0-67e0-4a5c-c465-796900fdac84"
      },
      "source": [
        "tf.squeeze(y_pred)"
      ],
      "execution_count": null,
      "outputs": [
        {
          "output_type": "execute_result",
          "data": {
            "text/plain": [
              "<tf.Tensor: shape=(10,), dtype=float32, numpy=\n",
              "array([ 67.63215 ,  71.51788 ,  75.4036  ,  79.289314,  83.17506 ,\n",
              "        87.06078 ,  90.9465  ,  94.832214,  98.71793 , 102.60367 ],\n",
              "      dtype=float32)>"
            ]
          },
          "metadata": {
            "tags": []
          },
          "execution_count": 40
        }
      ]
    },
    {
      "cell_type": "code",
      "metadata": {
        "id": "tmFMFt07Q_du",
        "colab": {
          "base_uri": "https://localhost:8080/"
        },
        "outputId": "d4ba91b0-c63a-4096-b9b9-5fc17d82d1e8"
      },
      "source": [
        "mae = tf.metrics.mean_absolute_error(y_test,tf.squeeze(y_pred))\n",
        "mae"
      ],
      "execution_count": null,
      "outputs": [
        {
          "output_type": "execute_result",
          "data": {
            "text/plain": [
              "<tf.Tensor: shape=(), dtype=float32, numpy=2.8820891>"
            ]
          },
          "metadata": {
            "tags": []
          },
          "execution_count": 41
        }
      ]
    },
    {
      "cell_type": "code",
      "metadata": {
        "id": "x65ifZoxRN1Z",
        "colab": {
          "base_uri": "https://localhost:8080/"
        },
        "outputId": "4f275a03-219f-4502-a7d4-0c728de08455"
      },
      "source": [
        "mse = tf.metrics.mean_squared_error(y_test,tf.squeeze(y_pred))\n",
        "mse"
      ],
      "execution_count": null,
      "outputs": [
        {
          "output_type": "execute_result",
          "data": {
            "text/plain": [
              "<tf.Tensor: shape=(), dtype=float32, numpy=8.414175>"
            ]
          },
          "metadata": {
            "tags": []
          },
          "execution_count": 42
        }
      ]
    },
    {
      "cell_type": "code",
      "metadata": {
        "id": "bwdIZHZGRl3R"
      },
      "source": [
        "huber = tf.losses.huber(y_test,tf.squeeze(y_pred))"
      ],
      "execution_count": null,
      "outputs": []
    },
    {
      "cell_type": "code",
      "metadata": {
        "id": "puSnGFKHTnL5",
        "colab": {
          "base_uri": "https://localhost:8080/"
        },
        "outputId": "05f71ba0-454f-4b6e-892c-3f859e3f6d0f"
      },
      "source": [
        "huber"
      ],
      "execution_count": null,
      "outputs": [
        {
          "output_type": "execute_result",
          "data": {
            "text/plain": [
              "<tf.Tensor: shape=(), dtype=float32, numpy=2.3820891>"
            ]
          },
          "metadata": {
            "tags": []
          },
          "execution_count": 44
        }
      ]
    },
    {
      "cell_type": "markdown",
      "metadata": {
        "id": "1CXVxwqkTz0v"
      },
      "source": [
        "Let 's do 3 modelling experiment\n",
        "\n",
        "1.`model_1`-name as the original model, 1 layer, trained for 100 epochs.\n",
        "\n",
        "2.`model_2`- 2 layers, trained for 100 epochs.\n",
        "\n",
        "3.`model_3` - 2 layers,trained for 500 epochs"
      ]
    },
    {
      "cell_type": "markdown",
      "metadata": {
        "id": "LjqgKqAiXmNT"
      },
      "source": [
        "## Tracking the experiment\n",
        "\n",
        "One really good habit in machine learning modelling is to track the result of the experiments.\n",
        "\n",
        "And when doing so, it can be tedious if you're running lot of experiments.\n",
        "\n",
        "Luckily, there a tools to help us!\n",
        "\n",
        "**Resources** As you build more models,you'll want to look into using:\n",
        "\n",
        "* TensorBoard - a component of the tensorflow libary to help track modelling experiments(we'll see this later)\n",
        "* Weight and Biases - a tool for tracking all of kinds of machine learning experiments (plugs straight into TensorBoard)."
      ]
    },
    {
      "cell_type": "code",
      "metadata": {
        "id": "vGZHnwXlTopi"
      },
      "source": [
        "#import libaries\n",
        "import tensorflow as tf\n",
        "import pandas as pd\n",
        "import matplotlib.pyplot as plt"
      ],
      "execution_count": null,
      "outputs": []
    },
    {
      "cell_type": "code",
      "metadata": {
        "colab": {
          "base_uri": "https://localhost:8080/",
          "height": 419
        },
        "id": "Dd31wsJJsijJ",
        "outputId": "386ab108-26a5-406e-e0ae-fb4cea88ac89"
      },
      "source": [
        "# Read in the insurance dataset\n",
        "insurance = pd.read_csv(\"https://raw.githubusercontent.com/stedy/Machine-Learning-with-R-datasets/master/insurance.csv\")\n",
        "insurance"
      ],
      "execution_count": null,
      "outputs": [
        {
          "output_type": "execute_result",
          "data": {
            "text/html": [
              "<div>\n",
              "<style scoped>\n",
              "    .dataframe tbody tr th:only-of-type {\n",
              "        vertical-align: middle;\n",
              "    }\n",
              "\n",
              "    .dataframe tbody tr th {\n",
              "        vertical-align: top;\n",
              "    }\n",
              "\n",
              "    .dataframe thead th {\n",
              "        text-align: right;\n",
              "    }\n",
              "</style>\n",
              "<table border=\"1\" class=\"dataframe\">\n",
              "  <thead>\n",
              "    <tr style=\"text-align: right;\">\n",
              "      <th></th>\n",
              "      <th>age</th>\n",
              "      <th>sex</th>\n",
              "      <th>bmi</th>\n",
              "      <th>children</th>\n",
              "      <th>smoker</th>\n",
              "      <th>region</th>\n",
              "      <th>charges</th>\n",
              "    </tr>\n",
              "  </thead>\n",
              "  <tbody>\n",
              "    <tr>\n",
              "      <th>0</th>\n",
              "      <td>19</td>\n",
              "      <td>female</td>\n",
              "      <td>27.900</td>\n",
              "      <td>0</td>\n",
              "      <td>yes</td>\n",
              "      <td>southwest</td>\n",
              "      <td>16884.92400</td>\n",
              "    </tr>\n",
              "    <tr>\n",
              "      <th>1</th>\n",
              "      <td>18</td>\n",
              "      <td>male</td>\n",
              "      <td>33.770</td>\n",
              "      <td>1</td>\n",
              "      <td>no</td>\n",
              "      <td>southeast</td>\n",
              "      <td>1725.55230</td>\n",
              "    </tr>\n",
              "    <tr>\n",
              "      <th>2</th>\n",
              "      <td>28</td>\n",
              "      <td>male</td>\n",
              "      <td>33.000</td>\n",
              "      <td>3</td>\n",
              "      <td>no</td>\n",
              "      <td>southeast</td>\n",
              "      <td>4449.46200</td>\n",
              "    </tr>\n",
              "    <tr>\n",
              "      <th>3</th>\n",
              "      <td>33</td>\n",
              "      <td>male</td>\n",
              "      <td>22.705</td>\n",
              "      <td>0</td>\n",
              "      <td>no</td>\n",
              "      <td>northwest</td>\n",
              "      <td>21984.47061</td>\n",
              "    </tr>\n",
              "    <tr>\n",
              "      <th>4</th>\n",
              "      <td>32</td>\n",
              "      <td>male</td>\n",
              "      <td>28.880</td>\n",
              "      <td>0</td>\n",
              "      <td>no</td>\n",
              "      <td>northwest</td>\n",
              "      <td>3866.85520</td>\n",
              "    </tr>\n",
              "    <tr>\n",
              "      <th>...</th>\n",
              "      <td>...</td>\n",
              "      <td>...</td>\n",
              "      <td>...</td>\n",
              "      <td>...</td>\n",
              "      <td>...</td>\n",
              "      <td>...</td>\n",
              "      <td>...</td>\n",
              "    </tr>\n",
              "    <tr>\n",
              "      <th>1333</th>\n",
              "      <td>50</td>\n",
              "      <td>male</td>\n",
              "      <td>30.970</td>\n",
              "      <td>3</td>\n",
              "      <td>no</td>\n",
              "      <td>northwest</td>\n",
              "      <td>10600.54830</td>\n",
              "    </tr>\n",
              "    <tr>\n",
              "      <th>1334</th>\n",
              "      <td>18</td>\n",
              "      <td>female</td>\n",
              "      <td>31.920</td>\n",
              "      <td>0</td>\n",
              "      <td>no</td>\n",
              "      <td>northeast</td>\n",
              "      <td>2205.98080</td>\n",
              "    </tr>\n",
              "    <tr>\n",
              "      <th>1335</th>\n",
              "      <td>18</td>\n",
              "      <td>female</td>\n",
              "      <td>36.850</td>\n",
              "      <td>0</td>\n",
              "      <td>no</td>\n",
              "      <td>southeast</td>\n",
              "      <td>1629.83350</td>\n",
              "    </tr>\n",
              "    <tr>\n",
              "      <th>1336</th>\n",
              "      <td>21</td>\n",
              "      <td>female</td>\n",
              "      <td>25.800</td>\n",
              "      <td>0</td>\n",
              "      <td>no</td>\n",
              "      <td>southwest</td>\n",
              "      <td>2007.94500</td>\n",
              "    </tr>\n",
              "    <tr>\n",
              "      <th>1337</th>\n",
              "      <td>61</td>\n",
              "      <td>female</td>\n",
              "      <td>29.070</td>\n",
              "      <td>0</td>\n",
              "      <td>yes</td>\n",
              "      <td>northwest</td>\n",
              "      <td>29141.36030</td>\n",
              "    </tr>\n",
              "  </tbody>\n",
              "</table>\n",
              "<p>1338 rows × 7 columns</p>\n",
              "</div>"
            ],
            "text/plain": [
              "      age     sex     bmi  children smoker     region      charges\n",
              "0      19  female  27.900         0    yes  southwest  16884.92400\n",
              "1      18    male  33.770         1     no  southeast   1725.55230\n",
              "2      28    male  33.000         3     no  southeast   4449.46200\n",
              "3      33    male  22.705         0     no  northwest  21984.47061\n",
              "4      32    male  28.880         0     no  northwest   3866.85520\n",
              "...   ...     ...     ...       ...    ...        ...          ...\n",
              "1333   50    male  30.970         3     no  northwest  10600.54830\n",
              "1334   18  female  31.920         0     no  northeast   2205.98080\n",
              "1335   18  female  36.850         0     no  southeast   1629.83350\n",
              "1336   21  female  25.800         0     no  southwest   2007.94500\n",
              "1337   61  female  29.070         0    yes  northwest  29141.36030\n",
              "\n",
              "[1338 rows x 7 columns]"
            ]
          },
          "metadata": {
            "tags": []
          },
          "execution_count": 66
        }
      ]
    },
    {
      "cell_type": "code",
      "metadata": {
        "colab": {
          "base_uri": "https://localhost:8080/"
        },
        "id": "ISSREM9Oslaw",
        "outputId": "e0e9e660-5e97-4c6d-c0a2-b96994680a8f"
      },
      "source": [
        "insurance.dtypes"
      ],
      "execution_count": null,
      "outputs": [
        {
          "output_type": "execute_result",
          "data": {
            "text/plain": [
              "age           int64\n",
              "sex          object\n",
              "bmi         float64\n",
              "children      int64\n",
              "smoker       object\n",
              "region       object\n",
              "charges     float64\n",
              "dtype: object"
            ]
          },
          "metadata": {
            "tags": []
          },
          "execution_count": 67
        }
      ]
    },
    {
      "cell_type": "code",
      "metadata": {
        "colab": {
          "base_uri": "https://localhost:8080/",
          "height": 439
        },
        "id": "zFUjkj1Lspf1",
        "outputId": "dd7a0a21-751e-41b8-c4f3-aaa049138952"
      },
      "source": [
        "#we need to convert object type to numeric data for that we using onehot encoder\n",
        "df = pd.get_dummies(insurance)\n",
        "df"
      ],
      "execution_count": null,
      "outputs": [
        {
          "output_type": "execute_result",
          "data": {
            "text/html": [
              "<div>\n",
              "<style scoped>\n",
              "    .dataframe tbody tr th:only-of-type {\n",
              "        vertical-align: middle;\n",
              "    }\n",
              "\n",
              "    .dataframe tbody tr th {\n",
              "        vertical-align: top;\n",
              "    }\n",
              "\n",
              "    .dataframe thead th {\n",
              "        text-align: right;\n",
              "    }\n",
              "</style>\n",
              "<table border=\"1\" class=\"dataframe\">\n",
              "  <thead>\n",
              "    <tr style=\"text-align: right;\">\n",
              "      <th></th>\n",
              "      <th>age</th>\n",
              "      <th>bmi</th>\n",
              "      <th>children</th>\n",
              "      <th>charges</th>\n",
              "      <th>sex_female</th>\n",
              "      <th>sex_male</th>\n",
              "      <th>smoker_no</th>\n",
              "      <th>smoker_yes</th>\n",
              "      <th>region_northeast</th>\n",
              "      <th>region_northwest</th>\n",
              "      <th>region_southeast</th>\n",
              "      <th>region_southwest</th>\n",
              "    </tr>\n",
              "  </thead>\n",
              "  <tbody>\n",
              "    <tr>\n",
              "      <th>0</th>\n",
              "      <td>19</td>\n",
              "      <td>27.900</td>\n",
              "      <td>0</td>\n",
              "      <td>16884.92400</td>\n",
              "      <td>1</td>\n",
              "      <td>0</td>\n",
              "      <td>0</td>\n",
              "      <td>1</td>\n",
              "      <td>0</td>\n",
              "      <td>0</td>\n",
              "      <td>0</td>\n",
              "      <td>1</td>\n",
              "    </tr>\n",
              "    <tr>\n",
              "      <th>1</th>\n",
              "      <td>18</td>\n",
              "      <td>33.770</td>\n",
              "      <td>1</td>\n",
              "      <td>1725.55230</td>\n",
              "      <td>0</td>\n",
              "      <td>1</td>\n",
              "      <td>1</td>\n",
              "      <td>0</td>\n",
              "      <td>0</td>\n",
              "      <td>0</td>\n",
              "      <td>1</td>\n",
              "      <td>0</td>\n",
              "    </tr>\n",
              "    <tr>\n",
              "      <th>2</th>\n",
              "      <td>28</td>\n",
              "      <td>33.000</td>\n",
              "      <td>3</td>\n",
              "      <td>4449.46200</td>\n",
              "      <td>0</td>\n",
              "      <td>1</td>\n",
              "      <td>1</td>\n",
              "      <td>0</td>\n",
              "      <td>0</td>\n",
              "      <td>0</td>\n",
              "      <td>1</td>\n",
              "      <td>0</td>\n",
              "    </tr>\n",
              "    <tr>\n",
              "      <th>3</th>\n",
              "      <td>33</td>\n",
              "      <td>22.705</td>\n",
              "      <td>0</td>\n",
              "      <td>21984.47061</td>\n",
              "      <td>0</td>\n",
              "      <td>1</td>\n",
              "      <td>1</td>\n",
              "      <td>0</td>\n",
              "      <td>0</td>\n",
              "      <td>1</td>\n",
              "      <td>0</td>\n",
              "      <td>0</td>\n",
              "    </tr>\n",
              "    <tr>\n",
              "      <th>4</th>\n",
              "      <td>32</td>\n",
              "      <td>28.880</td>\n",
              "      <td>0</td>\n",
              "      <td>3866.85520</td>\n",
              "      <td>0</td>\n",
              "      <td>1</td>\n",
              "      <td>1</td>\n",
              "      <td>0</td>\n",
              "      <td>0</td>\n",
              "      <td>1</td>\n",
              "      <td>0</td>\n",
              "      <td>0</td>\n",
              "    </tr>\n",
              "    <tr>\n",
              "      <th>...</th>\n",
              "      <td>...</td>\n",
              "      <td>...</td>\n",
              "      <td>...</td>\n",
              "      <td>...</td>\n",
              "      <td>...</td>\n",
              "      <td>...</td>\n",
              "      <td>...</td>\n",
              "      <td>...</td>\n",
              "      <td>...</td>\n",
              "      <td>...</td>\n",
              "      <td>...</td>\n",
              "      <td>...</td>\n",
              "    </tr>\n",
              "    <tr>\n",
              "      <th>1333</th>\n",
              "      <td>50</td>\n",
              "      <td>30.970</td>\n",
              "      <td>3</td>\n",
              "      <td>10600.54830</td>\n",
              "      <td>0</td>\n",
              "      <td>1</td>\n",
              "      <td>1</td>\n",
              "      <td>0</td>\n",
              "      <td>0</td>\n",
              "      <td>1</td>\n",
              "      <td>0</td>\n",
              "      <td>0</td>\n",
              "    </tr>\n",
              "    <tr>\n",
              "      <th>1334</th>\n",
              "      <td>18</td>\n",
              "      <td>31.920</td>\n",
              "      <td>0</td>\n",
              "      <td>2205.98080</td>\n",
              "      <td>1</td>\n",
              "      <td>0</td>\n",
              "      <td>1</td>\n",
              "      <td>0</td>\n",
              "      <td>1</td>\n",
              "      <td>0</td>\n",
              "      <td>0</td>\n",
              "      <td>0</td>\n",
              "    </tr>\n",
              "    <tr>\n",
              "      <th>1335</th>\n",
              "      <td>18</td>\n",
              "      <td>36.850</td>\n",
              "      <td>0</td>\n",
              "      <td>1629.83350</td>\n",
              "      <td>1</td>\n",
              "      <td>0</td>\n",
              "      <td>1</td>\n",
              "      <td>0</td>\n",
              "      <td>0</td>\n",
              "      <td>0</td>\n",
              "      <td>1</td>\n",
              "      <td>0</td>\n",
              "    </tr>\n",
              "    <tr>\n",
              "      <th>1336</th>\n",
              "      <td>21</td>\n",
              "      <td>25.800</td>\n",
              "      <td>0</td>\n",
              "      <td>2007.94500</td>\n",
              "      <td>1</td>\n",
              "      <td>0</td>\n",
              "      <td>1</td>\n",
              "      <td>0</td>\n",
              "      <td>0</td>\n",
              "      <td>0</td>\n",
              "      <td>0</td>\n",
              "      <td>1</td>\n",
              "    </tr>\n",
              "    <tr>\n",
              "      <th>1337</th>\n",
              "      <td>61</td>\n",
              "      <td>29.070</td>\n",
              "      <td>0</td>\n",
              "      <td>29141.36030</td>\n",
              "      <td>1</td>\n",
              "      <td>0</td>\n",
              "      <td>0</td>\n",
              "      <td>1</td>\n",
              "      <td>0</td>\n",
              "      <td>1</td>\n",
              "      <td>0</td>\n",
              "      <td>0</td>\n",
              "    </tr>\n",
              "  </tbody>\n",
              "</table>\n",
              "<p>1338 rows × 12 columns</p>\n",
              "</div>"
            ],
            "text/plain": [
              "      age     bmi  ...  region_southeast  region_southwest\n",
              "0      19  27.900  ...                 0                 1\n",
              "1      18  33.770  ...                 1                 0\n",
              "2      28  33.000  ...                 1                 0\n",
              "3      33  22.705  ...                 0                 0\n",
              "4      32  28.880  ...                 0                 0\n",
              "...   ...     ...  ...               ...               ...\n",
              "1333   50  30.970  ...                 0                 0\n",
              "1334   18  31.920  ...                 0                 0\n",
              "1335   18  36.850  ...                 1                 0\n",
              "1336   21  25.800  ...                 0                 1\n",
              "1337   61  29.070  ...                 0                 0\n",
              "\n",
              "[1338 rows x 12 columns]"
            ]
          },
          "metadata": {
            "tags": []
          },
          "execution_count": 68
        }
      ]
    },
    {
      "cell_type": "code",
      "metadata": {
        "colab": {
          "base_uri": "https://localhost:8080/"
        },
        "id": "ZUU_VaU8ss2F",
        "outputId": "ca2eed19-5cf3-4963-b4d1-b2c87ef00dd7"
      },
      "source": [
        "df.columns"
      ],
      "execution_count": null,
      "outputs": [
        {
          "output_type": "execute_result",
          "data": {
            "text/plain": [
              "Index(['age', 'bmi', 'children', 'charges', 'sex_female', 'sex_male',\n",
              "       'smoker_no', 'smoker_yes', 'region_northeast', 'region_northwest',\n",
              "       'region_southeast', 'region_southwest'],\n",
              "      dtype='object')"
            ]
          },
          "metadata": {
            "tags": []
          },
          "execution_count": 69
        }
      ]
    },
    {
      "cell_type": "code",
      "metadata": {
        "colab": {
          "base_uri": "https://localhost:8080/"
        },
        "id": "ZxkDOHadsvkL",
        "outputId": "206e2ce7-4c39-4bea-cda0-1b243dae0e7d"
      },
      "source": [
        "x = df.drop([\"charges\"],axis=1)\n",
        "y = df[\"charges\"]\n",
        "x.shape"
      ],
      "execution_count": null,
      "outputs": [
        {
          "output_type": "execute_result",
          "data": {
            "text/plain": [
              "(1338, 11)"
            ]
          },
          "metadata": {
            "tags": []
          },
          "execution_count": 70
        }
      ]
    },
    {
      "cell_type": "code",
      "metadata": {
        "colab": {
          "base_uri": "https://localhost:8080/",
          "height": 439
        },
        "id": "0Pp5MP5jvdaJ",
        "outputId": "9d39d187-9dfd-48e9-95bb-eabecb4560bf"
      },
      "source": [
        "x_train"
      ],
      "execution_count": null,
      "outputs": [
        {
          "output_type": "execute_result",
          "data": {
            "text/html": [
              "<div>\n",
              "<style scoped>\n",
              "    .dataframe tbody tr th:only-of-type {\n",
              "        vertical-align: middle;\n",
              "    }\n",
              "\n",
              "    .dataframe tbody tr th {\n",
              "        vertical-align: top;\n",
              "    }\n",
              "\n",
              "    .dataframe thead th {\n",
              "        text-align: right;\n",
              "    }\n",
              "</style>\n",
              "<table border=\"1\" class=\"dataframe\">\n",
              "  <thead>\n",
              "    <tr style=\"text-align: right;\">\n",
              "      <th></th>\n",
              "      <th>age</th>\n",
              "      <th>bmi</th>\n",
              "      <th>children</th>\n",
              "      <th>sex_female</th>\n",
              "      <th>sex_male</th>\n",
              "      <th>smoker_no</th>\n",
              "      <th>smoker_yes</th>\n",
              "      <th>region_northeast</th>\n",
              "      <th>region_northwest</th>\n",
              "      <th>region_southeast</th>\n",
              "      <th>region_southwest</th>\n",
              "    </tr>\n",
              "  </thead>\n",
              "  <tbody>\n",
              "    <tr>\n",
              "      <th>560</th>\n",
              "      <td>46</td>\n",
              "      <td>19.950</td>\n",
              "      <td>2</td>\n",
              "      <td>1</td>\n",
              "      <td>0</td>\n",
              "      <td>1</td>\n",
              "      <td>0</td>\n",
              "      <td>0</td>\n",
              "      <td>1</td>\n",
              "      <td>0</td>\n",
              "      <td>0</td>\n",
              "    </tr>\n",
              "    <tr>\n",
              "      <th>1285</th>\n",
              "      <td>47</td>\n",
              "      <td>24.320</td>\n",
              "      <td>0</td>\n",
              "      <td>1</td>\n",
              "      <td>0</td>\n",
              "      <td>1</td>\n",
              "      <td>0</td>\n",
              "      <td>1</td>\n",
              "      <td>0</td>\n",
              "      <td>0</td>\n",
              "      <td>0</td>\n",
              "    </tr>\n",
              "    <tr>\n",
              "      <th>1142</th>\n",
              "      <td>52</td>\n",
              "      <td>24.860</td>\n",
              "      <td>0</td>\n",
              "      <td>1</td>\n",
              "      <td>0</td>\n",
              "      <td>1</td>\n",
              "      <td>0</td>\n",
              "      <td>0</td>\n",
              "      <td>0</td>\n",
              "      <td>1</td>\n",
              "      <td>0</td>\n",
              "    </tr>\n",
              "    <tr>\n",
              "      <th>969</th>\n",
              "      <td>39</td>\n",
              "      <td>34.320</td>\n",
              "      <td>5</td>\n",
              "      <td>1</td>\n",
              "      <td>0</td>\n",
              "      <td>1</td>\n",
              "      <td>0</td>\n",
              "      <td>0</td>\n",
              "      <td>0</td>\n",
              "      <td>1</td>\n",
              "      <td>0</td>\n",
              "    </tr>\n",
              "    <tr>\n",
              "      <th>486</th>\n",
              "      <td>54</td>\n",
              "      <td>21.470</td>\n",
              "      <td>3</td>\n",
              "      <td>1</td>\n",
              "      <td>0</td>\n",
              "      <td>1</td>\n",
              "      <td>0</td>\n",
              "      <td>0</td>\n",
              "      <td>1</td>\n",
              "      <td>0</td>\n",
              "      <td>0</td>\n",
              "    </tr>\n",
              "    <tr>\n",
              "      <th>...</th>\n",
              "      <td>...</td>\n",
              "      <td>...</td>\n",
              "      <td>...</td>\n",
              "      <td>...</td>\n",
              "      <td>...</td>\n",
              "      <td>...</td>\n",
              "      <td>...</td>\n",
              "      <td>...</td>\n",
              "      <td>...</td>\n",
              "      <td>...</td>\n",
              "      <td>...</td>\n",
              "    </tr>\n",
              "    <tr>\n",
              "      <th>1095</th>\n",
              "      <td>18</td>\n",
              "      <td>31.350</td>\n",
              "      <td>4</td>\n",
              "      <td>1</td>\n",
              "      <td>0</td>\n",
              "      <td>1</td>\n",
              "      <td>0</td>\n",
              "      <td>1</td>\n",
              "      <td>0</td>\n",
              "      <td>0</td>\n",
              "      <td>0</td>\n",
              "    </tr>\n",
              "    <tr>\n",
              "      <th>1130</th>\n",
              "      <td>39</td>\n",
              "      <td>23.870</td>\n",
              "      <td>5</td>\n",
              "      <td>1</td>\n",
              "      <td>0</td>\n",
              "      <td>1</td>\n",
              "      <td>0</td>\n",
              "      <td>0</td>\n",
              "      <td>0</td>\n",
              "      <td>1</td>\n",
              "      <td>0</td>\n",
              "    </tr>\n",
              "    <tr>\n",
              "      <th>1294</th>\n",
              "      <td>58</td>\n",
              "      <td>25.175</td>\n",
              "      <td>0</td>\n",
              "      <td>0</td>\n",
              "      <td>1</td>\n",
              "      <td>1</td>\n",
              "      <td>0</td>\n",
              "      <td>1</td>\n",
              "      <td>0</td>\n",
              "      <td>0</td>\n",
              "      <td>0</td>\n",
              "    </tr>\n",
              "    <tr>\n",
              "      <th>860</th>\n",
              "      <td>37</td>\n",
              "      <td>47.600</td>\n",
              "      <td>2</td>\n",
              "      <td>1</td>\n",
              "      <td>0</td>\n",
              "      <td>0</td>\n",
              "      <td>1</td>\n",
              "      <td>0</td>\n",
              "      <td>0</td>\n",
              "      <td>0</td>\n",
              "      <td>1</td>\n",
              "    </tr>\n",
              "    <tr>\n",
              "      <th>1126</th>\n",
              "      <td>55</td>\n",
              "      <td>29.900</td>\n",
              "      <td>0</td>\n",
              "      <td>0</td>\n",
              "      <td>1</td>\n",
              "      <td>1</td>\n",
              "      <td>0</td>\n",
              "      <td>0</td>\n",
              "      <td>0</td>\n",
              "      <td>0</td>\n",
              "      <td>1</td>\n",
              "    </tr>\n",
              "  </tbody>\n",
              "</table>\n",
              "<p>1070 rows × 11 columns</p>\n",
              "</div>"
            ],
            "text/plain": [
              "      age     bmi  ...  region_southeast  region_southwest\n",
              "560    46  19.950  ...                 0                 0\n",
              "1285   47  24.320  ...                 0                 0\n",
              "1142   52  24.860  ...                 1                 0\n",
              "969    39  34.320  ...                 1                 0\n",
              "486    54  21.470  ...                 0                 0\n",
              "...   ...     ...  ...               ...               ...\n",
              "1095   18  31.350  ...                 0                 0\n",
              "1130   39  23.870  ...                 1                 0\n",
              "1294   58  25.175  ...                 0                 0\n",
              "860    37  47.600  ...                 0                 1\n",
              "1126   55  29.900  ...                 0                 1\n",
              "\n",
              "[1070 rows x 11 columns]"
            ]
          },
          "metadata": {
            "tags": []
          },
          "execution_count": 71
        }
      ]
    },
    {
      "cell_type": "code",
      "metadata": {
        "colab": {
          "base_uri": "https://localhost:8080/"
        },
        "id": "ZG64WyqLvhIX",
        "outputId": "64d3e0b3-bc44-4741-914e-b10786750132"
      },
      "source": [
        "y_train"
      ],
      "execution_count": null,
      "outputs": [
        {
          "output_type": "execute_result",
          "data": {
            "text/plain": [
              "560      9193.83850\n",
              "1285     8534.67180\n",
              "1142    27117.99378\n",
              "969      8596.82780\n",
              "486     12475.35130\n",
              "           ...     \n",
              "1095     4561.18850\n",
              "1130     8582.30230\n",
              "1294    11931.12525\n",
              "860     46113.51100\n",
              "1126    10214.63600\n",
              "Name: charges, Length: 1070, dtype: float64"
            ]
          },
          "metadata": {
            "tags": []
          },
          "execution_count": 72
        }
      ]
    },
    {
      "cell_type": "code",
      "metadata": {
        "id": "a4aMStn2s0YM"
      },
      "source": [
        "#create x & y Values\n",
        "from sklearn.model_selection import train_test_split\n",
        "x_train, x_test, y_train, y_test = train_test_split(x,y,test_size=0.2,random_state = 42)"
      ],
      "execution_count": null,
      "outputs": []
    },
    {
      "cell_type": "code",
      "metadata": {
        "colab": {
          "base_uri": "https://localhost:8080/"
        },
        "id": "48RK9MmKs5xL",
        "outputId": "05183d6d-bd01-49f2-8adb-5d8eb5fef4e5"
      },
      "source": [
        "len(x_train),len(y_train),len(x_test),len(y_test)"
      ],
      "execution_count": null,
      "outputs": [
        {
          "output_type": "execute_result",
          "data": {
            "text/plain": [
              "(1070, 1070, 268, 268)"
            ]
          },
          "metadata": {
            "tags": []
          },
          "execution_count": 74
        }
      ]
    },
    {
      "cell_type": "code",
      "metadata": {
        "colab": {
          "base_uri": "https://localhost:8080/"
        },
        "id": "mNQvxGkfs_DC",
        "outputId": "013b4b3d-507d-4571-dc9d-f2eb9e87f045"
      },
      "source": [
        "#createing neural network\n",
        "#creating input data\n",
        "model = tf.keras.Sequential(\n",
        "    tf.keras.layers.Dense(1),\n",
        "    #tf.keras.layers.Dense(1)\n",
        ")\n",
        "#compile\n",
        "model.compile(loss = tf.keras.losses.mae,\n",
        "              optimizer = tf.keras.optimizers.SGD(),\n",
        "              metrics = ['mae'])\n",
        "\n",
        "#fit the model\n",
        "model.fit(x_train, y_train, epochs=100)"
      ],
      "execution_count": null,
      "outputs": [
        {
          "output_type": "stream",
          "text": [
            "Epoch 1/100\n",
            "34/34 [==============================] - 0s 1ms/step - loss: 12947.7236 - mae: 12947.7236\n",
            "Epoch 2/100\n",
            "34/34 [==============================] - 0s 962us/step - loss: 12102.9229 - mae: 12102.9229\n",
            "Epoch 3/100\n",
            "34/34 [==============================] - 0s 911us/step - loss: 11276.1123 - mae: 11276.1123\n",
            "Epoch 4/100\n",
            "34/34 [==============================] - 0s 933us/step - loss: 10519.5479 - mae: 10519.5479\n",
            "Epoch 5/100\n",
            "34/34 [==============================] - 0s 921us/step - loss: 9871.6543 - mae: 9871.6543\n",
            "Epoch 6/100\n",
            "34/34 [==============================] - 0s 1ms/step - loss: 9323.0830 - mae: 9323.0830\n",
            "Epoch 7/100\n",
            "34/34 [==============================] - 0s 1ms/step - loss: 8848.8936 - mae: 8848.8936\n",
            "Epoch 8/100\n",
            "34/34 [==============================] - 0s 1ms/step - loss: 8462.2793 - mae: 8462.2793\n",
            "Epoch 9/100\n",
            "34/34 [==============================] - 0s 1ms/step - loss: 8156.0376 - mae: 8156.0376\n",
            "Epoch 10/100\n",
            "34/34 [==============================] - 0s 1ms/step - loss: 7909.8047 - mae: 7909.8047\n",
            "Epoch 11/100\n",
            "34/34 [==============================] - 0s 1ms/step - loss: 7720.1621 - mae: 7720.1621\n",
            "Epoch 12/100\n",
            "34/34 [==============================] - 0s 1ms/step - loss: 7587.0161 - mae: 7587.0161\n",
            "Epoch 13/100\n",
            "34/34 [==============================] - 0s 1ms/step - loss: 7498.0732 - mae: 7498.0732\n",
            "Epoch 14/100\n",
            "34/34 [==============================] - 0s 1ms/step - loss: 7437.0879 - mae: 7437.0879\n",
            "Epoch 15/100\n",
            "34/34 [==============================] - 0s 1ms/step - loss: 7396.5664 - mae: 7396.5664\n",
            "Epoch 16/100\n",
            "34/34 [==============================] - 0s 1ms/step - loss: 7365.7803 - mae: 7365.7803\n",
            "Epoch 17/100\n",
            "34/34 [==============================] - 0s 1ms/step - loss: 7344.3379 - mae: 7344.3379\n",
            "Epoch 18/100\n",
            "34/34 [==============================] - 0s 1ms/step - loss: 7329.0278 - mae: 7329.0278\n",
            "Epoch 19/100\n",
            "34/34 [==============================] - 0s 966us/step - loss: 7317.1226 - mae: 7317.1226\n",
            "Epoch 20/100\n",
            "34/34 [==============================] - 0s 1ms/step - loss: 7307.3936 - mae: 7307.3936\n",
            "Epoch 21/100\n",
            "34/34 [==============================] - 0s 1ms/step - loss: 7298.8745 - mae: 7298.8745\n",
            "Epoch 22/100\n",
            "34/34 [==============================] - 0s 1ms/step - loss: 7292.3486 - mae: 7292.3486\n",
            "Epoch 23/100\n",
            "34/34 [==============================] - 0s 1ms/step - loss: 7287.7246 - mae: 7287.7246\n",
            "Epoch 24/100\n",
            "34/34 [==============================] - 0s 1ms/step - loss: 7283.1909 - mae: 7283.1909\n",
            "Epoch 25/100\n",
            "34/34 [==============================] - 0s 1ms/step - loss: 7278.8291 - mae: 7278.8291\n",
            "Epoch 26/100\n",
            "34/34 [==============================] - 0s 979us/step - loss: 7274.6616 - mae: 7274.6616\n",
            "Epoch 27/100\n",
            "34/34 [==============================] - 0s 1ms/step - loss: 7270.6260 - mae: 7270.6260\n",
            "Epoch 28/100\n",
            "34/34 [==============================] - 0s 1ms/step - loss: 7266.4912 - mae: 7266.4912\n",
            "Epoch 29/100\n",
            "34/34 [==============================] - 0s 981us/step - loss: 7262.5923 - mae: 7262.5923\n",
            "Epoch 30/100\n",
            "34/34 [==============================] - 0s 1ms/step - loss: 7258.6812 - mae: 7258.6812\n",
            "Epoch 31/100\n",
            "34/34 [==============================] - 0s 980us/step - loss: 7254.5762 - mae: 7254.5762\n",
            "Epoch 32/100\n",
            "34/34 [==============================] - 0s 1ms/step - loss: 7250.8862 - mae: 7250.8862\n",
            "Epoch 33/100\n",
            "34/34 [==============================] - 0s 1ms/step - loss: 7246.7949 - mae: 7246.7949\n",
            "Epoch 34/100\n",
            "34/34 [==============================] - 0s 1ms/step - loss: 7242.8999 - mae: 7242.8999\n",
            "Epoch 35/100\n",
            "34/34 [==============================] - 0s 1ms/step - loss: 7239.1763 - mae: 7239.1763\n",
            "Epoch 36/100\n",
            "34/34 [==============================] - 0s 1ms/step - loss: 7235.2568 - mae: 7235.2568\n",
            "Epoch 37/100\n",
            "34/34 [==============================] - 0s 1ms/step - loss: 7231.3579 - mae: 7231.3579\n",
            "Epoch 38/100\n",
            "34/34 [==============================] - 0s 1ms/step - loss: 7227.6328 - mae: 7227.6328\n",
            "Epoch 39/100\n",
            "34/34 [==============================] - 0s 1ms/step - loss: 7223.6016 - mae: 7223.6016\n",
            "Epoch 40/100\n",
            "34/34 [==============================] - 0s 988us/step - loss: 7219.7847 - mae: 7219.7847\n",
            "Epoch 41/100\n",
            "34/34 [==============================] - 0s 1ms/step - loss: 7216.0308 - mae: 7216.0308\n",
            "Epoch 42/100\n",
            "34/34 [==============================] - 0s 1ms/step - loss: 7212.2598 - mae: 7212.2598\n",
            "Epoch 43/100\n",
            "34/34 [==============================] - 0s 1ms/step - loss: 7208.2661 - mae: 7208.2661\n",
            "Epoch 44/100\n",
            "34/34 [==============================] - 0s 1ms/step - loss: 7204.6343 - mae: 7204.6343\n",
            "Epoch 45/100\n",
            "34/34 [==============================] - 0s 1ms/step - loss: 7201.0054 - mae: 7201.0054\n",
            "Epoch 46/100\n",
            "34/34 [==============================] - 0s 1ms/step - loss: 7197.2344 - mae: 7197.2344\n",
            "Epoch 47/100\n",
            "34/34 [==============================] - 0s 987us/step - loss: 7193.6548 - mae: 7193.6548\n",
            "Epoch 48/100\n",
            "34/34 [==============================] - 0s 1ms/step - loss: 7189.7017 - mae: 7189.7017\n",
            "Epoch 49/100\n",
            "34/34 [==============================] - 0s 936us/step - loss: 7186.2983 - mae: 7186.2983\n",
            "Epoch 50/100\n",
            "34/34 [==============================] - 0s 1ms/step - loss: 7182.6211 - mae: 7182.6211\n",
            "Epoch 51/100\n",
            "34/34 [==============================] - 0s 1ms/step - loss: 7178.9961 - mae: 7178.9961\n",
            "Epoch 52/100\n",
            "34/34 [==============================] - 0s 1ms/step - loss: 7175.1074 - mae: 7175.1074\n",
            "Epoch 53/100\n",
            "34/34 [==============================] - 0s 977us/step - loss: 7171.6187 - mae: 7171.6187\n",
            "Epoch 54/100\n",
            "34/34 [==============================] - 0s 989us/step - loss: 7167.9761 - mae: 7167.9761\n",
            "Epoch 55/100\n",
            "34/34 [==============================] - 0s 939us/step - loss: 7164.2090 - mae: 7164.2090\n",
            "Epoch 56/100\n",
            "34/34 [==============================] - 0s 967us/step - loss: 7160.7183 - mae: 7160.7183\n",
            "Epoch 57/100\n",
            "34/34 [==============================] - 0s 921us/step - loss: 7157.2183 - mae: 7157.2183\n",
            "Epoch 58/100\n",
            "34/34 [==============================] - 0s 1ms/step - loss: 7153.6377 - mae: 7153.6377\n",
            "Epoch 59/100\n",
            "34/34 [==============================] - 0s 1ms/step - loss: 7150.2163 - mae: 7150.2163\n",
            "Epoch 60/100\n",
            "34/34 [==============================] - 0s 967us/step - loss: 7146.7251 - mae: 7146.7251\n",
            "Epoch 61/100\n",
            "34/34 [==============================] - 0s 1ms/step - loss: 7143.2671 - mae: 7143.2671\n",
            "Epoch 62/100\n",
            "34/34 [==============================] - 0s 1ms/step - loss: 7139.6333 - mae: 7139.6333\n",
            "Epoch 63/100\n",
            "34/34 [==============================] - 0s 1ms/step - loss: 7136.2861 - mae: 7136.2861\n",
            "Epoch 64/100\n",
            "34/34 [==============================] - 0s 1ms/step - loss: 7133.1001 - mae: 7133.1001\n",
            "Epoch 65/100\n",
            "34/34 [==============================] - 0s 1ms/step - loss: 7129.7056 - mae: 7129.7056\n",
            "Epoch 66/100\n",
            "34/34 [==============================] - 0s 1ms/step - loss: 7126.2783 - mae: 7126.2783\n",
            "Epoch 67/100\n",
            "34/34 [==============================] - 0s 1ms/step - loss: 7123.1396 - mae: 7123.1396\n",
            "Epoch 68/100\n",
            "34/34 [==============================] - 0s 978us/step - loss: 7119.9312 - mae: 7119.9312\n",
            "Epoch 69/100\n",
            "34/34 [==============================] - 0s 1ms/step - loss: 7116.6187 - mae: 7116.6187\n",
            "Epoch 70/100\n",
            "34/34 [==============================] - 0s 1ms/step - loss: 7113.4551 - mae: 7113.4551\n",
            "Epoch 71/100\n",
            "34/34 [==============================] - 0s 1ms/step - loss: 7110.1138 - mae: 7110.1138\n",
            "Epoch 72/100\n",
            "34/34 [==============================] - 0s 950us/step - loss: 7107.1577 - mae: 7107.1577\n",
            "Epoch 73/100\n",
            "34/34 [==============================] - 0s 1ms/step - loss: 7103.8496 - mae: 7103.8496\n",
            "Epoch 74/100\n",
            "34/34 [==============================] - 0s 1ms/step - loss: 7100.4888 - mae: 7100.4888\n",
            "Epoch 75/100\n",
            "34/34 [==============================] - 0s 1ms/step - loss: 7097.3511 - mae: 7097.3511\n",
            "Epoch 76/100\n",
            "34/34 [==============================] - 0s 1ms/step - loss: 7094.0903 - mae: 7094.0903\n",
            "Epoch 77/100\n",
            "34/34 [==============================] - 0s 1ms/step - loss: 7090.9839 - mae: 7090.9839\n",
            "Epoch 78/100\n",
            "34/34 [==============================] - 0s 1ms/step - loss: 7087.8979 - mae: 7087.8979\n",
            "Epoch 79/100\n",
            "34/34 [==============================] - 0s 1ms/step - loss: 7084.9453 - mae: 7084.9453\n",
            "Epoch 80/100\n",
            "34/34 [==============================] - 0s 1ms/step - loss: 7081.6162 - mae: 7081.6162\n",
            "Epoch 81/100\n",
            "34/34 [==============================] - 0s 1ms/step - loss: 7078.5879 - mae: 7078.5879\n",
            "Epoch 82/100\n",
            "34/34 [==============================] - 0s 1ms/step - loss: 7075.8071 - mae: 7075.8071\n",
            "Epoch 83/100\n",
            "34/34 [==============================] - 0s 990us/step - loss: 7072.9868 - mae: 7072.9868\n",
            "Epoch 84/100\n",
            "34/34 [==============================] - 0s 975us/step - loss: 7069.6523 - mae: 7069.6523\n",
            "Epoch 85/100\n",
            "34/34 [==============================] - 0s 1ms/step - loss: 7066.8667 - mae: 7066.8667\n",
            "Epoch 86/100\n",
            "34/34 [==============================] - 0s 1ms/step - loss: 7063.8320 - mae: 7063.8320\n",
            "Epoch 87/100\n",
            "34/34 [==============================] - 0s 962us/step - loss: 7061.1382 - mae: 7061.1382\n",
            "Epoch 88/100\n",
            "34/34 [==============================] - 0s 1ms/step - loss: 7057.9722 - mae: 7057.9722\n",
            "Epoch 89/100\n",
            "34/34 [==============================] - 0s 1ms/step - loss: 7055.0786 - mae: 7055.0786\n",
            "Epoch 90/100\n",
            "34/34 [==============================] - 0s 1ms/step - loss: 7051.9561 - mae: 7051.9561\n",
            "Epoch 91/100\n",
            "34/34 [==============================] - 0s 1ms/step - loss: 7049.1367 - mae: 7049.1367\n",
            "Epoch 92/100\n",
            "34/34 [==============================] - 0s 1ms/step - loss: 7046.3682 - mae: 7046.3682\n",
            "Epoch 93/100\n",
            "34/34 [==============================] - 0s 1ms/step - loss: 7043.3901 - mae: 7043.3901\n",
            "Epoch 94/100\n",
            "34/34 [==============================] - 0s 1ms/step - loss: 7040.4263 - mae: 7040.4263\n",
            "Epoch 95/100\n",
            "34/34 [==============================] - 0s 1ms/step - loss: 7037.3999 - mae: 7037.3999\n",
            "Epoch 96/100\n",
            "34/34 [==============================] - 0s 1ms/step - loss: 7034.6919 - mae: 7034.6919\n",
            "Epoch 97/100\n",
            "34/34 [==============================] - 0s 1ms/step - loss: 7031.8838 - mae: 7031.8838\n",
            "Epoch 98/100\n",
            "34/34 [==============================] - 0s 1ms/step - loss: 7028.8574 - mae: 7028.8574\n",
            "Epoch 99/100\n",
            "34/34 [==============================] - 0s 1ms/step - loss: 7025.9150 - mae: 7025.9150\n",
            "Epoch 100/100\n",
            "34/34 [==============================] - 0s 1ms/step - loss: 7022.7988 - mae: 7022.7988\n"
          ],
          "name": "stdout"
        },
        {
          "output_type": "execute_result",
          "data": {
            "text/plain": [
              "<tensorflow.python.keras.callbacks.History at 0x7fdc09548590>"
            ]
          },
          "metadata": {
            "tags": []
          },
          "execution_count": 75
        }
      ]
    },
    {
      "cell_type": "code",
      "metadata": {
        "id": "H7JqS2YXtOqt"
      },
      "source": [
        "def mae(y_true,y_pred):\n",
        "  mae = tf.keras.losses.mae(y_true,y_pred)\n",
        "  return (mae)\n",
        "def mse(y_true ,y_pred):\n",
        "  mse = tf.keras.losses.mse(y_true,y_pred)\n",
        "  return (mse)"
      ],
      "execution_count": null,
      "outputs": []
    },
    {
      "cell_type": "code",
      "metadata": {
        "colab": {
          "base_uri": "https://localhost:8080/"
        },
        "id": "oDScwvfPtVQh",
        "outputId": "7665cf45-1671-4a12-fd42-08617efe205f"
      },
      "source": [
        "#evaluation\n",
        "y_pred = model.predict(x_test)\n",
        "y_pred"
      ],
      "execution_count": null,
      "outputs": [
        {
          "output_type": "execute_result",
          "data": {
            "text/plain": [
              "array([[ 9073.745 ],\n",
              "       [ 7380.613 ],\n",
              "       [12782.722 ],\n",
              "       [ 9279.165 ],\n",
              "       [ 4120.399 ],\n",
              "       [ 7168.3804],\n",
              "       [ 3982.3396],\n",
              "       [12917.362 ],\n",
              "       [ 5659.4375],\n",
              "       [ 9900.569 ],\n",
              "       [ 6168.099 ],\n",
              "       [ 8368.669 ],\n",
              "       [ 6022.144 ],\n",
              "       [ 9513.831 ],\n",
              "       [12194.048 ],\n",
              "       [ 9656.667 ],\n",
              "       [10082.657 ],\n",
              "       [ 9620.701 ],\n",
              "       [ 9299.258 ],\n",
              "       [ 8709.04  ],\n",
              "       [ 5189.895 ],\n",
              "       [ 8781.745 ],\n",
              "       [ 4085.6953],\n",
              "       [ 4797.1216],\n",
              "       [10087.366 ],\n",
              "       [10909.196 ],\n",
              "       [12102.48  ],\n",
              "       [ 5656.255 ],\n",
              "       [ 9480.804 ],\n",
              "       [ 3889.7576],\n",
              "       [ 8166.9785],\n",
              "       [11478.475 ],\n",
              "       [ 4535.5205],\n",
              "       [ 6098.2295],\n",
              "       [ 5443.703 ],\n",
              "       [ 9258.326 ],\n",
              "       [ 4426.0044],\n",
              "       [ 8740.555 ],\n",
              "       [10423.472 ],\n",
              "       [ 7467.263 ],\n",
              "       [ 4089.3918],\n",
              "       [ 4687.664 ],\n",
              "       [11341.39  ],\n",
              "       [11780.735 ],\n",
              "       [ 6885.622 ],\n",
              "       [11811.716 ],\n",
              "       [ 4530.141 ],\n",
              "       [ 5184.7573],\n",
              "       [ 8846.416 ],\n",
              "       [ 6533.0156],\n",
              "       [12702.04  ],\n",
              "       [ 3884.9153],\n",
              "       [ 8314.73  ],\n",
              "       [ 3837.4873],\n",
              "       [11318.648 ],\n",
              "       [10136.116 ],\n",
              "       [ 6156.398 ],\n",
              "       [ 6497.719 ],\n",
              "       [11687.721 ],\n",
              "       [10722.848 ],\n",
              "       [12640.231 ],\n",
              "       [ 6402.8384],\n",
              "       [12325.829 ],\n",
              "       [ 8488.022 ],\n",
              "       [10497.048 ],\n",
              "       [ 5779.4863],\n",
              "       [ 4445.1206],\n",
              "       [10451.562 ],\n",
              "       [ 5151.72  ],\n",
              "       [ 4789.5464],\n",
              "       [ 7868.999 ],\n",
              "       [ 9363.171 ],\n",
              "       [ 9752.483 ],\n",
              "       [ 8003.8535],\n",
              "       [ 9044.926 ],\n",
              "       [ 7378.987 ],\n",
              "       [ 5686.3   ],\n",
              "       [11201.773 ],\n",
              "       [ 5879.309 ],\n",
              "       [ 9083.209 ],\n",
              "       [ 4320.4585],\n",
              "       [12392.982 ],\n",
              "       [ 6610.8535],\n",
              "       [ 4972.5825],\n",
              "       [ 4984.2837],\n",
              "       [10133.881 ],\n",
              "       [ 6253.147 ],\n",
              "       [11102.782 ],\n",
              "       [ 8758.359 ],\n",
              "       [10780.647 ],\n",
              "       [12544.554 ],\n",
              "       [12730.26  ],\n",
              "       [ 9481.495 ],\n",
              "       [ 6390.595 ],\n",
              "       [ 6892.676 ],\n",
              "       [ 8388.418 ],\n",
              "       [ 6607.3354],\n",
              "       [ 4316.4863],\n",
              "       [ 6160.385 ],\n",
              "       [ 7110.9907],\n",
              "       [ 6200.542 ],\n",
              "       [ 4066.051 ],\n",
              "       [ 8486.97  ],\n",
              "       [11355.904 ],\n",
              "       [12145.751 ],\n",
              "       [ 3963.0095],\n",
              "       [ 8951.675 ],\n",
              "       [10567.982 ],\n",
              "       [ 3775.1326],\n",
              "       [10600.426 ],\n",
              "       [ 4121.8623],\n",
              "       [ 5666.6562],\n",
              "       [11686.79  ],\n",
              "       [ 7037.3164],\n",
              "       [ 9919.293 ],\n",
              "       [ 4319.9795],\n",
              "       [12017.9375],\n",
              "       [ 8715.688 ],\n",
              "       [ 7595.703 ],\n",
              "       [ 4828.2017],\n",
              "       [ 7042.606 ],\n",
              "       [ 8417.025 ],\n",
              "       [10608.522 ],\n",
              "       [ 5130.2876],\n",
              "       [ 5756.9624],\n",
              "       [ 8402.204 ],\n",
              "       [ 8818.974 ],\n",
              "       [ 9906.119 ],\n",
              "       [11911.366 ],\n",
              "       [ 5017.3438],\n",
              "       [ 6589.786 ],\n",
              "       [ 7259.908 ],\n",
              "       [ 7275.513 ],\n",
              "       [ 9238.413 ],\n",
              "       [ 7997.9893],\n",
              "       [11940.31  ],\n",
              "       [ 6869.425 ],\n",
              "       [ 8554.516 ],\n",
              "       [ 9064.638 ],\n",
              "       [ 7598.529 ],\n",
              "       [ 7338.619 ],\n",
              "       [10343.785 ],\n",
              "       [ 5512.364 ],\n",
              "       [10595.846 ],\n",
              "       [ 5188.713 ],\n",
              "       [ 9864.415 ],\n",
              "       [ 6774.7954],\n",
              "       [ 6396.5483],\n",
              "       [10392.063 ],\n",
              "       [ 7196.264 ],\n",
              "       [10798.922 ],\n",
              "       [ 4833.359 ],\n",
              "       [ 4037.105 ],\n",
              "       [ 6671.804 ],\n",
              "       [ 7915.307 ],\n",
              "       [ 7055.7744],\n",
              "       [12452.991 ],\n",
              "       [ 9510.925 ],\n",
              "       [ 4136.5015],\n",
              "       [ 8212.23  ],\n",
              "       [11684.626 ],\n",
              "       [ 4031.0781],\n",
              "       [12761.66  ],\n",
              "       [ 4785.7783],\n",
              "       [ 4908.8594],\n",
              "       [ 8650.642 ],\n",
              "       [12731.789 ],\n",
              "       [11482.093 ],\n",
              "       [ 8969.082 ],\n",
              "       [ 5248.7134],\n",
              "       [ 9789.266 ],\n",
              "       [ 7999.4424],\n",
              "       [ 8132.5923],\n",
              "       [ 6360.9927],\n",
              "       [ 4623.894 ],\n",
              "       [ 9469.958 ],\n",
              "       [ 4062.0542],\n",
              "       [12951.568 ],\n",
              "       [ 6463.9854],\n",
              "       [11362.673 ],\n",
              "       [12601.414 ],\n",
              "       [ 4300.653 ],\n",
              "       [ 9379.491 ],\n",
              "       [ 7045.5923],\n",
              "       [ 5939.3794],\n",
              "       [ 5097.334 ],\n",
              "       [ 6023.8765],\n",
              "       [ 6183.81  ],\n",
              "       [ 9724.579 ],\n",
              "       [11034.064 ],\n",
              "       [ 4967.7983],\n",
              "       [ 3878.6572],\n",
              "       [ 4574.4263],\n",
              "       [ 6516.015 ],\n",
              "       [12541.496 ],\n",
              "       [10344.752 ],\n",
              "       [ 4014.5352],\n",
              "       [10869.238 ],\n",
              "       [ 3840.481 ],\n",
              "       [10035.377 ],\n",
              "       [ 5336.4155],\n",
              "       [10460.817 ],\n",
              "       [ 6417.125 ],\n",
              "       [ 4056.4622],\n",
              "       [ 4251.9697],\n",
              "       [ 5576.396 ],\n",
              "       [10047.597 ],\n",
              "       [ 4564.166 ],\n",
              "       [ 9843.39  ],\n",
              "       [ 5126.93  ],\n",
              "       [12306.487 ],\n",
              "       [11378.573 ],\n",
              "       [ 9574.413 ],\n",
              "       [ 5412.906 ],\n",
              "       [ 8099.1157],\n",
              "       [ 6189.932 ],\n",
              "       [ 6780.402 ],\n",
              "       [11829.06  ],\n",
              "       [11962.424 ],\n",
              "       [ 7247.939 ],\n",
              "       [ 4547.193 ],\n",
              "       [ 9059.299 ],\n",
              "       [ 7811.4336],\n",
              "       [ 8868.94  ],\n",
              "       [ 4692.3726],\n",
              "       [ 5862.761 ],\n",
              "       [ 3954.8708],\n",
              "       [ 4090.0576],\n",
              "       [10295.257 ],\n",
              "       [10077.394 ],\n",
              "       [ 4561.594 ],\n",
              "       [10130.046 ],\n",
              "       [ 5959.2437],\n",
              "       [ 8719.03  ],\n",
              "       [10327.849 ],\n",
              "       [ 9993.171 ],\n",
              "       [ 5462.713 ],\n",
              "       [ 8596.91  ],\n",
              "       [ 8706.347 ],\n",
              "       [ 4714.322 ],\n",
              "       [11880.951 ],\n",
              "       [ 6117.3296],\n",
              "       [ 5306.5894],\n",
              "       [ 5444.61  ],\n",
              "       [ 4017.5225],\n",
              "       [ 5454.314 ],\n",
              "       [ 5804.105 ],\n",
              "       [ 6627.705 ],\n",
              "       [10735.546 ],\n",
              "       [ 3914.4463],\n",
              "       [ 4269.4126],\n",
              "       [ 8241.43  ],\n",
              "       [ 5770.389 ],\n",
              "       [11351.172 ],\n",
              "       [ 4112.521 ],\n",
              "       [ 5281.568 ],\n",
              "       [12018.981 ],\n",
              "       [ 5497.962 ],\n",
              "       [ 9802.662 ],\n",
              "       [ 6434.6914],\n",
              "       [ 8155.1523],\n",
              "       [12110.616 ],\n",
              "       [ 5634.8867],\n",
              "       [12697.909 ],\n",
              "       [11610.1045],\n",
              "       [ 7748.107 ],\n",
              "       [11117.522 ],\n",
              "       [10350.033 ]], dtype=float32)"
            ]
          },
          "metadata": {
            "tags": []
          },
          "execution_count": 78
        }
      ]
    },
    {
      "cell_type": "code",
      "metadata": {
        "colab": {
          "base_uri": "https://localhost:8080/"
        },
        "id": "jMSCEla2Q7m8",
        "outputId": "18cf014d-601e-41f9-c56c-dc1d34ee489f"
      },
      "source": [
        "y_pred1=tf.squeeze(y_pred)\n",
        "y_pred1= tf.cast(y_pred,dtype=tf.float64)\n",
        "y_test1 = tf.cast(y_test,dtype=tf.float64)\n",
        "y_test1.shape,y_pred.shape"
      ],
      "execution_count": null,
      "outputs": [
        {
          "output_type": "execute_result",
          "data": {
            "text/plain": [
              "(TensorShape([268]), (268, 1))"
            ]
          },
          "metadata": {
            "tags": []
          },
          "execution_count": 79
        }
      ]
    },
    {
      "cell_type": "code",
      "metadata": {
        "colab": {
          "base_uri": "https://localhost:8080/"
        },
        "id": "twTkdBoAxnUX",
        "outputId": "ee7666fc-9484-4547-91c0-e4363cccf710"
      },
      "source": [
        "model.evaluate(x_train,y_train)"
      ],
      "execution_count": null,
      "outputs": [
        {
          "output_type": "stream",
          "text": [
            "34/34 [==============================] - 0s 933us/step - loss: 7021.0552 - mae: 7021.0552\n"
          ],
          "name": "stdout"
        },
        {
          "output_type": "execute_result",
          "data": {
            "text/plain": [
              "[7021.05517578125, 7021.05517578125]"
            ]
          },
          "metadata": {
            "tags": []
          },
          "execution_count": 80
        }
      ]
    },
    {
      "cell_type": "code",
      "metadata": {
        "colab": {
          "base_uri": "https://localhost:8080/"
        },
        "id": "mJhVqCeGxs6a",
        "outputId": "eb789dfb-3a89-4790-c63a-554e03914e4d"
      },
      "source": [
        "model.evaluate(x_test,y_pred1)"
      ],
      "execution_count": null,
      "outputs": [
        {
          "output_type": "stream",
          "text": [
            "9/9 [==============================] - 0s 3ms/step - loss: 2.4141e-04 - mae: 2.4141e-04\n"
          ],
          "name": "stdout"
        },
        {
          "output_type": "execute_result",
          "data": {
            "text/plain": [
              "[0.00024140770256053656, 0.00024140770256053656]"
            ]
          },
          "metadata": {
            "tags": []
          },
          "execution_count": 82
        }
      ]
    },
    {
      "cell_type": "code",
      "metadata": {
        "colab": {
          "base_uri": "https://localhost:8080/",
          "height": 201
        },
        "id": "KC5KD58Wxz-X",
        "outputId": "e911acae-641b-4851-de6c-75277ff4a65f"
      },
      "source": [
        "from tensorflow.keras.utils import plot_model\n",
        "\n",
        "plot_model(model=model,show_shapes=True)"
      ],
      "execution_count": null,
      "outputs": [
        {
          "output_type": "execute_result",
          "data": {
            "image/png": "[encoded data removed]",
            "text/plain": [
              "<IPython.core.display.Image object>"
            ]
          },
          "metadata": {
            "tags": []
          },
          "execution_count": 83
        }
      ]
    },
    {
      "cell_type": "code",
      "metadata": {
        "colab": {
          "base_uri": "https://localhost:8080/"
        },
        "id": "hz99M4w64Y5D",
        "outputId": "5376535e-2a45-4fae-e819-874db944544c"
      },
      "source": [
        "mse(y_test1,y_pred1)"
      ],
      "execution_count": null,
      "outputs": [
        {
          "output_type": "execute_result",
          "data": {
            "text/plain": [
              "<tf.Tensor: shape=(268,), dtype=float64, numpy=\n",
              "array([1.70416422e+08, 1.86471170e+08, 1.55283177e+08, 1.68858574e+08,\n",
              "       2.33534387e+08, 1.88887997e+08, 2.35996522e+08, 1.55251328e+08,\n",
              "       2.08668452e+08, 1.64659808e+08, 2.01491696e+08, 1.76405494e+08,\n",
              "       2.03498051e+08, 1.67182205e+08, 1.55848224e+08, 1.66215758e+08,\n",
              "       1.63575764e+08, 1.66455264e+08, 1.68710727e+08, 1.73390172e+08,\n",
              "       2.15752581e+08, 1.72776116e+08, 2.34149701e+08, 2.22017167e+08,\n",
              "       1.63548609e+08, 1.59488710e+08, 1.55998404e+08, 2.08714985e+08,\n",
              "       1.67411481e+08, 2.37668974e+08, 1.78301583e+08, 1.57468362e+08,\n",
              "       2.26360789e+08, 2.02446835e+08, 2.11868546e+08, 1.69012764e+08,\n",
              "       2.28219837e+08, 1.73122706e+08, 1.61724970e+08, 1.85510325e+08,\n",
              "       2.34084045e+08, 2.23817946e+08, 1.57895624e+08, 1.56659082e+08,\n",
              "       1.92247910e+08, 1.56586458e+08, 2.26451545e+08, 2.15832534e+08,\n",
              "       1.72238800e+08, 1.96661836e+08, 1.55319635e+08, 2.37756919e+08,\n",
              "       1.76904600e+08, 2.38620784e+08, 1.57970138e+08, 1.63270093e+08,\n",
              "       2.01650974e+08, 1.97117368e+08, 1.56888659e+08, 1.60290864e+08,\n",
              "       1.55356372e+08, 1.98354242e+08, 1.55661522e+08, 1.75321771e+08,\n",
              "       1.61355903e+08, 2.06928019e+08, 2.27893609e+08, 1.61582790e+08,\n",
              "       2.16347918e+08, 2.22141021e+08, 1.81251776e+08, 1.68245810e+08,\n",
              "       1.65590318e+08, 1.79894630e+08, 1.70641731e+08, 1.86489344e+08,\n",
              "       2.08276507e+08, 1.58369408e+08, 2.05502766e+08, 1.70342796e+08,\n",
              "       2.30034189e+08, 1.55579741e+08, 1.95666074e+08, 2.19180502e+08,\n",
              "       2.18993520e+08, 1.63282760e+08, 2.00342241e+08, 1.58728952e+08,\n",
              "       1.72972475e+08, 1.60034630e+08, 1.55428307e+08, 1.55305403e+08,\n",
              "       1.67406659e+08, 1.98515156e+08, 1.92162148e+08, 1.76224207e+08,\n",
              "       1.95710819e+08, 2.30102907e+08, 2.01596674e+08, 1.89557003e+08,\n",
              "       2.01051511e+08, 2.34499072e+08, 1.75331205e+08, 1.57848606e+08,\n",
              "       1.55925346e+08, 2.36344295e+08, 1.71382147e+08, 1.61010338e+08,\n",
              "       2.39763373e+08, 1.60855641e+08, 2.33508493e+08, 2.08562982e+08,\n",
              "       1.56891043e+08, 1.90425500e+08, 1.64545279e+08, 2.30042474e+08,\n",
              "       1.56151953e+08, 1.73333581e+08, 1.84113712e+08, 2.21510210e+08,\n",
              "       1.90362784e+08, 1.75962987e+08, 1.60817362e+08, 2.16683437e+08,\n",
              "       2.07252368e+08, 1.76098119e+08, 1.72465782e+08, 1.64625788e+08,\n",
              "       1.56365877e+08, 2.18466708e+08, 1.95934388e+08, 1.87834663e+08,\n",
              "       1.87656747e+08, 1.69160915e+08, 1.79952890e+08, 1.56305531e+08,\n",
              "       1.92445218e+08, 1.74730375e+08, 1.70487444e+08, 1.84083357e+08,\n",
              "       1.86942230e+08, 1.62136899e+08, 2.10839971e+08, 1.60877352e+08,\n",
              "       2.15770973e+08, 1.64882939e+08, 1.93608442e+08, 1.98436876e+08,\n",
              "       1.61885814e+08, 1.88565326e+08, 1.59955007e+08, 2.21426276e+08,\n",
              "       2.35015281e+08, 1.94894806e+08, 1.80781641e+08, 1.90206892e+08,\n",
              "       1.55514292e+08, 1.67202293e+08, 2.33249698e+08, 1.77869091e+08,\n",
              "       1.56896594e+08, 2.35122971e+08, 1.55291439e+08, 2.22202672e+08,\n",
              "       2.20203590e+08, 1.73891053e+08, 1.55304677e+08, 1.57457594e+08,\n",
              "       1.71242612e+08, 2.14841013e+08, 1.65355100e+08, 1.79938447e+08,\n",
              "       1.78632966e+08, 1.98905467e+08, 2.24878127e+08, 1.67487248e+08,\n",
              "       2.34570250e+08, 1.55249012e+08, 1.97555063e+08, 1.57826825e+08,\n",
              "       1.55383349e+08, 2.30377135e+08, 1.68128402e+08, 1.90327400e+08,\n",
              "       2.04654696e+08, 2.17201106e+08, 2.03473987e+08, 2.01278267e+08,\n",
              "       1.65770567e+08, 1.58990065e+08, 2.19257031e+08, 2.37870647e+08,\n",
              "       2.25706134e+08, 1.96880932e+08, 1.55430908e+08, 1.62131825e+08,\n",
              "       2.35418942e+08, 1.59654863e+08, 2.38566123e+08, 1.63850869e+08,\n",
              "       2.13494653e+08, 1.61536286e+08, 1.98166849e+08, 2.34669889e+08,\n",
              "       2.31223442e+08, 2.09889229e+08, 1.63779339e+08, 2.25878486e+08,\n",
              "       1.65013903e+08, 2.16736080e+08, 1.55686750e+08, 1.57776017e+08,\n",
              "       1.66767316e+08, 2.12332971e+08, 1.78957853e+08, 2.01195234e+08,\n",
              "       1.93539026e+08, 1.56546639e+08, 1.56260553e+08, 1.87971457e+08,\n",
              "       2.26164064e+08, 1.70529155e+08, 1.81842179e+08, 1.72053620e+08,\n",
              "       2.23739989e+08, 2.05737655e+08, 2.36490944e+08, 2.34072222e+08,\n",
              "       1.62393982e+08, 1.63606170e+08, 2.25921720e+08, 1.63304515e+08,\n",
              "       2.04375842e+08, 1.73305170e+08, 1.62220805e+08, 1.64100226e+08,\n",
              "       2.11582825e+08, 1.74357930e+08, 1.73413123e+08, 2.23377170e+08,\n",
              "       1.56431096e+08, 2.02184761e+08, 2.13950803e+08, 2.11854902e+08,\n",
              "       2.35365455e+08, 2.11708974e+08, 2.06574666e+08, 1.95452092e+08,\n",
              "       1.60233999e+08, 2.37221307e+08, 2.30919670e+08, 1.77592196e+08,\n",
              "       2.07058898e+08, 1.57863890e+08, 2.33673855e+08, 2.14334845e+08,\n",
              "       1.56149970e+08, 2.11054938e+08, 1.65270103e+08, 1.97936996e+08,\n",
              "       1.78415286e+08, 1.55984382e+08, 2.09027932e+08, 1.55321852e+08,\n",
              "       1.57093473e+08, 1.82499325e+08, 1.58674172e+08, 1.62104142e+08])>"
            ]
          },
          "metadata": {
            "tags": []
          },
          "execution_count": 85
        }
      ]
    },
    {
      "cell_type": "code",
      "metadata": {
        "colab": {
          "base_uri": "https://localhost:8080/"
        },
        "id": "FLocc8VN47Gj",
        "outputId": "2f8c74c4-6938-4545-c892-53fb8f06bf84"
      },
      "source": [
        "mae(y_test1,y_pred1)"
      ],
      "execution_count": null,
      "outputs": [
        {
          "output_type": "execute_result",
          "data": {
            "text/plain": [
              "<tf.Tensor: shape=(268,), dtype=float64, numpy=\n",
              "array([8603.07668426, 8646.48836677, 9372.38817978, 8614.16294155,\n",
              "       9590.13799772, 8672.39343973, 9663.99150189, 9422.62721895,\n",
              "       8981.99263451, 8681.36006399, 8851.42860479, 8590.06459933,\n",
              "       8885.54986982, 8635.54351769, 9167.93857925, 8650.55932081,\n",
              "       8709.22108928, 8646.70905233, 8615.56345732, 8592.01465763,\n",
              "       9127.39353937, 8593.64238326, 9608.52573311, 9272.39439586,\n",
              "       8709.95906444, 8853.12866881, 9140.42171184, 8982.91891862,\n",
              "       8632.09289969, 9714.78798631, 8594.00767569, 8977.09606765,\n",
              "       9385.39019146, 8867.18301095, 9047.44632761, 8612.91883008,\n",
              "       9436.9248222 , 8592.72020946, 8763.81909745, 8638.41498124,\n",
              "       9606.56712224, 9318.39610028, 8945.3026885 , 9052.32897693,\n",
              "       8717.01228976, 9060.18969288, 9387.79887558, 9129.15722582,\n",
              "       8595.23356842, 8777.9136319 , 9342.28308999, 9717.46208409,\n",
              "       8590.46712527, 9743.95079569, 8940.21137262, 8717.59898981,\n",
              "       8854.04827013, 8784.2353728 , 9028.72824524, 8816.9714714 ,\n",
              "       9319.25270094, 8801.47362613, 9209.63455054, 8589.6213131 ,\n",
              "       8775.89876746, 8948.38477136, 9427.7946916 , 8768.43086284,\n",
              "       9140.50141102, 9275.44708651, 8607.84153969, 8620.79038424,\n",
              "       8661.55848866, 8600.30218467, 8602.00133591, 8646.64611076,\n",
              "       8974.17450106, 8914.51374249, 8921.88603659, 8603.42981364,\n",
              "       9488.08254241, 9232.1867374 , 8764.10195907, 9204.87126678,\n",
              "       9200.50515787, 8717.24867353, 8832.49885423, 8893.09027146,\n",
              "       8593.11882187, 8828.18635888, 9285.2610203 , 9352.81283871,\n",
              "       8632.16513617, 8803.84508312, 8715.85421781, 8589.91721856,\n",
              "       8764.70580629, 9490.03898335, 8853.1556993 , 8681.22258507,\n",
              "       8844.16527544, 9619.01222833, 8589.6213131 , 8948.55223665,\n",
              "       9153.17028185, 9674.45180639, 8598.52182186, 8787.56786051,\n",
              "       9778.85083468, 8793.22697677, 9589.36262531, 8979.89165503,\n",
              "       9028.49210659, 8692.76856002, 8684.15463605, 9488.3184697 ,\n",
              "       9116.48803362, 8592.16350325, 8627.87140396, 9259.86958825,\n",
              "       8691.93960057, 8589.70373033, 8794.78897082, 9148.01882153,\n",
              "       8954.43934133, 8589.81433697, 8594.47585749, 8682.18839304,\n",
              "       9087.06163291, 9188.20567891, 8767.74577975, 8659.90983897,\n",
              "       8658.03288013, 8611.72998913, 8600.6085265 , 9095.05345602,\n",
              "       8719.7203199 , 8589.6722409 , 8602.73685509, 8627.63944486,\n",
              "       8650.61541856, 8750.7362354 , 9026.43821995, 8792.37248458,\n",
              "       9127.79934482, 8676.03983887, 8735.96267866, 8802.68999917,\n",
              "       8758.66252679, 8668.43976815, 8831.73214071, 9257.79130292,\n",
              "       9634.5653271 , 8753.64027457, 8605.07687667, 8689.87588716,\n",
              "       9253.14581507, 8635.23987964, 9581.62739728, 8592.65687112,\n",
              "       9027.94301611, 9637.8036375 , 9364.52940237, 9276.96556103,\n",
              "       9228.64855951, 8590.99243327, 9353.38347187, 8977.98710805,\n",
              "       8599.17134524, 9107.5202295 , 8666.03187709, 8600.53261698,\n",
              "       8595.03413033, 8809.68262559, 9346.4739447 , 8630.95976653,\n",
              "       9621.15977672, 9435.3906722 , 8790.27726296, 8950.06758472,\n",
              "       9305.27084183, 9497.83757097, 8622.14195102, 8691.47159393,\n",
              "       8906.23334   , 9159.57717842, 8885.12322862, 8847.91123072,\n",
              "       8658.22663232, 8878.60300965, 9206.65640845, 9720.91802581,\n",
              "       9368.25453151, 8780.95849547, 9284.18857248, 8750.89496324,\n",
              "       9646.69239682, 8845.37562252, 9742.27524401, 8701.81149419,\n",
              "       9080.27312988, 8769.95048155, 8798.80821175, 9624.16445548,\n",
              "       9522.25236581, 9006.84627003, 8703.72652596, 9372.77210599,\n",
              "       8673.21553267, 9149.19642472, 9203.42785453, 8953.62737367,\n",
              "       8641.87298365, 9056.86940145, 8596.23245143, 8846.54061797,\n",
              "       8735.00037835, 9064.59034587, 9101.15963169, 8661.49387767,\n",
              "       9380.24535619, 8602.53764363, 8611.27828176, 8595.90593899,\n",
              "       9316.35710243, 8926.20823663, 9678.88556047, 9606.21436272,\n",
              "       8742.76889922, 8708.39618548, 9373.90445572, 8716.64767218,\n",
              "       8901.19315519, 8592.2383196 , 8748.11979125, 8695.19711248,\n",
              "       9041.62990678, 8590.1904714 , 8591.95435854, 9306.85669432,\n",
              "       9078.66345048, 8862.79491776, 9089.39904814, 9047.16889276,\n",
              "       9645.08727789, 9044.19972736, 8941.77080506, 8761.2095267 ,\n",
              "       8819.43530944, 9701.15391667, 9513.42498941, 8591.84743316,\n",
              "       8950.82878663, 8947.49273922, 9594.31212464, 9097.05487545,\n",
              "       9116.77628718, 9030.84475782, 8667.74466921, 8795.53089715,\n",
              "       8594.36069575, 9142.7895771 , 8989.24866996, 9340.74172455,\n",
              "       9009.51238207, 8615.48511992, 8896.28032218, 8751.76203414])>"
            ]
          },
          "metadata": {
            "tags": []
          },
          "execution_count": 86
        }
      ]
    },
    {
      "cell_type": "code",
      "metadata": {
        "colab": {
          "base_uri": "https://localhost:8080/",
          "height": 715
        },
        "id": "UuUQBPoZSFsD",
        "outputId": "b93e991e-e0e2-476d-f8f1-5199a07f4608"
      },
      "source": [
        "#model2 is designing\n",
        "#input layer\n",
        "model2 = tf.keras.Sequential(\n",
        "    tf.keras.layers.Dense(10),\n",
        "    tf.keras.layers.Dense(1)\n",
        ")\n",
        "#compile of model\n",
        "model2.compile(loss = tf.keras.losses.mae,\n",
        "               optimizer = tf.keras.optimizers.SGD(learning_rate=0.01),\n",
        "               metrics = ['mae'] )\n",
        "\n",
        "#fitting the model\n",
        "model2.fit(x_train, y_train, epochs=50)"
      ],
      "execution_count": null,
      "outputs": [
        {
          "output_type": "stream",
          "text": [
            "Epoch 1/50\n"
          ],
          "name": "stdout"
        },
        {
          "output_type": "error",
          "ename": "TypeError",
          "evalue": "ignored",
          "traceback": [
            "\u001b[0;31m---------------------------------------------------------------------------\u001b[0m",
            "\u001b[0;31mTypeError\u001b[0m                                 Traceback (most recent call last)",
            "\u001b[0;32m<ipython-input-64-42d163397813>\u001b[0m in \u001b[0;36m<module>\u001b[0;34m()\u001b[0m\n\u001b[1;32m     11\u001b[0m \u001b[0;34m\u001b[0m\u001b[0m\n\u001b[1;32m     12\u001b[0m \u001b[0;31m#fitting the model\u001b[0m\u001b[0;34m\u001b[0m\u001b[0;34m\u001b[0m\u001b[0;34m\u001b[0m\u001b[0m\n\u001b[0;32m---> 13\u001b[0;31m \u001b[0mmodel2\u001b[0m\u001b[0;34m.\u001b[0m\u001b[0mfit\u001b[0m\u001b[0;34m(\u001b[0m\u001b[0mx_train\u001b[0m\u001b[0;34m,\u001b[0m\u001b[0my_train\u001b[0m\u001b[0;34m,\u001b[0m\u001b[0mepochs\u001b[0m\u001b[0;34m=\u001b[0m\u001b[0;36m50\u001b[0m\u001b[0;34m)\u001b[0m\u001b[0;34m\u001b[0m\u001b[0;34m\u001b[0m\u001b[0m\n\u001b[0m",
            "\u001b[0;32m/usr/local/lib/python3.7/dist-packages/tensorflow/python/keras/engine/training.py\u001b[0m in \u001b[0;36mfit\u001b[0;34m(self, x, y, batch_size, epochs, verbose, callbacks, validation_split, validation_data, shuffle, class_weight, sample_weight, initial_epoch, steps_per_epoch, validation_steps, validation_batch_size, validation_freq, max_queue_size, workers, use_multiprocessing)\u001b[0m\n\u001b[1;32m   1181\u001b[0m                 _r=1):\n\u001b[1;32m   1182\u001b[0m               \u001b[0mcallbacks\u001b[0m\u001b[0;34m.\u001b[0m\u001b[0mon_train_batch_begin\u001b[0m\u001b[0;34m(\u001b[0m\u001b[0mstep\u001b[0m\u001b[0;34m)\u001b[0m\u001b[0;34m\u001b[0m\u001b[0;34m\u001b[0m\u001b[0m\n\u001b[0;32m-> 1183\u001b[0;31m               \u001b[0mtmp_logs\u001b[0m \u001b[0;34m=\u001b[0m \u001b[0mself\u001b[0m\u001b[0;34m.\u001b[0m\u001b[0mtrain_function\u001b[0m\u001b[0;34m(\u001b[0m\u001b[0miterator\u001b[0m\u001b[0;34m)\u001b[0m\u001b[0;34m\u001b[0m\u001b[0;34m\u001b[0m\u001b[0m\n\u001b[0m\u001b[1;32m   1184\u001b[0m               \u001b[0;32mif\u001b[0m \u001b[0mdata_handler\u001b[0m\u001b[0;34m.\u001b[0m\u001b[0mshould_sync\u001b[0m\u001b[0;34m:\u001b[0m\u001b[0;34m\u001b[0m\u001b[0;34m\u001b[0m\u001b[0m\n\u001b[1;32m   1185\u001b[0m                 \u001b[0mcontext\u001b[0m\u001b[0;34m.\u001b[0m\u001b[0masync_wait\u001b[0m\u001b[0;34m(\u001b[0m\u001b[0;34m)\u001b[0m\u001b[0;34m\u001b[0m\u001b[0;34m\u001b[0m\u001b[0m\n",
            "\u001b[0;32m/usr/local/lib/python3.7/dist-packages/tensorflow/python/eager/def_function.py\u001b[0m in \u001b[0;36m__call__\u001b[0;34m(self, *args, **kwds)\u001b[0m\n\u001b[1;32m    887\u001b[0m \u001b[0;34m\u001b[0m\u001b[0m\n\u001b[1;32m    888\u001b[0m       \u001b[0;32mwith\u001b[0m \u001b[0mOptionalXlaContext\u001b[0m\u001b[0;34m(\u001b[0m\u001b[0mself\u001b[0m\u001b[0;34m.\u001b[0m\u001b[0m_jit_compile\u001b[0m\u001b[0;34m)\u001b[0m\u001b[0;34m:\u001b[0m\u001b[0;34m\u001b[0m\u001b[0;34m\u001b[0m\u001b[0m\n\u001b[0;32m--> 889\u001b[0;31m         \u001b[0mresult\u001b[0m \u001b[0;34m=\u001b[0m \u001b[0mself\u001b[0m\u001b[0;34m.\u001b[0m\u001b[0m_call\u001b[0m\u001b[0;34m(\u001b[0m\u001b[0;34m*\u001b[0m\u001b[0margs\u001b[0m\u001b[0;34m,\u001b[0m \u001b[0;34m**\u001b[0m\u001b[0mkwds\u001b[0m\u001b[0;34m)\u001b[0m\u001b[0;34m\u001b[0m\u001b[0;34m\u001b[0m\u001b[0m\n\u001b[0m\u001b[1;32m    890\u001b[0m \u001b[0;34m\u001b[0m\u001b[0m\n\u001b[1;32m    891\u001b[0m       \u001b[0mnew_tracing_count\u001b[0m \u001b[0;34m=\u001b[0m \u001b[0mself\u001b[0m\u001b[0;34m.\u001b[0m\u001b[0mexperimental_get_tracing_count\u001b[0m\u001b[0;34m(\u001b[0m\u001b[0;34m)\u001b[0m\u001b[0;34m\u001b[0m\u001b[0;34m\u001b[0m\u001b[0m\n",
            "\u001b[0;32m/usr/local/lib/python3.7/dist-packages/tensorflow/python/eager/def_function.py\u001b[0m in \u001b[0;36m_call\u001b[0;34m(self, *args, **kwds)\u001b[0m\n\u001b[1;32m    931\u001b[0m       \u001b[0;31m# This is the first call of __call__, so we have to initialize.\u001b[0m\u001b[0;34m\u001b[0m\u001b[0;34m\u001b[0m\u001b[0;34m\u001b[0m\u001b[0m\n\u001b[1;32m    932\u001b[0m       \u001b[0minitializers\u001b[0m \u001b[0;34m=\u001b[0m \u001b[0;34m[\u001b[0m\u001b[0;34m]\u001b[0m\u001b[0;34m\u001b[0m\u001b[0;34m\u001b[0m\u001b[0m\n\u001b[0;32m--> 933\u001b[0;31m       \u001b[0mself\u001b[0m\u001b[0;34m.\u001b[0m\u001b[0m_initialize\u001b[0m\u001b[0;34m(\u001b[0m\u001b[0margs\u001b[0m\u001b[0;34m,\u001b[0m \u001b[0mkwds\u001b[0m\u001b[0;34m,\u001b[0m \u001b[0madd_initializers_to\u001b[0m\u001b[0;34m=\u001b[0m\u001b[0minitializers\u001b[0m\u001b[0;34m)\u001b[0m\u001b[0;34m\u001b[0m\u001b[0;34m\u001b[0m\u001b[0m\n\u001b[0m\u001b[1;32m    934\u001b[0m     \u001b[0;32mfinally\u001b[0m\u001b[0;34m:\u001b[0m\u001b[0;34m\u001b[0m\u001b[0;34m\u001b[0m\u001b[0m\n\u001b[1;32m    935\u001b[0m       \u001b[0;31m# At this point we know that the initialization is complete (or less\u001b[0m\u001b[0;34m\u001b[0m\u001b[0;34m\u001b[0m\u001b[0;34m\u001b[0m\u001b[0m\n",
            "\u001b[0;32m/usr/local/lib/python3.7/dist-packages/tensorflow/python/eager/def_function.py\u001b[0m in \u001b[0;36m_initialize\u001b[0;34m(self, args, kwds, add_initializers_to)\u001b[0m\n\u001b[1;32m    762\u001b[0m     self._concrete_stateful_fn = (\n\u001b[1;32m    763\u001b[0m         self._stateful_fn._get_concrete_function_internal_garbage_collected(  # pylint: disable=protected-access\n\u001b[0;32m--> 764\u001b[0;31m             *args, **kwds))\n\u001b[0m\u001b[1;32m    765\u001b[0m \u001b[0;34m\u001b[0m\u001b[0m\n\u001b[1;32m    766\u001b[0m     \u001b[0;32mdef\u001b[0m \u001b[0minvalid_creator_scope\u001b[0m\u001b[0;34m(\u001b[0m\u001b[0;34m*\u001b[0m\u001b[0munused_args\u001b[0m\u001b[0;34m,\u001b[0m \u001b[0;34m**\u001b[0m\u001b[0munused_kwds\u001b[0m\u001b[0;34m)\u001b[0m\u001b[0;34m:\u001b[0m\u001b[0;34m\u001b[0m\u001b[0;34m\u001b[0m\u001b[0m\n",
            "\u001b[0;32m/usr/local/lib/python3.7/dist-packages/tensorflow/python/eager/function.py\u001b[0m in \u001b[0;36m_get_concrete_function_internal_garbage_collected\u001b[0;34m(self, *args, **kwargs)\u001b[0m\n\u001b[1;32m   3048\u001b[0m       \u001b[0margs\u001b[0m\u001b[0;34m,\u001b[0m \u001b[0mkwargs\u001b[0m \u001b[0;34m=\u001b[0m \u001b[0;32mNone\u001b[0m\u001b[0;34m,\u001b[0m \u001b[0;32mNone\u001b[0m\u001b[0;34m\u001b[0m\u001b[0;34m\u001b[0m\u001b[0m\n\u001b[1;32m   3049\u001b[0m     \u001b[0;32mwith\u001b[0m \u001b[0mself\u001b[0m\u001b[0;34m.\u001b[0m\u001b[0m_lock\u001b[0m\u001b[0;34m:\u001b[0m\u001b[0;34m\u001b[0m\u001b[0;34m\u001b[0m\u001b[0m\n\u001b[0;32m-> 3050\u001b[0;31m       \u001b[0mgraph_function\u001b[0m\u001b[0;34m,\u001b[0m \u001b[0m_\u001b[0m \u001b[0;34m=\u001b[0m \u001b[0mself\u001b[0m\u001b[0;34m.\u001b[0m\u001b[0m_maybe_define_function\u001b[0m\u001b[0;34m(\u001b[0m\u001b[0margs\u001b[0m\u001b[0;34m,\u001b[0m \u001b[0mkwargs\u001b[0m\u001b[0;34m)\u001b[0m\u001b[0;34m\u001b[0m\u001b[0;34m\u001b[0m\u001b[0m\n\u001b[0m\u001b[1;32m   3051\u001b[0m     \u001b[0;32mreturn\u001b[0m \u001b[0mgraph_function\u001b[0m\u001b[0;34m\u001b[0m\u001b[0;34m\u001b[0m\u001b[0m\n\u001b[1;32m   3052\u001b[0m \u001b[0;34m\u001b[0m\u001b[0m\n",
            "\u001b[0;32m/usr/local/lib/python3.7/dist-packages/tensorflow/python/eager/function.py\u001b[0m in \u001b[0;36m_maybe_define_function\u001b[0;34m(self, args, kwargs)\u001b[0m\n\u001b[1;32m   3442\u001b[0m \u001b[0;34m\u001b[0m\u001b[0m\n\u001b[1;32m   3443\u001b[0m           \u001b[0mself\u001b[0m\u001b[0;34m.\u001b[0m\u001b[0m_function_cache\u001b[0m\u001b[0;34m.\u001b[0m\u001b[0mmissed\u001b[0m\u001b[0;34m.\u001b[0m\u001b[0madd\u001b[0m\u001b[0;34m(\u001b[0m\u001b[0mcall_context_key\u001b[0m\u001b[0;34m)\u001b[0m\u001b[0;34m\u001b[0m\u001b[0;34m\u001b[0m\u001b[0m\n\u001b[0;32m-> 3444\u001b[0;31m           \u001b[0mgraph_function\u001b[0m \u001b[0;34m=\u001b[0m \u001b[0mself\u001b[0m\u001b[0;34m.\u001b[0m\u001b[0m_create_graph_function\u001b[0m\u001b[0;34m(\u001b[0m\u001b[0margs\u001b[0m\u001b[0;34m,\u001b[0m \u001b[0mkwargs\u001b[0m\u001b[0;34m)\u001b[0m\u001b[0;34m\u001b[0m\u001b[0;34m\u001b[0m\u001b[0m\n\u001b[0m\u001b[1;32m   3445\u001b[0m           \u001b[0mself\u001b[0m\u001b[0;34m.\u001b[0m\u001b[0m_function_cache\u001b[0m\u001b[0;34m.\u001b[0m\u001b[0mprimary\u001b[0m\u001b[0;34m[\u001b[0m\u001b[0mcache_key\u001b[0m\u001b[0;34m]\u001b[0m \u001b[0;34m=\u001b[0m \u001b[0mgraph_function\u001b[0m\u001b[0;34m\u001b[0m\u001b[0;34m\u001b[0m\u001b[0m\n\u001b[1;32m   3446\u001b[0m \u001b[0;34m\u001b[0m\u001b[0m\n",
            "\u001b[0;32m/usr/local/lib/python3.7/dist-packages/tensorflow/python/eager/function.py\u001b[0m in \u001b[0;36m_create_graph_function\u001b[0;34m(self, args, kwargs, override_flat_arg_shapes)\u001b[0m\n\u001b[1;32m   3287\u001b[0m             \u001b[0marg_names\u001b[0m\u001b[0;34m=\u001b[0m\u001b[0marg_names\u001b[0m\u001b[0;34m,\u001b[0m\u001b[0;34m\u001b[0m\u001b[0;34m\u001b[0m\u001b[0m\n\u001b[1;32m   3288\u001b[0m             \u001b[0moverride_flat_arg_shapes\u001b[0m\u001b[0;34m=\u001b[0m\u001b[0moverride_flat_arg_shapes\u001b[0m\u001b[0;34m,\u001b[0m\u001b[0;34m\u001b[0m\u001b[0;34m\u001b[0m\u001b[0m\n\u001b[0;32m-> 3289\u001b[0;31m             capture_by_value=self._capture_by_value),\n\u001b[0m\u001b[1;32m   3290\u001b[0m         \u001b[0mself\u001b[0m\u001b[0;34m.\u001b[0m\u001b[0m_function_attributes\u001b[0m\u001b[0;34m,\u001b[0m\u001b[0;34m\u001b[0m\u001b[0;34m\u001b[0m\u001b[0m\n\u001b[1;32m   3291\u001b[0m         \u001b[0mfunction_spec\u001b[0m\u001b[0;34m=\u001b[0m\u001b[0mself\u001b[0m\u001b[0;34m.\u001b[0m\u001b[0mfunction_spec\u001b[0m\u001b[0;34m,\u001b[0m\u001b[0;34m\u001b[0m\u001b[0;34m\u001b[0m\u001b[0m\n",
            "\u001b[0;32m/usr/local/lib/python3.7/dist-packages/tensorflow/python/framework/func_graph.py\u001b[0m in \u001b[0;36mfunc_graph_from_py_func\u001b[0;34m(name, python_func, args, kwargs, signature, func_graph, autograph, autograph_options, add_control_dependencies, arg_names, op_return_value, collections, capture_by_value, override_flat_arg_shapes)\u001b[0m\n\u001b[1;32m    997\u001b[0m         \u001b[0m_\u001b[0m\u001b[0;34m,\u001b[0m \u001b[0moriginal_func\u001b[0m \u001b[0;34m=\u001b[0m \u001b[0mtf_decorator\u001b[0m\u001b[0;34m.\u001b[0m\u001b[0munwrap\u001b[0m\u001b[0;34m(\u001b[0m\u001b[0mpython_func\u001b[0m\u001b[0;34m)\u001b[0m\u001b[0;34m\u001b[0m\u001b[0;34m\u001b[0m\u001b[0m\n\u001b[1;32m    998\u001b[0m \u001b[0;34m\u001b[0m\u001b[0m\n\u001b[0;32m--> 999\u001b[0;31m       \u001b[0mfunc_outputs\u001b[0m \u001b[0;34m=\u001b[0m \u001b[0mpython_func\u001b[0m\u001b[0;34m(\u001b[0m\u001b[0;34m*\u001b[0m\u001b[0mfunc_args\u001b[0m\u001b[0;34m,\u001b[0m \u001b[0;34m**\u001b[0m\u001b[0mfunc_kwargs\u001b[0m\u001b[0;34m)\u001b[0m\u001b[0;34m\u001b[0m\u001b[0;34m\u001b[0m\u001b[0m\n\u001b[0m\u001b[1;32m   1000\u001b[0m \u001b[0;34m\u001b[0m\u001b[0m\n\u001b[1;32m   1001\u001b[0m       \u001b[0;31m# invariant: `func_outputs` contains only Tensors, CompositeTensors,\u001b[0m\u001b[0;34m\u001b[0m\u001b[0;34m\u001b[0m\u001b[0;34m\u001b[0m\u001b[0m\n",
            "\u001b[0;32m/usr/local/lib/python3.7/dist-packages/tensorflow/python/eager/def_function.py\u001b[0m in \u001b[0;36mwrapped_fn\u001b[0;34m(*args, **kwds)\u001b[0m\n\u001b[1;32m    670\u001b[0m         \u001b[0;31m# the function a weak reference to itself to avoid a reference cycle.\u001b[0m\u001b[0;34m\u001b[0m\u001b[0;34m\u001b[0m\u001b[0;34m\u001b[0m\u001b[0m\n\u001b[1;32m    671\u001b[0m         \u001b[0;32mwith\u001b[0m \u001b[0mOptionalXlaContext\u001b[0m\u001b[0;34m(\u001b[0m\u001b[0mcompile_with_xla\u001b[0m\u001b[0;34m)\u001b[0m\u001b[0;34m:\u001b[0m\u001b[0;34m\u001b[0m\u001b[0;34m\u001b[0m\u001b[0m\n\u001b[0;32m--> 672\u001b[0;31m           \u001b[0mout\u001b[0m \u001b[0;34m=\u001b[0m \u001b[0mweak_wrapped_fn\u001b[0m\u001b[0;34m(\u001b[0m\u001b[0;34m)\u001b[0m\u001b[0;34m.\u001b[0m\u001b[0m__wrapped__\u001b[0m\u001b[0;34m(\u001b[0m\u001b[0;34m*\u001b[0m\u001b[0margs\u001b[0m\u001b[0;34m,\u001b[0m \u001b[0;34m**\u001b[0m\u001b[0mkwds\u001b[0m\u001b[0;34m)\u001b[0m\u001b[0;34m\u001b[0m\u001b[0;34m\u001b[0m\u001b[0m\n\u001b[0m\u001b[1;32m    673\u001b[0m         \u001b[0;32mreturn\u001b[0m \u001b[0mout\u001b[0m\u001b[0;34m\u001b[0m\u001b[0;34m\u001b[0m\u001b[0m\n\u001b[1;32m    674\u001b[0m \u001b[0;34m\u001b[0m\u001b[0m\n",
            "\u001b[0;32m/usr/local/lib/python3.7/dist-packages/tensorflow/python/framework/func_graph.py\u001b[0m in \u001b[0;36mwrapper\u001b[0;34m(*args, **kwargs)\u001b[0m\n\u001b[1;32m    984\u001b[0m           \u001b[0;32mexcept\u001b[0m \u001b[0mException\u001b[0m \u001b[0;32mas\u001b[0m \u001b[0me\u001b[0m\u001b[0;34m:\u001b[0m  \u001b[0;31m# pylint:disable=broad-except\u001b[0m\u001b[0;34m\u001b[0m\u001b[0;34m\u001b[0m\u001b[0m\n\u001b[1;32m    985\u001b[0m             \u001b[0;32mif\u001b[0m \u001b[0mhasattr\u001b[0m\u001b[0;34m(\u001b[0m\u001b[0me\u001b[0m\u001b[0;34m,\u001b[0m \u001b[0;34m\"ag_error_metadata\"\u001b[0m\u001b[0;34m)\u001b[0m\u001b[0;34m:\u001b[0m\u001b[0;34m\u001b[0m\u001b[0;34m\u001b[0m\u001b[0m\n\u001b[0;32m--> 986\u001b[0;31m               \u001b[0;32mraise\u001b[0m \u001b[0me\u001b[0m\u001b[0;34m.\u001b[0m\u001b[0mag_error_metadata\u001b[0m\u001b[0;34m.\u001b[0m\u001b[0mto_exception\u001b[0m\u001b[0;34m(\u001b[0m\u001b[0me\u001b[0m\u001b[0;34m)\u001b[0m\u001b[0;34m\u001b[0m\u001b[0;34m\u001b[0m\u001b[0m\n\u001b[0m\u001b[1;32m    987\u001b[0m             \u001b[0;32melse\u001b[0m\u001b[0;34m:\u001b[0m\u001b[0;34m\u001b[0m\u001b[0;34m\u001b[0m\u001b[0m\n\u001b[1;32m    988\u001b[0m               \u001b[0;32mraise\u001b[0m\u001b[0;34m\u001b[0m\u001b[0;34m\u001b[0m\u001b[0m\n",
            "\u001b[0;31mTypeError\u001b[0m: in user code:\n\n    /usr/local/lib/python3.7/dist-packages/tensorflow/python/keras/engine/training.py:855 train_function  *\n        return step_function(self, iterator)\n    /usr/local/lib/python3.7/dist-packages/tensorflow/python/keras/engine/training.py:845 step_function  **\n        outputs = model.distribute_strategy.run(run_step, args=(data,))\n    /usr/local/lib/python3.7/dist-packages/tensorflow/python/distribute/distribute_lib.py:1285 run\n        return self._extended.call_for_each_replica(fn, args=args, kwargs=kwargs)\n    /usr/local/lib/python3.7/dist-packages/tensorflow/python/distribute/distribute_lib.py:2833 call_for_each_replica\n        return self._call_for_each_replica(fn, args, kwargs)\n    /usr/local/lib/python3.7/dist-packages/tensorflow/python/distribute/distribute_lib.py:3608 _call_for_each_replica\n        return fn(*args, **kwargs)\n    /usr/local/lib/python3.7/dist-packages/tensorflow/python/keras/engine/training.py:838 run_step  **\n        outputs = model.train_step(data)\n    /usr/local/lib/python3.7/dist-packages/tensorflow/python/keras/engine/training.py:795 train_step\n        y_pred = self(x, training=True)\n    /usr/local/lib/python3.7/dist-packages/tensorflow/python/keras/engine/base_layer.py:1018 __call__\n        name_scope = self._name_scope()  # Avoid autoincrementing.\n    /usr/local/lib/python3.7/dist-packages/tensorflow/python/keras/engine/base_layer.py:2387 _name_scope\n        name_scope += '/'\n\n    TypeError: unsupported operand type(s) for +=: 'Dense' and 'str'\n"
          ]
        }
      ]
    },
    {
      "cell_type": "code",
      "metadata": {
        "id": "IaT7ZYwkTefm"
      },
      "source": [
        ""
      ],
      "execution_count": null,
      "outputs": []
    }
  ]
}