{
  "nbformat": 4,
  "nbformat_minor": 0,
  "metadata": {
    "colab": {
      "name": "large_problem_with_regression",
      "provenance": [],
      "mount_file_id": "1hWufx0G8NDdSUXDHKdK1W84bJ7Sbg__I",
      "authorship_tag": "ABX9TyMWDfD+2FB5Vr7FfRjrtDA+",
      "include_colab_link": true
    },
    "kernelspec": {
      "name": "python3",
      "display_name": "Python 3"
    },
    "language_info": {
      "name": "python"
    }
  },
  "cells": [
    {
      "cell_type": "markdown",
      "metadata": {
        "id": "view-in-github",
        "colab_type": "text"
      },
      "source": [
        "<a href=\"https://colab.research.google.com/github/dhsprojects/advancepython/blob/master/large_problem_with_regression.ipynb\" target=\"_parent\"><img src=\"https://colab.research.google.com/assets/colab-badge.svg\" alt=\"Open In Colab\"/></a>"
      ]
    },
    {
      "cell_type": "code",
      "metadata": {
        "id": "SdWfe3-hojXl"
      },
      "source": [
        "#import the libary\n",
        "\n",
        "import tensorflow as tf\n",
        "import numpy as np\n",
        "import pandas as pd\n",
        "import matplotlib.pyplot as plt"
      ],
      "execution_count": null,
      "outputs": []
    },
    {
      "cell_type": "code",
      "metadata": {
        "colab": {
          "base_uri": "https://localhost:8080/",
          "height": 204
        },
        "id": "LhmSwWafpBr3",
        "outputId": "03e67a46-a1ca-4248-9615-982e2398435a"
      },
      "source": [
        "#loading the dataset\n",
        "\n",
        "df = pd.read_csv(\"https://raw.githubusercontent.com/stedy/Machine-Learning-with-R-datasets/master/insurance.csv\")\n",
        "df.head()"
      ],
      "execution_count": null,
      "outputs": [
        {
          "output_type": "execute_result",
          "data": {
            "text/html": [
              "<div>\n",
              "<style scoped>\n",
              "    .dataframe tbody tr th:only-of-type {\n",
              "        vertical-align: middle;\n",
              "    }\n",
              "\n",
              "    .dataframe tbody tr th {\n",
              "        vertical-align: top;\n",
              "    }\n",
              "\n",
              "    .dataframe thead th {\n",
              "        text-align: right;\n",
              "    }\n",
              "</style>\n",
              "<table border=\"1\" class=\"dataframe\">\n",
              "  <thead>\n",
              "    <tr style=\"text-align: right;\">\n",
              "      <th></th>\n",
              "      <th>age</th>\n",
              "      <th>sex</th>\n",
              "      <th>bmi</th>\n",
              "      <th>children</th>\n",
              "      <th>smoker</th>\n",
              "      <th>region</th>\n",
              "      <th>charges</th>\n",
              "    </tr>\n",
              "  </thead>\n",
              "  <tbody>\n",
              "    <tr>\n",
              "      <th>0</th>\n",
              "      <td>19</td>\n",
              "      <td>female</td>\n",
              "      <td>27.900</td>\n",
              "      <td>0</td>\n",
              "      <td>yes</td>\n",
              "      <td>southwest</td>\n",
              "      <td>16884.92400</td>\n",
              "    </tr>\n",
              "    <tr>\n",
              "      <th>1</th>\n",
              "      <td>18</td>\n",
              "      <td>male</td>\n",
              "      <td>33.770</td>\n",
              "      <td>1</td>\n",
              "      <td>no</td>\n",
              "      <td>southeast</td>\n",
              "      <td>1725.55230</td>\n",
              "    </tr>\n",
              "    <tr>\n",
              "      <th>2</th>\n",
              "      <td>28</td>\n",
              "      <td>male</td>\n",
              "      <td>33.000</td>\n",
              "      <td>3</td>\n",
              "      <td>no</td>\n",
              "      <td>southeast</td>\n",
              "      <td>4449.46200</td>\n",
              "    </tr>\n",
              "    <tr>\n",
              "      <th>3</th>\n",
              "      <td>33</td>\n",
              "      <td>male</td>\n",
              "      <td>22.705</td>\n",
              "      <td>0</td>\n",
              "      <td>no</td>\n",
              "      <td>northwest</td>\n",
              "      <td>21984.47061</td>\n",
              "    </tr>\n",
              "    <tr>\n",
              "      <th>4</th>\n",
              "      <td>32</td>\n",
              "      <td>male</td>\n",
              "      <td>28.880</td>\n",
              "      <td>0</td>\n",
              "      <td>no</td>\n",
              "      <td>northwest</td>\n",
              "      <td>3866.85520</td>\n",
              "    </tr>\n",
              "  </tbody>\n",
              "</table>\n",
              "</div>"
            ],
            "text/plain": [
              "   age     sex     bmi  children smoker     region      charges\n",
              "0   19  female  27.900         0    yes  southwest  16884.92400\n",
              "1   18    male  33.770         1     no  southeast   1725.55230\n",
              "2   28    male  33.000         3     no  southeast   4449.46200\n",
              "3   33    male  22.705         0     no  northwest  21984.47061\n",
              "4   32    male  28.880         0     no  northwest   3866.85520"
            ]
          },
          "metadata": {
            "tags": []
          },
          "execution_count": 2
        }
      ]
    },
    {
      "cell_type": "code",
      "metadata": {
        "colab": {
          "base_uri": "https://localhost:8080/"
        },
        "id": "rSgTVz-YpUQ8",
        "outputId": "19f0f4b7-48ae-4611-fe05-72753df8eb22"
      },
      "source": [
        "#checking the datatypes\n",
        "df.dtypes"
      ],
      "execution_count": null,
      "outputs": [
        {
          "output_type": "execute_result",
          "data": {
            "text/plain": [
              "age           int64\n",
              "sex          object\n",
              "bmi         float64\n",
              "children      int64\n",
              "smoker       object\n",
              "region       object\n",
              "charges     float64\n",
              "dtype: object"
            ]
          },
          "metadata": {
            "tags": []
          },
          "execution_count": 3
        }
      ]
    },
    {
      "cell_type": "code",
      "metadata": {
        "colab": {
          "base_uri": "https://localhost:8080/",
          "height": 439
        },
        "id": "8rcjmw_8pew5",
        "outputId": "b8ad0488-45fc-4b99-dd9a-d901a14f3442"
      },
      "source": [
        "#using one-hot encoder to convert the numeric data\n",
        "df = pd.get_dummies(df)\n",
        "df"
      ],
      "execution_count": null,
      "outputs": [
        {
          "output_type": "execute_result",
          "data": {
            "text/html": [
              "<div>\n",
              "<style scoped>\n",
              "    .dataframe tbody tr th:only-of-type {\n",
              "        vertical-align: middle;\n",
              "    }\n",
              "\n",
              "    .dataframe tbody tr th {\n",
              "        vertical-align: top;\n",
              "    }\n",
              "\n",
              "    .dataframe thead th {\n",
              "        text-align: right;\n",
              "    }\n",
              "</style>\n",
              "<table border=\"1\" class=\"dataframe\">\n",
              "  <thead>\n",
              "    <tr style=\"text-align: right;\">\n",
              "      <th></th>\n",
              "      <th>age</th>\n",
              "      <th>bmi</th>\n",
              "      <th>children</th>\n",
              "      <th>charges</th>\n",
              "      <th>sex_female</th>\n",
              "      <th>sex_male</th>\n",
              "      <th>smoker_no</th>\n",
              "      <th>smoker_yes</th>\n",
              "      <th>region_northeast</th>\n",
              "      <th>region_northwest</th>\n",
              "      <th>region_southeast</th>\n",
              "      <th>region_southwest</th>\n",
              "    </tr>\n",
              "  </thead>\n",
              "  <tbody>\n",
              "    <tr>\n",
              "      <th>0</th>\n",
              "      <td>19</td>\n",
              "      <td>27.900</td>\n",
              "      <td>0</td>\n",
              "      <td>16884.92400</td>\n",
              "      <td>1</td>\n",
              "      <td>0</td>\n",
              "      <td>0</td>\n",
              "      <td>1</td>\n",
              "      <td>0</td>\n",
              "      <td>0</td>\n",
              "      <td>0</td>\n",
              "      <td>1</td>\n",
              "    </tr>\n",
              "    <tr>\n",
              "      <th>1</th>\n",
              "      <td>18</td>\n",
              "      <td>33.770</td>\n",
              "      <td>1</td>\n",
              "      <td>1725.55230</td>\n",
              "      <td>0</td>\n",
              "      <td>1</td>\n",
              "      <td>1</td>\n",
              "      <td>0</td>\n",
              "      <td>0</td>\n",
              "      <td>0</td>\n",
              "      <td>1</td>\n",
              "      <td>0</td>\n",
              "    </tr>\n",
              "    <tr>\n",
              "      <th>2</th>\n",
              "      <td>28</td>\n",
              "      <td>33.000</td>\n",
              "      <td>3</td>\n",
              "      <td>4449.46200</td>\n",
              "      <td>0</td>\n",
              "      <td>1</td>\n",
              "      <td>1</td>\n",
              "      <td>0</td>\n",
              "      <td>0</td>\n",
              "      <td>0</td>\n",
              "      <td>1</td>\n",
              "      <td>0</td>\n",
              "    </tr>\n",
              "    <tr>\n",
              "      <th>3</th>\n",
              "      <td>33</td>\n",
              "      <td>22.705</td>\n",
              "      <td>0</td>\n",
              "      <td>21984.47061</td>\n",
              "      <td>0</td>\n",
              "      <td>1</td>\n",
              "      <td>1</td>\n",
              "      <td>0</td>\n",
              "      <td>0</td>\n",
              "      <td>1</td>\n",
              "      <td>0</td>\n",
              "      <td>0</td>\n",
              "    </tr>\n",
              "    <tr>\n",
              "      <th>4</th>\n",
              "      <td>32</td>\n",
              "      <td>28.880</td>\n",
              "      <td>0</td>\n",
              "      <td>3866.85520</td>\n",
              "      <td>0</td>\n",
              "      <td>1</td>\n",
              "      <td>1</td>\n",
              "      <td>0</td>\n",
              "      <td>0</td>\n",
              "      <td>1</td>\n",
              "      <td>0</td>\n",
              "      <td>0</td>\n",
              "    </tr>\n",
              "    <tr>\n",
              "      <th>...</th>\n",
              "      <td>...</td>\n",
              "      <td>...</td>\n",
              "      <td>...</td>\n",
              "      <td>...</td>\n",
              "      <td>...</td>\n",
              "      <td>...</td>\n",
              "      <td>...</td>\n",
              "      <td>...</td>\n",
              "      <td>...</td>\n",
              "      <td>...</td>\n",
              "      <td>...</td>\n",
              "      <td>...</td>\n",
              "    </tr>\n",
              "    <tr>\n",
              "      <th>1333</th>\n",
              "      <td>50</td>\n",
              "      <td>30.970</td>\n",
              "      <td>3</td>\n",
              "      <td>10600.54830</td>\n",
              "      <td>0</td>\n",
              "      <td>1</td>\n",
              "      <td>1</td>\n",
              "      <td>0</td>\n",
              "      <td>0</td>\n",
              "      <td>1</td>\n",
              "      <td>0</td>\n",
              "      <td>0</td>\n",
              "    </tr>\n",
              "    <tr>\n",
              "      <th>1334</th>\n",
              "      <td>18</td>\n",
              "      <td>31.920</td>\n",
              "      <td>0</td>\n",
              "      <td>2205.98080</td>\n",
              "      <td>1</td>\n",
              "      <td>0</td>\n",
              "      <td>1</td>\n",
              "      <td>0</td>\n",
              "      <td>1</td>\n",
              "      <td>0</td>\n",
              "      <td>0</td>\n",
              "      <td>0</td>\n",
              "    </tr>\n",
              "    <tr>\n",
              "      <th>1335</th>\n",
              "      <td>18</td>\n",
              "      <td>36.850</td>\n",
              "      <td>0</td>\n",
              "      <td>1629.83350</td>\n",
              "      <td>1</td>\n",
              "      <td>0</td>\n",
              "      <td>1</td>\n",
              "      <td>0</td>\n",
              "      <td>0</td>\n",
              "      <td>0</td>\n",
              "      <td>1</td>\n",
              "      <td>0</td>\n",
              "    </tr>\n",
              "    <tr>\n",
              "      <th>1336</th>\n",
              "      <td>21</td>\n",
              "      <td>25.800</td>\n",
              "      <td>0</td>\n",
              "      <td>2007.94500</td>\n",
              "      <td>1</td>\n",
              "      <td>0</td>\n",
              "      <td>1</td>\n",
              "      <td>0</td>\n",
              "      <td>0</td>\n",
              "      <td>0</td>\n",
              "      <td>0</td>\n",
              "      <td>1</td>\n",
              "    </tr>\n",
              "    <tr>\n",
              "      <th>1337</th>\n",
              "      <td>61</td>\n",
              "      <td>29.070</td>\n",
              "      <td>0</td>\n",
              "      <td>29141.36030</td>\n",
              "      <td>1</td>\n",
              "      <td>0</td>\n",
              "      <td>0</td>\n",
              "      <td>1</td>\n",
              "      <td>0</td>\n",
              "      <td>1</td>\n",
              "      <td>0</td>\n",
              "      <td>0</td>\n",
              "    </tr>\n",
              "  </tbody>\n",
              "</table>\n",
              "<p>1338 rows × 12 columns</p>\n",
              "</div>"
            ],
            "text/plain": [
              "      age     bmi  ...  region_southeast  region_southwest\n",
              "0      19  27.900  ...                 0                 1\n",
              "1      18  33.770  ...                 1                 0\n",
              "2      28  33.000  ...                 1                 0\n",
              "3      33  22.705  ...                 0                 0\n",
              "4      32  28.880  ...                 0                 0\n",
              "...   ...     ...  ...               ...               ...\n",
              "1333   50  30.970  ...                 0                 0\n",
              "1334   18  31.920  ...                 0                 0\n",
              "1335   18  36.850  ...                 1                 0\n",
              "1336   21  25.800  ...                 0                 1\n",
              "1337   61  29.070  ...                 0                 0\n",
              "\n",
              "[1338 rows x 12 columns]"
            ]
          },
          "metadata": {
            "tags": []
          },
          "execution_count": 4
        }
      ]
    },
    {
      "cell_type": "code",
      "metadata": {
        "colab": {
          "base_uri": "https://localhost:8080/"
        },
        "id": "9K5UkDfRpxOE",
        "outputId": "1b5e6f3b-83c9-46b1-cead-f75b8e2a48f5"
      },
      "source": [
        "#seperate x and y\n",
        "x = df.drop([\"charges\"],axis=1)\n",
        "y = df[\"charges\"]\n",
        "x.shape,y.shape"
      ],
      "execution_count": null,
      "outputs": [
        {
          "output_type": "execute_result",
          "data": {
            "text/plain": [
              "((1338, 11), (1338,))"
            ]
          },
          "metadata": {
            "tags": []
          },
          "execution_count": 5
        }
      ]
    },
    {
      "cell_type": "code",
      "metadata": {
        "id": "lgaKRaQOq6w3"
      },
      "source": [
        "#train_test_split\n",
        "from sklearn.model_selection import train_test_split\n",
        "x_train,x_test,y_train,y_test = train_test_split(x,y,test_size = 0.2,random_state=42)"
      ],
      "execution_count": null,
      "outputs": []
    },
    {
      "cell_type": "code",
      "metadata": {
        "colab": {
          "base_uri": "https://localhost:8080/"
        },
        "id": "mUXYazAZrsnR",
        "outputId": "a1d611fc-e48a-47c0-9e76-a7fac9e7d381"
      },
      "source": [
        "len(x),len(x_train),len(x_test)"
      ],
      "execution_count": null,
      "outputs": [
        {
          "output_type": "execute_result",
          "data": {
            "text/plain": [
              "(1338, 1070, 268)"
            ]
          },
          "metadata": {
            "tags": []
          },
          "execution_count": 7
        }
      ]
    },
    {
      "cell_type": "code",
      "metadata": {
        "colab": {
          "base_uri": "https://localhost:8080/"
        },
        "id": "XY6rkM-zrzj9",
        "outputId": "34990457-0b04-4c51-92df-5fdd4ada1e55"
      },
      "source": [
        "0.2*1338\n"
      ],
      "execution_count": null,
      "outputs": [
        {
          "output_type": "execute_result",
          "data": {
            "text/plain": [
              "267.6"
            ]
          },
          "metadata": {
            "tags": []
          },
          "execution_count": 8
        }
      ]
    },
    {
      "cell_type": "code",
      "metadata": {
        "id": "PrzenjICr4gG",
        "colab": {
          "base_uri": "https://localhost:8080/"
        },
        "outputId": "de8d603b-4995-4976-e81a-34ce5ac472ab"
      },
      "source": [
        "#model1\n",
        "\n",
        "# set random \n",
        "tf.random.set_seed(42)\n",
        "\n",
        "#create input and dense layer\n",
        "model1 = tf.keras.Sequential(\n",
        "    tf.keras.layers.Dense(1),\n",
        ")\n",
        "\n",
        "#compile the model\n",
        "model1.compile(loss = tf.keras.losses.mae,\n",
        "               optimizer = tf.keras.optimizers.SGD(),\n",
        "               metrics = ['mae'])\n",
        "\n",
        "#fitting the model\n",
        "model1.fit(x_train,y_train,epochs=5)"
      ],
      "execution_count": null,
      "outputs": [
        {
          "output_type": "stream",
          "text": [
            "Epoch 1/5\n",
            "34/34 [==============================] - 1s 892us/step - loss: 12936.5752 - mae: 12936.5752\n",
            "Epoch 2/5\n",
            "34/34 [==============================] - 0s 973us/step - loss: 12091.7373 - mae: 12091.7373\n",
            "Epoch 3/5\n",
            "34/34 [==============================] - 0s 799us/step - loss: 11264.6709 - mae: 11264.6709\n",
            "Epoch 4/5\n",
            "34/34 [==============================] - 0s 835us/step - loss: 10507.7217 - mae: 10507.7217\n",
            "Epoch 5/5\n",
            "34/34 [==============================] - 0s 843us/step - loss: 9859.0068 - mae: 9859.0068\n"
          ],
          "name": "stdout"
        },
        {
          "output_type": "execute_result",
          "data": {
            "text/plain": [
              "<tensorflow.python.keras.callbacks.History at 0x7f40dba438d0>"
            ]
          },
          "metadata": {
            "tags": []
          },
          "execution_count": 9
        }
      ]
    },
    {
      "cell_type": "code",
      "metadata": {
        "colab": {
          "base_uri": "https://localhost:8080/"
        },
        "id": "F2-Mh8ytO4An",
        "outputId": "9426aac0-8f6f-4d75-a243-3677d1b58b67"
      },
      "source": [
        "#eluation the model\n",
        "model1.evaluate(x_train,y_train)"
      ],
      "execution_count": null,
      "outputs": [
        {
          "output_type": "stream",
          "text": [
            "34/34 [==============================] - 0s 799us/step - loss: 9560.3418 - mae: 9560.3418\n"
          ],
          "name": "stdout"
        },
        {
          "output_type": "execute_result",
          "data": {
            "text/plain": [
              "[9560.341796875, 9560.341796875]"
            ]
          },
          "metadata": {
            "tags": []
          },
          "execution_count": 10
        }
      ]
    },
    {
      "cell_type": "code",
      "metadata": {
        "id": "ckspLLC1PE2a"
      },
      "source": [
        "#test the model\n",
        "def mae(y_true,y_pred):\n",
        "  mae = tf.losses.mean_absolute_error(y_true,y_pred)\n",
        "  return mae\n",
        "\n",
        "def mse(y_true,y_pred):\n",
        "  mse = tf.losses.mean_squared_error(y_true,y_pred)\n",
        "  return mse"
      ],
      "execution_count": null,
      "outputs": []
    },
    {
      "cell_type": "code",
      "metadata": {
        "colab": {
          "base_uri": "https://localhost:8080/"
        },
        "id": "WFet1S0xSDwF",
        "outputId": "bb4c8838-8804-4115-982d-c61074baf1e8"
      },
      "source": [
        "#predict the model\n",
        "y_pred = model1.predict(x_test)\n",
        "y_pred = y_pred.reshape(268,)\n",
        "y_pred.shape"
      ],
      "execution_count": null,
      "outputs": [
        {
          "output_type": "execute_result",
          "data": {
            "text/plain": [
              "(268,)"
            ]
          },
          "metadata": {
            "tags": []
          },
          "execution_count": 12
        }
      ]
    },
    {
      "cell_type": "code",
      "metadata": {
        "id": "appa-EVrSUya"
      },
      "source": [
        "#evaluate model1\n",
        "mae1 = mae(y_true = y_test, y_pred=y_pred)"
      ],
      "execution_count": null,
      "outputs": []
    },
    {
      "cell_type": "code",
      "metadata": {
        "id": "GnnOc3nYSxrJ"
      },
      "source": [
        "mse1 = mse(y_true = y_test, y_pred=y_pred)"
      ],
      "execution_count": null,
      "outputs": []
    },
    {
      "cell_type": "code",
      "metadata": {
        "colab": {
          "base_uri": "https://localhost:8080/"
        },
        "id": "DAfHhTgaEf5_",
        "outputId": "63ff72e2-9fa6-4a2e-bee7-16a35d6c9cbf"
      },
      "source": [
        "mae,mse"
      ],
      "execution_count": null,
      "outputs": [
        {
          "output_type": "execute_result",
          "data": {
            "text/plain": [
              "(<function __main__.mae>, <function __main__.mse>)"
            ]
          },
          "metadata": {
            "tags": []
          },
          "execution_count": 15
        }
      ]
    },
    {
      "cell_type": "code",
      "metadata": {
        "colab": {
          "base_uri": "https://localhost:8080/",
          "height": 201
        },
        "id": "IvPUVaK7i3y6",
        "outputId": "8d075e3a-9627-47fc-b858-c01decd08012"
      },
      "source": [
        "#model1 summary\n",
        "from tensorflow.keras.utils import plot_model\n",
        "plot_model(model = model1,show_shapes=True)\n",
        "#model1.summary()"
      ],
      "execution_count": null,
      "outputs": [
        {
          "output_type": "execute_result",
          "data": {
            "image/png": "[encoded data removed]",
            "text/plain": [
              "<IPython.core.display.Image object>"
            ]
          },
          "metadata": {
            "tags": []
          },
          "execution_count": 16
        }
      ]
    },
    {
      "cell_type": "code",
      "metadata": {
        "colab": {
          "base_uri": "https://localhost:8080/"
        },
        "id": "Wz3evsAIhRzC",
        "outputId": "73f4b5bb-fb60-4ff4-e824-4c6fa13f271a"
      },
      "source": [
        "x_train.dtypes"
      ],
      "execution_count": null,
      "outputs": [
        {
          "output_type": "execute_result",
          "data": {
            "text/plain": [
              "age                   int64\n",
              "bmi                 float64\n",
              "children              int64\n",
              "sex_female            uint8\n",
              "sex_male              uint8\n",
              "smoker_no             uint8\n",
              "smoker_yes            uint8\n",
              "region_northeast      uint8\n",
              "region_northwest      uint8\n",
              "region_southeast      uint8\n",
              "region_southwest      uint8\n",
              "dtype: object"
            ]
          },
          "metadata": {
            "tags": []
          },
          "execution_count": 17
        }
      ]
    },
    {
      "cell_type": "code",
      "metadata": {
        "id": "Ygaj_bhWohVG"
      },
      "source": [
        "#from sklearn.preprocessing import StandardScaler\n",
        "#scaler = StandardScaler()\n",
        "#scaler.fit(x_train)\n",
        "#x_train = scaler.transform(x_train)"
      ],
      "execution_count": null,
      "outputs": []
    },
    {
      "cell_type": "code",
      "metadata": {
        "colab": {
          "base_uri": "https://localhost:8080/"
        },
        "id": "c7bcqJKNTEWe",
        "outputId": "fc8b292e-bbe4-4dc6-f30e-581f4b1914a8"
      },
      "source": [
        "#model2\n",
        "tf.random.set_seed(42)\n",
        "\n",
        "#input and dense layer for model2\n",
        "model2 = tf.keras.Sequential()\n",
        "model2.add(tf.keras.layers.Dense(10)), \n",
        "model2.add(tf.keras.layers.Dense(1))\n",
        "\n",
        "#compile the model\n",
        "model2.compile(loss = tf.keras.losses.mae,\n",
        "               optimizer = tf.keras.optimizers.Adam(),\n",
        "               metrics = ['mae'])\n",
        "\n",
        "#fitting the model\n",
        "model2.fit(x = x_train,y = y_train, epochs = 100)"
      ],
      "execution_count": null,
      "outputs": [
        {
          "output_type": "stream",
          "text": [
            "Epoch 1/100\n",
            "34/34 [==============================] - 0s 1ms/step - loss: 13342.9727 - mae: 13342.9727\n",
            "Epoch 2/100\n",
            "34/34 [==============================] - 0s 1ms/step - loss: 13329.9717 - mae: 13329.9717\n",
            "Epoch 3/100\n",
            "34/34 [==============================] - 0s 1ms/step - loss: 13315.9346 - mae: 13315.9346\n",
            "Epoch 4/100\n",
            "34/34 [==============================] - 0s 1ms/step - loss: 13300.0146 - mae: 13300.0146\n",
            "Epoch 5/100\n",
            "34/34 [==============================] - 0s 1ms/step - loss: 13281.5713 - mae: 13281.5713\n",
            "Epoch 6/100\n",
            "34/34 [==============================] - 0s 1ms/step - loss: 13260.0322 - mae: 13260.0322\n",
            "Epoch 7/100\n",
            "34/34 [==============================] - 0s 1ms/step - loss: 13235.2822 - mae: 13235.2822\n",
            "Epoch 8/100\n",
            "34/34 [==============================] - 0s 1ms/step - loss: 13207.1514 - mae: 13207.1514\n",
            "Epoch 9/100\n",
            "34/34 [==============================] - 0s 1ms/step - loss: 13175.4482 - mae: 13175.4482\n",
            "Epoch 10/100\n",
            "34/34 [==============================] - 0s 1ms/step - loss: 13140.1729 - mae: 13140.1729\n",
            "Epoch 11/100\n",
            "34/34 [==============================] - 0s 998us/step - loss: 13101.1084 - mae: 13101.1084\n",
            "Epoch 12/100\n",
            "34/34 [==============================] - 0s 1ms/step - loss: 13058.1211 - mae: 13058.1211\n",
            "Epoch 13/100\n",
            "34/34 [==============================] - 0s 1ms/step - loss: 13011.1934 - mae: 13011.1934\n",
            "Epoch 14/100\n",
            "34/34 [==============================] - 0s 1ms/step - loss: 12959.9131 - mae: 12959.9131\n",
            "Epoch 15/100\n",
            "34/34 [==============================] - 0s 1ms/step - loss: 12904.3330 - mae: 12904.3330\n",
            "Epoch 16/100\n",
            "34/34 [==============================] - 0s 1ms/step - loss: 12843.9795 - mae: 12843.9795\n",
            "Epoch 17/100\n",
            "34/34 [==============================] - 0s 1ms/step - loss: 12779.0732 - mae: 12779.0732\n",
            "Epoch 18/100\n",
            "34/34 [==============================] - 0s 1ms/step - loss: 12709.3604 - mae: 12709.3604\n",
            "Epoch 19/100\n",
            "34/34 [==============================] - 0s 1ms/step - loss: 12634.9258 - mae: 12634.9258\n",
            "Epoch 20/100\n",
            "34/34 [==============================] - 0s 1ms/step - loss: 12556.0205 - mae: 12556.0205\n",
            "Epoch 21/100\n",
            "34/34 [==============================] - 0s 1ms/step - loss: 12472.6455 - mae: 12472.6455\n",
            "Epoch 22/100\n",
            "34/34 [==============================] - 0s 1ms/step - loss: 12384.9424 - mae: 12384.9424\n",
            "Epoch 23/100\n",
            "34/34 [==============================] - 0s 1ms/step - loss: 12292.9873 - mae: 12292.9873\n",
            "Epoch 24/100\n",
            "34/34 [==============================] - 0s 1ms/step - loss: 12196.6436 - mae: 12196.6436\n",
            "Epoch 25/100\n",
            "34/34 [==============================] - 0s 1ms/step - loss: 12096.5264 - mae: 12096.5264\n",
            "Epoch 26/100\n",
            "34/34 [==============================] - 0s 1ms/step - loss: 11992.2236 - mae: 11992.2236\n",
            "Epoch 27/100\n",
            "34/34 [==============================] - 0s 1ms/step - loss: 11884.4756 - mae: 11884.4756\n",
            "Epoch 28/100\n",
            "34/34 [==============================] - 0s 1ms/step - loss: 11773.5518 - mae: 11773.5518\n",
            "Epoch 29/100\n",
            "34/34 [==============================] - 0s 1ms/step - loss: 11659.7129 - mae: 11659.7129\n",
            "Epoch 30/100\n",
            "34/34 [==============================] - 0s 1ms/step - loss: 11543.2334 - mae: 11543.2334\n",
            "Epoch 31/100\n",
            "34/34 [==============================] - 0s 1ms/step - loss: 11423.2979 - mae: 11423.2979\n",
            "Epoch 32/100\n",
            "34/34 [==============================] - 0s 1ms/step - loss: 11300.6543 - mae: 11300.6543\n",
            "Epoch 33/100\n",
            "34/34 [==============================] - 0s 1ms/step - loss: 11176.1201 - mae: 11176.1201\n",
            "Epoch 34/100\n",
            "34/34 [==============================] - 0s 1ms/step - loss: 11050.9678 - mae: 11050.9678\n",
            "Epoch 35/100\n",
            "34/34 [==============================] - 0s 1ms/step - loss: 10924.8887 - mae: 10924.8887\n",
            "Epoch 36/100\n",
            "34/34 [==============================] - 0s 1ms/step - loss: 10799.0557 - mae: 10799.0557\n",
            "Epoch 37/100\n",
            "34/34 [==============================] - 0s 1ms/step - loss: 10673.6133 - mae: 10673.6133\n",
            "Epoch 38/100\n",
            "34/34 [==============================] - 0s 1ms/step - loss: 10548.5283 - mae: 10548.5283\n",
            "Epoch 39/100\n",
            "34/34 [==============================] - 0s 1ms/step - loss: 10424.7754 - mae: 10424.7754\n",
            "Epoch 40/100\n",
            "34/34 [==============================] - 0s 1ms/step - loss: 10303.2109 - mae: 10303.2109\n",
            "Epoch 41/100\n",
            "34/34 [==============================] - 0s 1ms/step - loss: 10182.7451 - mae: 10182.7451\n",
            "Epoch 42/100\n",
            "34/34 [==============================] - 0s 1ms/step - loss: 10061.2559 - mae: 10061.2559\n",
            "Epoch 43/100\n",
            "34/34 [==============================] - 0s 1ms/step - loss: 9942.6865 - mae: 9942.6865\n",
            "Epoch 44/100\n",
            "34/34 [==============================] - 0s 996us/step - loss: 9825.1777 - mae: 9825.1777\n",
            "Epoch 45/100\n",
            "34/34 [==============================] - 0s 1ms/step - loss: 9710.7246 - mae: 9710.7246\n",
            "Epoch 46/100\n",
            "34/34 [==============================] - 0s 1ms/step - loss: 9595.1416 - mae: 9595.1416\n",
            "Epoch 47/100\n",
            "34/34 [==============================] - 0s 1ms/step - loss: 9481.5430 - mae: 9481.5430\n",
            "Epoch 48/100\n",
            "34/34 [==============================] - 0s 1ms/step - loss: 9367.9170 - mae: 9367.9170\n",
            "Epoch 49/100\n",
            "34/34 [==============================] - 0s 1ms/step - loss: 9256.2041 - mae: 9256.2041\n",
            "Epoch 50/100\n",
            "34/34 [==============================] - 0s 1ms/step - loss: 9144.1562 - mae: 9144.1562\n",
            "Epoch 51/100\n",
            "34/34 [==============================] - 0s 1ms/step - loss: 9037.3320 - mae: 9037.3320\n",
            "Epoch 52/100\n",
            "34/34 [==============================] - 0s 2ms/step - loss: 8934.0244 - mae: 8934.0244\n",
            "Epoch 53/100\n",
            "34/34 [==============================] - 0s 1ms/step - loss: 8834.7051 - mae: 8834.7051\n",
            "Epoch 54/100\n",
            "34/34 [==============================] - 0s 1ms/step - loss: 8739.5371 - mae: 8739.5371\n",
            "Epoch 55/100\n",
            "34/34 [==============================] - 0s 1ms/step - loss: 8645.7979 - mae: 8645.7979\n",
            "Epoch 56/100\n",
            "34/34 [==============================] - 0s 1ms/step - loss: 8555.3213 - mae: 8555.3213\n",
            "Epoch 57/100\n",
            "34/34 [==============================] - 0s 1ms/step - loss: 8466.6846 - mae: 8466.6846\n",
            "Epoch 58/100\n",
            "34/34 [==============================] - 0s 1ms/step - loss: 8382.3799 - mae: 8382.3799\n",
            "Epoch 59/100\n",
            "34/34 [==============================] - 0s 1ms/step - loss: 8301.2500 - mae: 8301.2500\n",
            "Epoch 60/100\n",
            "34/34 [==============================] - 0s 993us/step - loss: 8225.6885 - mae: 8225.6885\n",
            "Epoch 61/100\n",
            "34/34 [==============================] - 0s 1ms/step - loss: 8153.3945 - mae: 8153.3945\n",
            "Epoch 62/100\n",
            "34/34 [==============================] - 0s 969us/step - loss: 8084.8506 - mae: 8084.8506\n",
            "Epoch 63/100\n",
            "34/34 [==============================] - 0s 1ms/step - loss: 8020.3315 - mae: 8020.3315\n",
            "Epoch 64/100\n",
            "34/34 [==============================] - 0s 1ms/step - loss: 7958.8560 - mae: 7958.8560\n",
            "Epoch 65/100\n",
            "34/34 [==============================] - 0s 1ms/step - loss: 7903.1187 - mae: 7903.1187\n",
            "Epoch 66/100\n",
            "34/34 [==============================] - 0s 1ms/step - loss: 7850.9019 - mae: 7850.9019\n",
            "Epoch 67/100\n",
            "34/34 [==============================] - 0s 995us/step - loss: 7802.4980 - mae: 7802.4980\n",
            "Epoch 68/100\n",
            "34/34 [==============================] - 0s 1ms/step - loss: 7760.0088 - mae: 7760.0088\n",
            "Epoch 69/100\n",
            "34/34 [==============================] - 0s 1ms/step - loss: 7721.6055 - mae: 7721.6055\n",
            "Epoch 70/100\n",
            "34/34 [==============================] - 0s 1ms/step - loss: 7685.3589 - mae: 7685.3589\n",
            "Epoch 71/100\n",
            "34/34 [==============================] - 0s 1ms/step - loss: 7652.4346 - mae: 7652.4346\n",
            "Epoch 72/100\n",
            "34/34 [==============================] - 0s 1ms/step - loss: 7623.1860 - mae: 7623.1860\n",
            "Epoch 73/100\n",
            "34/34 [==============================] - 0s 1ms/step - loss: 7597.9912 - mae: 7597.9912\n",
            "Epoch 74/100\n",
            "34/34 [==============================] - 0s 1ms/step - loss: 7575.3462 - mae: 7575.3462\n",
            "Epoch 75/100\n",
            "34/34 [==============================] - 0s 1ms/step - loss: 7556.5063 - mae: 7556.5063\n",
            "Epoch 76/100\n",
            "34/34 [==============================] - 0s 1ms/step - loss: 7538.8091 - mae: 7538.8091\n",
            "Epoch 77/100\n",
            "34/34 [==============================] - 0s 1ms/step - loss: 7523.7476 - mae: 7523.7476\n",
            "Epoch 78/100\n",
            "34/34 [==============================] - 0s 1ms/step - loss: 7510.1016 - mae: 7510.1016\n",
            "Epoch 79/100\n",
            "34/34 [==============================] - 0s 1ms/step - loss: 7498.4165 - mae: 7498.4165\n",
            "Epoch 80/100\n",
            "34/34 [==============================] - 0s 1ms/step - loss: 7487.2686 - mae: 7487.2686\n",
            "Epoch 81/100\n",
            "34/34 [==============================] - 0s 1ms/step - loss: 7478.0405 - mae: 7478.0405\n",
            "Epoch 82/100\n",
            "34/34 [==============================] - 0s 1ms/step - loss: 7471.3008 - mae: 7471.3008\n",
            "Epoch 83/100\n",
            "34/34 [==============================] - 0s 1ms/step - loss: 7463.3672 - mae: 7463.3672\n",
            "Epoch 84/100\n",
            "34/34 [==============================] - 0s 1ms/step - loss: 7457.3730 - mae: 7457.3730\n",
            "Epoch 85/100\n",
            "34/34 [==============================] - 0s 1ms/step - loss: 7451.3223 - mae: 7451.3223\n",
            "Epoch 86/100\n",
            "34/34 [==============================] - 0s 1ms/step - loss: 7446.0107 - mae: 7446.0107\n",
            "Epoch 87/100\n",
            "34/34 [==============================] - 0s 1ms/step - loss: 7441.0732 - mae: 7441.0732\n",
            "Epoch 88/100\n",
            "34/34 [==============================] - 0s 1ms/step - loss: 7436.3838 - mae: 7436.3838\n",
            "Epoch 89/100\n",
            "34/34 [==============================] - 0s 1ms/step - loss: 7432.0571 - mae: 7432.0571\n",
            "Epoch 90/100\n",
            "34/34 [==============================] - 0s 1ms/step - loss: 7428.3857 - mae: 7428.3857\n",
            "Epoch 91/100\n",
            "34/34 [==============================] - 0s 1ms/step - loss: 7423.8223 - mae: 7423.8223\n",
            "Epoch 92/100\n",
            "34/34 [==============================] - 0s 1ms/step - loss: 7420.4595 - mae: 7420.4595\n",
            "Epoch 93/100\n",
            "34/34 [==============================] - 0s 1ms/step - loss: 7417.0552 - mae: 7417.0552\n",
            "Epoch 94/100\n",
            "34/34 [==============================] - 0s 1ms/step - loss: 7413.9468 - mae: 7413.9468\n",
            "Epoch 95/100\n",
            "34/34 [==============================] - 0s 1ms/step - loss: 7410.8711 - mae: 7410.8711\n",
            "Epoch 96/100\n",
            "34/34 [==============================] - 0s 1ms/step - loss: 7407.9844 - mae: 7407.9844\n",
            "Epoch 97/100\n",
            "34/34 [==============================] - 0s 1ms/step - loss: 7405.6934 - mae: 7405.6934\n",
            "Epoch 98/100\n",
            "34/34 [==============================] - 0s 1ms/step - loss: 7403.0098 - mae: 7403.0098\n",
            "Epoch 99/100\n",
            "34/34 [==============================] - 0s 1ms/step - loss: 7400.4590 - mae: 7400.4590\n",
            "Epoch 100/100\n",
            "34/34 [==============================] - 0s 1ms/step - loss: 7398.0249 - mae: 7398.0249\n"
          ],
          "name": "stdout"
        },
        {
          "output_type": "execute_result",
          "data": {
            "text/plain": [
              "<tensorflow.python.keras.callbacks.History at 0x7f40d97efdd0>"
            ]
          },
          "metadata": {
            "tags": []
          },
          "execution_count": 19
        }
      ]
    },
    {
      "cell_type": "code",
      "metadata": {
        "colab": {
          "base_uri": "https://localhost:8080/",
          "height": 312
        },
        "id": "T5U5-APUkcog",
        "outputId": "f4f96977-478e-4593-d58c-443a95839104"
      },
      "source": [
        "plot_model(model = model2,show_shapes=True)"
      ],
      "execution_count": null,
      "outputs": [
        {
          "output_type": "execute_result",
          "data": {
            "image/png": "[encoded data removed]",
            "text/plain": [
              "<IPython.core.display.Image object>"
            ]
          },
          "metadata": {
            "tags": []
          },
          "execution_count": 20
        }
      ]
    },
    {
      "cell_type": "code",
      "metadata": {
        "id": "5TPqc4mNlHPI",
        "colab": {
          "base_uri": "https://localhost:8080/"
        },
        "outputId": "69abc317-24d8-4a19-f38e-ec1bb087ed92"
      },
      "source": [
        "model2.evaluate(x_train,y_train)"
      ],
      "execution_count": null,
      "outputs": [
        {
          "output_type": "stream",
          "text": [
            "34/34 [==============================] - 0s 1ms/step - loss: 7396.7065 - mae: 7396.7065\n"
          ],
          "name": "stdout"
        },
        {
          "output_type": "execute_result",
          "data": {
            "text/plain": [
              "[7396.70654296875, 7396.70654296875]"
            ]
          },
          "metadata": {
            "tags": []
          },
          "execution_count": 21
        }
      ]
    },
    {
      "cell_type": "code",
      "metadata": {
        "id": "HYuMN1HaK_bY"
      },
      "source": [
        "y_pred = model2.predict(x_test)"
      ],
      "execution_count": null,
      "outputs": []
    },
    {
      "cell_type": "code",
      "metadata": {
        "colab": {
          "base_uri": "https://localhost:8080/"
        },
        "id": "oFhDdpTmLGs7",
        "outputId": "e2dc1fe4-53fe-4db8-ae7b-ff9a802c7c9b"
      },
      "source": [
        "y_pred"
      ],
      "execution_count": null,
      "outputs": [
        {
          "output_type": "execute_result",
          "data": {
            "text/plain": [
              "array([[ 8914.092 ],\n",
              "       [ 8015.735 ],\n",
              "       [11353.143 ],\n",
              "       [ 9191.363 ],\n",
              "       [ 6113.6616],\n",
              "       [ 9156.995 ],\n",
              "       [ 5084.2476],\n",
              "       [12387.981 ],\n",
              "       [ 5721.296 ],\n",
              "       [ 9872.878 ],\n",
              "       [ 7073.6943],\n",
              "       [ 8932.28  ],\n",
              "       [ 7185.132 ],\n",
              "       [10948.375 ],\n",
              "       [12257.247 ],\n",
              "       [10619.192 ],\n",
              "       [11177.013 ],\n",
              "       [10276.32  ],\n",
              "       [ 9200.207 ],\n",
              "       [ 8671.192 ],\n",
              "       [ 6528.1826],\n",
              "       [ 9374.243 ],\n",
              "       [ 5863.45  ],\n",
              "       [ 7236.1743],\n",
              "       [ 9945.413 ],\n",
              "       [10601.075 ],\n",
              "       [11578.404 ],\n",
              "       [ 7239.039 ],\n",
              "       [ 9313.893 ],\n",
              "       [ 5722.047 ],\n",
              "       [ 8882.144 ],\n",
              "       [10880.563 ],\n",
              "       [ 6586.985 ],\n",
              "       [ 6563.414 ],\n",
              "       [ 6828.312 ],\n",
              "       [10170.977 ],\n",
              "       [ 5827.584 ],\n",
              "       [ 8991.856 ],\n",
              "       [ 9652.876 ],\n",
              "       [ 8724.032 ],\n",
              "       [ 6240.6733],\n",
              "       [ 6471.3486],\n",
              "       [11249.883 ],\n",
              "       [10488.531 ],\n",
              "       [ 8428.922 ],\n",
              "       [10789.515 ],\n",
              "       [ 6688.617 ],\n",
              "       [ 6348.474 ],\n",
              "       [ 9918.838 ],\n",
              "       [ 8440.975 ],\n",
              "       [12095.772 ],\n",
              "       [ 5755.4365],\n",
              "       [ 9792.999 ],\n",
              "       [ 5336.7373],\n",
              "       [11009.752 ],\n",
              "       [10252.71  ],\n",
              "       [ 6801.9053],\n",
              "       [ 8230.67  ],\n",
              "       [11120.346 ],\n",
              "       [10531.112 ],\n",
              "       [11627.194 ],\n",
              "       [ 8795.065 ],\n",
              "       [12139.071 ],\n",
              "       [ 8494.684 ],\n",
              "       [10162.774 ],\n",
              "       [ 6691.5635],\n",
              "       [ 6167.4023],\n",
              "       [10019.541 ],\n",
              "       [ 5961.9233],\n",
              "       [ 7168.57  ],\n",
              "       [ 9109.269 ],\n",
              "       [ 9763.687 ],\n",
              "       [ 9879.181 ],\n",
              "       [ 8849.703 ],\n",
              "       [ 9956.393 ],\n",
              "       [ 8001.146 ],\n",
              "       [ 7474.8643],\n",
              "       [10127.219 ],\n",
              "       [ 7514.3145],\n",
              "       [ 9044.558 ],\n",
              "       [ 6300.6714],\n",
              "       [11092.917 ],\n",
              "       [ 7688.2974],\n",
              "       [ 7348.168 ],\n",
              "       [ 8696.951 ],\n",
              "       [10080.13  ],\n",
              "       [ 7733.6855],\n",
              "       [10718.818 ],\n",
              "       [ 9199.902 ],\n",
              "       [11168.035 ],\n",
              "       [12394.21  ],\n",
              "       [10954.057 ],\n",
              "       [ 9233.464 ],\n",
              "       [ 7373.8027],\n",
              "       [ 8396.619 ],\n",
              "       [ 9078.293 ],\n",
              "       [ 7577.927 ],\n",
              "       [ 6269.8105],\n",
              "       [ 7017.8945],\n",
              "       [ 7463.7197],\n",
              "       [ 7197.24  ],\n",
              "       [ 5714.048 ],\n",
              "       [ 9684.75  ],\n",
              "       [11500.511 ],\n",
              "       [10578.1   ],\n",
              "       [ 6346.114 ],\n",
              "       [ 9321.091 ],\n",
              "       [ 9334.899 ],\n",
              "       [ 4865.107 ],\n",
              "       [ 9649.484 ],\n",
              "       [ 6137.0054],\n",
              "       [ 8515.73  ],\n",
              "       [11194.451 ],\n",
              "       [ 8160.3403],\n",
              "       [ 9881.418 ],\n",
              "       [ 6365.99  ],\n",
              "       [10950.894 ],\n",
              "       [ 8858.148 ],\n",
              "       [ 8440.825 ],\n",
              "       [ 6194.8066],\n",
              "       [ 8215.99  ],\n",
              "       [ 9298.034 ],\n",
              "       [11145.966 ],\n",
              "       [ 7067.851 ],\n",
              "       [ 6591.2144],\n",
              "       [ 9185.106 ],\n",
              "       [ 9586.066 ],\n",
              "       [ 9782.593 ],\n",
              "       [11473.476 ],\n",
              "       [ 7553.1064],\n",
              "       [ 7389.9946],\n",
              "       [ 8650.867 ],\n",
              "       [ 8698.064 ],\n",
              "       [10019.548 ],\n",
              "       [ 8663.424 ],\n",
              "       [11762.156 ],\n",
              "       [ 8176.4272],\n",
              "       [ 8839.401 ],\n",
              "       [10021.293 ],\n",
              "       [ 8316.571 ],\n",
              "       [ 7698.1064],\n",
              "       [10343.065 ],\n",
              "       [ 7278.6953],\n",
              "       [11042.316 ],\n",
              "       [ 6170.236 ],\n",
              "       [ 9510.398 ],\n",
              "       [ 7592.956 ],\n",
              "       [ 7266.8555],\n",
              "       [10910.509 ],\n",
              "       [ 8028.378 ],\n",
              "       [11293.159 ],\n",
              "       [ 6162.9775],\n",
              "       [ 6836.532 ],\n",
              "       [ 8075.594 ],\n",
              "       [ 9450.949 ],\n",
              "       [ 8246.388 ],\n",
              "       [11562.447 ],\n",
              "       [ 9461.658 ],\n",
              "       [ 6232.3447],\n",
              "       [ 9010.665 ],\n",
              "       [11248.1045],\n",
              "       [ 5522.906 ],\n",
              "       [11346.977 ],\n",
              "       [ 5811.671 ],\n",
              "       [ 6941.5386],\n",
              "       [ 9723.214 ],\n",
              "       [12304.066 ],\n",
              "       [10892.288 ],\n",
              "       [ 9377.136 ],\n",
              "       [ 6622.1636],\n",
              "       [ 8886.804 ],\n",
              "       [ 8744.433 ],\n",
              "       [ 9693.457 ],\n",
              "       [ 7072.1255],\n",
              "       [ 5914.814 ],\n",
              "       [ 9136.971 ],\n",
              "       [ 5668.9966],\n",
              "       [12644.414 ],\n",
              "       [ 6565.158 ],\n",
              "       [10004.679 ],\n",
              "       [11329.079 ],\n",
              "       [ 4890.591 ],\n",
              "       [ 8470.636 ],\n",
              "       [ 8227.453 ],\n",
              "       [ 6710.027 ],\n",
              "       [ 6820.0693],\n",
              "       [ 7209.102 ],\n",
              "       [ 6997.3   ],\n",
              "       [11077.662 ],\n",
              "       [10199.061 ],\n",
              "       [ 7387.3335],\n",
              "       [ 5647.3145],\n",
              "       [ 5551.7803],\n",
              "       [ 8295.674 ],\n",
              "       [12221.817 ],\n",
              "       [10340.33  ],\n",
              "       [ 5397.779 ],\n",
              "       [10438.878 ],\n",
              "       [ 5358.5615],\n",
              "       [ 9338.774 ],\n",
              "       [ 5949.356 ],\n",
              "       [ 9866.152 ],\n",
              "       [ 8903.94  ],\n",
              "       [ 5785.7373],\n",
              "       [ 5836.2046],\n",
              "       [ 6407.032 ],\n",
              "       [ 9435.375 ],\n",
              "       [ 5676.469 ],\n",
              "       [10567.588 ],\n",
              "       [ 5771.057 ],\n",
              "       [10443.213 ],\n",
              "       [10192.68  ],\n",
              "       [11361.453 ],\n",
              "       [ 6510.788 ],\n",
              "       [ 8230.71  ],\n",
              "       [ 7054.7314],\n",
              "       [ 7562.241 ],\n",
              "       [11060.981 ],\n",
              "       [10520.136 ],\n",
              "       [ 8419.487 ],\n",
              "       [ 6677.561 ],\n",
              "       [ 9997.368 ],\n",
              "       [10143.37  ],\n",
              "       [10019.186 ],\n",
              "       [ 6436.9453],\n",
              "       [ 7234.296 ],\n",
              "       [ 4873.118 ],\n",
              "       [ 5899.808 ],\n",
              "       [10036.802 ],\n",
              "       [11277.228 ],\n",
              "       [ 6785.018 ],\n",
              "       [ 8718.651 ],\n",
              "       [ 6778.3135],\n",
              "       [ 8744.216 ],\n",
              "       [ 8875.239 ],\n",
              "       [10360.953 ],\n",
              "       [ 7045.4756],\n",
              "       [ 9175.698 ],\n",
              "       [10128.089 ],\n",
              "       [ 6600.675 ],\n",
              "       [ 9913.956 ],\n",
              "       [ 7959.196 ],\n",
              "       [ 7063.2827],\n",
              "       [ 6835.4307],\n",
              "       [ 5351.1772],\n",
              "       [ 6841.918 ],\n",
              "       [ 6944.42  ],\n",
              "       [ 7746.5586],\n",
              "       [12306.722 ],\n",
              "       [ 4571.5435],\n",
              "       [ 5912.682 ],\n",
              "       [ 9376.067 ],\n",
              "       [ 6549.374 ],\n",
              "       [ 9925.449 ],\n",
              "       [ 6138.912 ],\n",
              "       [ 6941.7607],\n",
              "       [10947.666 ],\n",
              "       [ 7242.0747],\n",
              "       [ 8930.055 ],\n",
              "       [ 7776.533 ],\n",
              "       [ 8726.043 ],\n",
              "       [10303.774 ],\n",
              "       [ 6850.253 ],\n",
              "       [12049.707 ],\n",
              "       [10536.6455],\n",
              "       [ 8194.884 ],\n",
              "       [12151.096 ],\n",
              "       [10449.217 ]], dtype=float32)"
            ]
          },
          "metadata": {
            "tags": []
          },
          "execution_count": 23
        }
      ]
    },
    {
      "cell_type": "code",
      "metadata": {
        "id": "ugOY2EXrLZdq"
      },
      "source": [
        "y_pred = y_pred.reshape(268,)"
      ],
      "execution_count": null,
      "outputs": []
    },
    {
      "cell_type": "code",
      "metadata": {
        "id": "xBWdTPXlLm_K"
      },
      "source": [
        "mae2 = mae(y_test,y_pred)"
      ],
      "execution_count": null,
      "outputs": []
    },
    {
      "cell_type": "code",
      "metadata": {
        "colab": {
          "base_uri": "https://localhost:8080/"
        },
        "id": "EEpOOyBX3kdx",
        "outputId": "37c7c28e-4b34-43ad-8296-b9dd55ab632b"
      },
      "source": [
        "mae2"
      ],
      "execution_count": null,
      "outputs": [
        {
          "output_type": "execute_result",
          "data": {
            "text/plain": [
              "<tf.Tensor: shape=(268,), dtype=float32, numpy=\n",
              "array([ 8917.143 ,  9917.038 , 17240.477 ,  8997.204 , 12128.129 ,\n",
              "        9583.072 , 13267.217 ,  8610.277 , 11518.857 ,  8795.009 ,\n",
              "       13190.177 ,  9248.194 , 10636.489 , 16362.267 , 17485.982 ,\n",
              "       16070.608 ,  8620.955 , 15878.074 ,  9039.715 , 14583.382 ,\n",
              "       11171.672 ,  9155.511 , 13056.56  , 10649.0205,  8732.999 ,\n",
              "        8619.958 ,  8595.072 , 10419.611 ,  8802.057 , 12970.163 ,\n",
              "        9180.526 ,  8629.4   , 11750.607 , 10747.28  , 11526.579 ,\n",
              "        8787.552 , 12555.706 ,  9273.295 , 15710.56  , 14292.427 ,\n",
              "       11585.334 , 11824.339 ,  8615.7705,  8679.177 ,  9732.864 ,\n",
              "        8655.852 , 11302.107 , 11456.075 , 15564.567 ,  9800.531 ,\n",
              "        8603.753 , 12758.239 ,  8990.671 , 12748.712 ,  8644.348 ,\n",
              "        8661.718 , 10724.75  , 14037.189 ,  8629.573 ,  8630.689 ,\n",
              "        8590.023 ,  9538.389 ,  8601.759 ,  9296.159 ,  8674.48  ,\n",
              "       11053.469 , 12472.96  ,  8737.774 , 11877.457 , 11652.324 ,\n",
              "        9118.839 ,  8740.07  ,  8878.909 ,  9338.254 ,  8938.364 ,\n",
              "        9929.688 , 10041.922 ,  8729.422 , 10327.381 ,  9079.965 ,\n",
              "       12302.067 , 17224.441 , 10232.346 , 13600.317 , 13720.844 ,\n",
              "       16011.336 , 10131.177 ,  8687.016 ,  9042.783 ,  8626.586 ,\n",
              "        8734.375 , 16973.322 , 15610.035 , 10048.921 , 13987.228 ,\n",
              "        9311.82  , 13497.058 , 12109.291 , 13461.308 ,  9712.255 ,\n",
              "       10571.301 , 12973.663 ,  9128.594 ,  8595.559 ,  8605.362 ,\n",
              "       12210.715 ,  9058.104 , 15273.624 , 13185.886 , 15749.115 ,\n",
              "       12802.987 , 10068.003 ,  8591.529 , 14383.791 ,  8718.487 ,\n",
              "       12343.887 ,  8593.314 , 14740.624 ,  9471.987 , 12014.713 ,\n",
              "        9476.088 ,  9125.03  ,  8589.625 , 11340.686 , 10979.258 ,\n",
              "        9087.288 ,  8990.998 ,  8772.427 ,  8591.62  , 11002.632 ,\n",
              "       10477.605 ,  9461.051 ,  9420.735 ,  8773.041 ,  9629.792 ,\n",
              "        8593.16  ,  9742.594 , 14316.161 , 15458.972 , 14485.683 ,\n",
              "       10100.883 ,  8660.501 , 11050.687 ,  8614.705 , 12093.616 ,\n",
              "       15258.542 , 10201.561 , 10839.168 ,  8615.18  , 10158.959 ,\n",
              "       17072.268 , 12003.808 , 11937.096 , 14116.915 ,  9130.338 ,\n",
              "        9670.298 ,  8596.5   ,  8949.002 , 12308.076 , 15004.336 ,\n",
              "        8597.35  , 12679.632 ,  8590.423 , 11979.117 , 11269.391 ,\n",
              "        8984.777 , 17613.229 , 16613.174 , 15413.802 , 11738.042 ,\n",
              "        9161.189 ,  9497.147 ,  8987.32  , 10783.812 , 12589.95  ,\n",
              "       15004.046 , 11750.915 ,  8628.341 , 13184.872 ,  8737.614 ,\n",
              "       17583.283 , 12562.295 ,  9337.583 ,  9944.761 , 10425.427 ,\n",
              "       11342.001 , 10355.384 , 11101.587 ,  8658.076 ,  8767.307 ,\n",
              "       10914.764 , 12239.441 , 12064.511 , 13791.6   ,  8597.472 ,\n",
              "        8753.231 , 12795.616 ,  8605.77  , 12507.099 ,  9061.863 ,\n",
              "       12004.208 , 15570.045 ,  9600.948 , 12476.409 , 12240.863 ,\n",
              "       12698.792 ,  9013.396 , 11977.726 ,  8789.944 , 12344.617 ,\n",
              "        8700.276 ,  8680.825 ,  8592.069 , 12590.423 ,  9582.588 ,\n",
              "       10380.892 , 10198.214 ,  8589.739 ,  8641.338 ,  9643.379 ,\n",
              "       11661.504 ,  8975.806 ,  8918.845 , 15504.177 , 12037.106 ,\n",
              "       13048.611 , 13753.159 , 12732.618 ,  8811.409 ,  8594.969 ,\n",
              "       11787.858 ,  9131.52  , 11021.971 , 14302.142 ,  9064.216 ,\n",
              "        8813.876 , 10922.979 ,  9403.235 , 15680.256 , 11892.238 ,\n",
              "        8639.799 , 13528.56  , 11082.669 , 11058.004 , 13241.169 ,\n",
              "       11408.608 , 10948.454 , 10472.538 ,  8630.719 , 13963.846 ,\n",
              "       12723.669 ,  9160.753 , 11610.631 ,  8659.472 , 12108.627 ,\n",
              "       11030.078 ,  8652.103 , 10921.941 ,  9001.942 ,  9599.996 ,\n",
              "        9193.498 ,  8654.403 , 12806.247 , 17489.693 ,  8652.228 ,\n",
              "        9465.12  , 17292.977 ,  8753.479 ], dtype=float32)>"
            ]
          },
          "metadata": {
            "tags": []
          },
          "execution_count": 65
        }
      ]
    },
    {
      "cell_type": "code",
      "metadata": {
        "id": "aZIvohTILq3L"
      },
      "source": [
        "mse2 = mse(y_test,y_pred)"
      ],
      "execution_count": null,
      "outputs": []
    },
    {
      "cell_type": "code",
      "metadata": {
        "colab": {
          "base_uri": "https://localhost:8080/"
        },
        "id": "qmsWyfbYLvTT",
        "outputId": "1392ee17-124f-4bdc-87c3-371aacedd490"
      },
      "source": [
        "#noe we creating model 3\n",
        "model3 = tf.keras.Sequential()\n",
        "model3.add(tf.keras.layers.Dense(100)),\n",
        "model3.add(tf.keras.layers.Dense(100)),\n",
        "model3.add(tf.keras.layers.Dense(1))\n",
        "\n",
        "#compile the model\n",
        "model3.compile(loss = tf.keras.losses.mae,\n",
        "                          optimizer = tf.keras.optimizers.Adam(learning_rate=0.01),\n",
        "                          metrics = ['mae'])\n",
        "\n",
        "#fit the model\n",
        "model3.fit(x_train,y_train,epochs=100)"
      ],
      "execution_count": null,
      "outputs": [
        {
          "output_type": "stream",
          "text": [
            "Epoch 1/100\n",
            "34/34 [==============================] - 0s 1ms/step - loss: 9752.1475 - mae: 9752.1475\n",
            "Epoch 2/100\n",
            "34/34 [==============================] - 0s 1ms/step - loss: 7384.1880 - mae: 7384.1880\n",
            "Epoch 3/100\n",
            "34/34 [==============================] - 0s 1ms/step - loss: 6965.8472 - mae: 6965.8472\n",
            "Epoch 4/100\n",
            "34/34 [==============================] - 0s 1ms/step - loss: 6533.5068 - mae: 6533.5068\n",
            "Epoch 5/100\n",
            "34/34 [==============================] - 0s 1ms/step - loss: 6348.6348 - mae: 6348.6348\n",
            "Epoch 6/100\n",
            "34/34 [==============================] - 0s 1ms/step - loss: 6053.9512 - mae: 6053.9512\n",
            "Epoch 7/100\n",
            "34/34 [==============================] - 0s 1ms/step - loss: 5633.7788 - mae: 5633.7788\n",
            "Epoch 8/100\n",
            "34/34 [==============================] - 0s 1ms/step - loss: 4959.6353 - mae: 4959.6353\n",
            "Epoch 9/100\n",
            "34/34 [==============================] - 0s 1ms/step - loss: 4048.0388 - mae: 4048.0388\n",
            "Epoch 10/100\n",
            "34/34 [==============================] - 0s 1ms/step - loss: 3843.0366 - mae: 3843.0366\n",
            "Epoch 11/100\n",
            "34/34 [==============================] - 0s 1ms/step - loss: 3821.5276 - mae: 3821.5276\n",
            "Epoch 12/100\n",
            "34/34 [==============================] - 0s 1ms/step - loss: 3812.8228 - mae: 3812.8228\n",
            "Epoch 13/100\n",
            "34/34 [==============================] - 0s 2ms/step - loss: 3856.0164 - mae: 3856.0164\n",
            "Epoch 14/100\n",
            "34/34 [==============================] - 0s 1ms/step - loss: 3850.5005 - mae: 3850.5005\n",
            "Epoch 15/100\n",
            "34/34 [==============================] - 0s 2ms/step - loss: 3947.5491 - mae: 3947.5491\n",
            "Epoch 16/100\n",
            "34/34 [==============================] - 0s 1ms/step - loss: 3895.8452 - mae: 3895.8452\n",
            "Epoch 17/100\n",
            "34/34 [==============================] - 0s 1ms/step - loss: 3727.1775 - mae: 3727.1775\n",
            "Epoch 18/100\n",
            "34/34 [==============================] - 0s 1ms/step - loss: 3734.8953 - mae: 3734.8953\n",
            "Epoch 19/100\n",
            "34/34 [==============================] - 0s 1ms/step - loss: 3692.6487 - mae: 3692.6487\n",
            "Epoch 20/100\n",
            "34/34 [==============================] - 0s 1ms/step - loss: 3751.9634 - mae: 3751.9634\n",
            "Epoch 21/100\n",
            "34/34 [==============================] - 0s 1ms/step - loss: 3754.4604 - mae: 3754.4604\n",
            "Epoch 22/100\n",
            "34/34 [==============================] - 0s 1ms/step - loss: 3656.3101 - mae: 3656.3101\n",
            "Epoch 23/100\n",
            "34/34 [==============================] - 0s 1ms/step - loss: 3919.7366 - mae: 3919.7366\n",
            "Epoch 24/100\n",
            "34/34 [==============================] - 0s 1ms/step - loss: 3668.3000 - mae: 3668.3000\n",
            "Epoch 25/100\n",
            "34/34 [==============================] - 0s 1ms/step - loss: 3741.6436 - mae: 3741.6436\n",
            "Epoch 26/100\n",
            "34/34 [==============================] - 0s 1ms/step - loss: 3624.8147 - mae: 3624.8147\n",
            "Epoch 27/100\n",
            "34/34 [==============================] - 0s 1ms/step - loss: 3634.4189 - mae: 3634.4189\n",
            "Epoch 28/100\n",
            "34/34 [==============================] - 0s 2ms/step - loss: 3571.8071 - mae: 3571.8071\n",
            "Epoch 29/100\n",
            "34/34 [==============================] - 0s 1ms/step - loss: 3797.2180 - mae: 3797.2180\n",
            "Epoch 30/100\n",
            "34/34 [==============================] - 0s 1ms/step - loss: 3604.4741 - mae: 3604.4741\n",
            "Epoch 31/100\n",
            "34/34 [==============================] - 0s 2ms/step - loss: 3586.2314 - mae: 3586.2314\n",
            "Epoch 32/100\n",
            "34/34 [==============================] - 0s 1ms/step - loss: 3584.0452 - mae: 3584.0452\n",
            "Epoch 33/100\n",
            "34/34 [==============================] - 0s 1ms/step - loss: 3586.2349 - mae: 3586.2349\n",
            "Epoch 34/100\n",
            "34/34 [==============================] - 0s 1ms/step - loss: 3593.2908 - mae: 3593.2908\n",
            "Epoch 35/100\n",
            "34/34 [==============================] - 0s 1ms/step - loss: 3553.0688 - mae: 3553.0688\n",
            "Epoch 36/100\n",
            "34/34 [==============================] - 0s 1ms/step - loss: 3727.9443 - mae: 3727.9443\n",
            "Epoch 37/100\n",
            "34/34 [==============================] - 0s 1ms/step - loss: 3619.2222 - mae: 3619.2222\n",
            "Epoch 38/100\n",
            "34/34 [==============================] - 0s 1ms/step - loss: 3540.2988 - mae: 3540.2988\n",
            "Epoch 39/100\n",
            "34/34 [==============================] - 0s 1ms/step - loss: 3513.7725 - mae: 3513.7725\n",
            "Epoch 40/100\n",
            "34/34 [==============================] - 0s 1ms/step - loss: 3588.5876 - mae: 3588.5876\n",
            "Epoch 41/100\n",
            "34/34 [==============================] - 0s 1ms/step - loss: 3549.0095 - mae: 3549.0095\n",
            "Epoch 42/100\n",
            "34/34 [==============================] - 0s 1ms/step - loss: 3520.9104 - mae: 3520.9104\n",
            "Epoch 43/100\n",
            "34/34 [==============================] - 0s 1ms/step - loss: 3622.1301 - mae: 3622.1301\n",
            "Epoch 44/100\n",
            "34/34 [==============================] - 0s 1ms/step - loss: 3546.4836 - mae: 3546.4836\n",
            "Epoch 45/100\n",
            "34/34 [==============================] - 0s 1ms/step - loss: 3535.1255 - mae: 3535.1255\n",
            "Epoch 46/100\n",
            "34/34 [==============================] - 0s 1ms/step - loss: 3536.4756 - mae: 3536.4756\n",
            "Epoch 47/100\n",
            "34/34 [==============================] - 0s 1ms/step - loss: 3621.1055 - mae: 3621.1055\n",
            "Epoch 48/100\n",
            "34/34 [==============================] - 0s 1ms/step - loss: 3556.2007 - mae: 3556.2007\n",
            "Epoch 49/100\n",
            "34/34 [==============================] - 0s 1ms/step - loss: 3544.2898 - mae: 3544.2898\n",
            "Epoch 50/100\n",
            "34/34 [==============================] - 0s 1ms/step - loss: 3597.4094 - mae: 3597.4094\n",
            "Epoch 51/100\n",
            "34/34 [==============================] - 0s 1ms/step - loss: 3532.2668 - mae: 3532.2668\n",
            "Epoch 52/100\n",
            "34/34 [==============================] - 0s 1ms/step - loss: 3510.8281 - mae: 3510.8281\n",
            "Epoch 53/100\n",
            "34/34 [==============================] - 0s 1ms/step - loss: 3515.1008 - mae: 3515.1008\n",
            "Epoch 54/100\n",
            "34/34 [==============================] - 0s 1ms/step - loss: 3577.4329 - mae: 3577.4329\n",
            "Epoch 55/100\n",
            "34/34 [==============================] - 0s 1ms/step - loss: 3608.6611 - mae: 3608.6611\n",
            "Epoch 56/100\n",
            "34/34 [==============================] - 0s 1ms/step - loss: 3550.5049 - mae: 3550.5049\n",
            "Epoch 57/100\n",
            "34/34 [==============================] - 0s 1ms/step - loss: 3532.3503 - mae: 3532.3503\n",
            "Epoch 58/100\n",
            "34/34 [==============================] - 0s 1ms/step - loss: 3618.8491 - mae: 3618.8491\n",
            "Epoch 59/100\n",
            "34/34 [==============================] - 0s 2ms/step - loss: 3576.3030 - mae: 3576.3030\n",
            "Epoch 60/100\n",
            "34/34 [==============================] - 0s 1ms/step - loss: 3562.2393 - mae: 3562.2393\n",
            "Epoch 61/100\n",
            "34/34 [==============================] - 0s 1ms/step - loss: 3602.7820 - mae: 3602.7820\n",
            "Epoch 62/100\n",
            "34/34 [==============================] - 0s 1ms/step - loss: 3555.4849 - mae: 3555.4849\n",
            "Epoch 63/100\n",
            "34/34 [==============================] - 0s 1ms/step - loss: 3579.3760 - mae: 3579.3760\n",
            "Epoch 64/100\n",
            "34/34 [==============================] - 0s 1ms/step - loss: 3540.9880 - mae: 3540.9880\n",
            "Epoch 65/100\n",
            "34/34 [==============================] - 0s 1ms/step - loss: 3589.6172 - mae: 3589.6172\n",
            "Epoch 66/100\n",
            "34/34 [==============================] - 0s 1ms/step - loss: 3823.3682 - mae: 3823.3682\n",
            "Epoch 67/100\n",
            "34/34 [==============================] - 0s 2ms/step - loss: 3623.4297 - mae: 3623.4297\n",
            "Epoch 68/100\n",
            "34/34 [==============================] - 0s 1ms/step - loss: 3586.3989 - mae: 3586.3989\n",
            "Epoch 69/100\n",
            "34/34 [==============================] - 0s 1ms/step - loss: 3560.9670 - mae: 3560.9670\n",
            "Epoch 70/100\n",
            "34/34 [==============================] - 0s 1ms/step - loss: 3567.9001 - mae: 3567.9001\n",
            "Epoch 71/100\n",
            "34/34 [==============================] - 0s 1ms/step - loss: 3555.5073 - mae: 3555.5073\n",
            "Epoch 72/100\n",
            "34/34 [==============================] - 0s 1ms/step - loss: 3601.2068 - mae: 3601.2068\n",
            "Epoch 73/100\n",
            "34/34 [==============================] - 0s 1ms/step - loss: 3550.3040 - mae: 3550.3040\n",
            "Epoch 74/100\n",
            "34/34 [==============================] - 0s 2ms/step - loss: 3592.7285 - mae: 3592.7285\n",
            "Epoch 75/100\n",
            "34/34 [==============================] - 0s 1ms/step - loss: 3539.6926 - mae: 3539.6926\n",
            "Epoch 76/100\n",
            "34/34 [==============================] - 0s 1ms/step - loss: 3559.0559 - mae: 3559.0559\n",
            "Epoch 77/100\n",
            "34/34 [==============================] - 0s 1ms/step - loss: 3555.8125 - mae: 3555.8125\n",
            "Epoch 78/100\n",
            "34/34 [==============================] - 0s 1ms/step - loss: 3660.1919 - mae: 3660.1919\n",
            "Epoch 79/100\n",
            "34/34 [==============================] - 0s 1ms/step - loss: 3591.5027 - mae: 3591.5027\n",
            "Epoch 80/100\n",
            "34/34 [==============================] - 0s 1ms/step - loss: 3556.7605 - mae: 3556.7605\n",
            "Epoch 81/100\n",
            "34/34 [==============================] - 0s 1ms/step - loss: 3591.9375 - mae: 3591.9375\n",
            "Epoch 82/100\n",
            "34/34 [==============================] - 0s 1ms/step - loss: 3598.6699 - mae: 3598.6699\n",
            "Epoch 83/100\n",
            "34/34 [==============================] - 0s 1ms/step - loss: 3566.7964 - mae: 3566.7964\n",
            "Epoch 84/100\n",
            "34/34 [==============================] - 0s 1ms/step - loss: 3558.6821 - mae: 3558.6821\n",
            "Epoch 85/100\n",
            "34/34 [==============================] - 0s 2ms/step - loss: 3532.7466 - mae: 3532.7466\n",
            "Epoch 86/100\n",
            "34/34 [==============================] - 0s 1ms/step - loss: 3563.7344 - mae: 3563.7344\n",
            "Epoch 87/100\n",
            "34/34 [==============================] - 0s 1ms/step - loss: 3617.9365 - mae: 3617.9365\n",
            "Epoch 88/100\n",
            "34/34 [==============================] - 0s 1ms/step - loss: 3528.0269 - mae: 3528.0269\n",
            "Epoch 89/100\n",
            "34/34 [==============================] - 0s 1ms/step - loss: 3583.6931 - mae: 3583.6931\n",
            "Epoch 90/100\n",
            "34/34 [==============================] - 0s 1ms/step - loss: 3576.6387 - mae: 3576.6387\n",
            "Epoch 91/100\n",
            "34/34 [==============================] - 0s 1ms/step - loss: 3525.4219 - mae: 3525.4219\n",
            "Epoch 92/100\n",
            "34/34 [==============================] - 0s 1ms/step - loss: 3568.4275 - mae: 3568.4275\n",
            "Epoch 93/100\n",
            "34/34 [==============================] - 0s 1ms/step - loss: 3723.3042 - mae: 3723.3042\n",
            "Epoch 94/100\n",
            "34/34 [==============================] - 0s 1ms/step - loss: 3704.4429 - mae: 3704.4429\n",
            "Epoch 95/100\n",
            "34/34 [==============================] - 0s 1ms/step - loss: 3565.7695 - mae: 3565.7695\n",
            "Epoch 96/100\n",
            "34/34 [==============================] - 0s 1ms/step - loss: 3512.2134 - mae: 3512.2134\n",
            "Epoch 97/100\n",
            "34/34 [==============================] - 0s 1ms/step - loss: 3575.3120 - mae: 3575.3120\n",
            "Epoch 98/100\n",
            "34/34 [==============================] - 0s 1ms/step - loss: 3568.2502 - mae: 3568.2502\n",
            "Epoch 99/100\n",
            "34/34 [==============================] - 0s 1ms/step - loss: 3551.5322 - mae: 3551.5322\n",
            "Epoch 100/100\n",
            "34/34 [==============================] - 0s 1ms/step - loss: 3543.6277 - mae: 3543.6277\n"
          ],
          "name": "stdout"
        },
        {
          "output_type": "execute_result",
          "data": {
            "text/plain": [
              "<tensorflow.python.keras.callbacks.History at 0x7f40da23cad0>"
            ]
          },
          "metadata": {
            "tags": []
          },
          "execution_count": 27
        }
      ]
    },
    {
      "cell_type": "code",
      "metadata": {
        "colab": {
          "base_uri": "https://localhost:8080/"
        },
        "id": "STXKNw0zMzK1",
        "outputId": "1e3ec60b-c5b4-4ff5-af89-ed9d7ccddadb"
      },
      "source": [
        "#evaluate the model3\n",
        "model3.evaluate(x_train,y_train)"
      ],
      "execution_count": null,
      "outputs": [
        {
          "output_type": "stream",
          "text": [
            "34/34 [==============================] - 0s 950us/step - loss: 3543.0168 - mae: 3543.0168\n"
          ],
          "name": "stdout"
        },
        {
          "output_type": "execute_result",
          "data": {
            "text/plain": [
              "[3543.016845703125, 3543.016845703125]"
            ]
          },
          "metadata": {
            "tags": []
          },
          "execution_count": 28
        }
      ]
    },
    {
      "cell_type": "code",
      "metadata": {
        "id": "4edM0pEiNJtt"
      },
      "source": [
        "#predict the model3\n",
        "y_pred = model3.predict(x_test)"
      ],
      "execution_count": null,
      "outputs": []
    },
    {
      "cell_type": "code",
      "metadata": {
        "id": "OGvttLfNNSyP"
      },
      "source": [
        "#reshape y for checking error\n",
        "y_pred = y_pred.reshape(268,)"
      ],
      "execution_count": null,
      "outputs": []
    },
    {
      "cell_type": "code",
      "metadata": {
        "id": "59MQRFDTNciw"
      },
      "source": [
        "mae3 = mae(y_test,y_pred)"
      ],
      "execution_count": null,
      "outputs": []
    },
    {
      "cell_type": "code",
      "metadata": {
        "id": "zExKabJiNf7x"
      },
      "source": [
        "mse3 = mse(y_test,y_pred)"
      ],
      "execution_count": null,
      "outputs": []
    },
    {
      "cell_type": "code",
      "metadata": {
        "colab": {
          "base_uri": "https://localhost:8080/"
        },
        "id": "Z7zVJMLKEu8P",
        "outputId": "11b206fc-eb67-4ed8-ba2a-474002c6454e"
      },
      "source": [
        "mae3,mse3"
      ],
      "execution_count": null,
      "outputs": [
        {
          "output_type": "execute_result",
          "data": {
            "text/plain": [
              "(<tf.Tensor: shape=(), dtype=float32, numpy=3210.9714>,\n",
              " <tf.Tensor: shape=(), dtype=float32, numpy=42239700.0>)"
            ]
          },
          "metadata": {
            "tags": []
          },
          "execution_count": 33
        }
      ]
    },
    {
      "cell_type": "code",
      "metadata": {
        "colab": {
          "base_uri": "https://localhost:8080/"
        },
        "id": "2cbPyTLwNlQ-",
        "outputId": "d92b4222-d54a-4b74-9c5e-e861776583c8"
      },
      "source": [
        "#creating model 4\n",
        "model4 = tf.keras.Sequential()\n",
        "model4.add(tf.keras.layers.Dense(100)),\n",
        "model4.add(tf.keras.layers.Dense(1))\n",
        "\n",
        "#compile the model\n",
        "model4.compile(loss = tf.keras.losses.mae,\n",
        "               optimizer = tf.keras.optimizers.SGD(learning_rate=0.01),\n",
        "               metrics = ['mae'])\n",
        "\n",
        "#fitting the model\n",
        "model4.fit(x_train,y_train,epochs=100)"
      ],
      "execution_count": null,
      "outputs": [
        {
          "output_type": "stream",
          "text": [
            "Epoch 1/100\n",
            "34/34 [==============================] - 0s 969us/step - loss: 8541.6094 - mae: 8541.6094\n",
            "Epoch 2/100\n",
            "34/34 [==============================] - 0s 928us/step - loss: 7867.9897 - mae: 7867.9897\n",
            "Epoch 3/100\n",
            "34/34 [==============================] - 0s 900us/step - loss: 7607.0806 - mae: 7607.0806\n",
            "Epoch 4/100\n",
            "34/34 [==============================] - 0s 1ms/step - loss: 7698.4629 - mae: 7698.4629\n",
            "Epoch 5/100\n",
            "34/34 [==============================] - 0s 1ms/step - loss: 7729.1992 - mae: 7729.1992\n",
            "Epoch 6/100\n",
            "34/34 [==============================] - 0s 977us/step - loss: 7586.7739 - mae: 7586.7739\n",
            "Epoch 7/100\n",
            "34/34 [==============================] - 0s 924us/step - loss: 7594.7490 - mae: 7594.7490\n",
            "Epoch 8/100\n",
            "34/34 [==============================] - 0s 926us/step - loss: 7799.0000 - mae: 7799.0000\n",
            "Epoch 9/100\n",
            "34/34 [==============================] - 0s 946us/step - loss: 7607.6709 - mae: 7607.6709\n",
            "Epoch 10/100\n",
            "34/34 [==============================] - 0s 940us/step - loss: 7742.1055 - mae: 7742.1055\n",
            "Epoch 11/100\n",
            "34/34 [==============================] - 0s 920us/step - loss: 7623.4419 - mae: 7623.4419\n",
            "Epoch 12/100\n",
            "34/34 [==============================] - 0s 890us/step - loss: 7533.5278 - mae: 7533.5278\n",
            "Epoch 13/100\n",
            "34/34 [==============================] - 0s 1ms/step - loss: 7623.5659 - mae: 7623.5659\n",
            "Epoch 14/100\n",
            "34/34 [==============================] - 0s 996us/step - loss: 7810.7979 - mae: 7810.7979\n",
            "Epoch 15/100\n",
            "34/34 [==============================] - 0s 927us/step - loss: 7405.8350 - mae: 7405.8350\n",
            "Epoch 16/100\n",
            "34/34 [==============================] - 0s 958us/step - loss: 7745.7109 - mae: 7745.7109\n",
            "Epoch 17/100\n",
            "34/34 [==============================] - 0s 988us/step - loss: 7514.3525 - mae: 7514.3525\n",
            "Epoch 18/100\n",
            "34/34 [==============================] - 0s 1ms/step - loss: 7767.8096 - mae: 7767.8096\n",
            "Epoch 19/100\n",
            "34/34 [==============================] - 0s 901us/step - loss: 7701.7251 - mae: 7701.7251\n",
            "Epoch 20/100\n",
            "34/34 [==============================] - 0s 919us/step - loss: 7886.4961 - mae: 7886.4961\n",
            "Epoch 21/100\n",
            "34/34 [==============================] - 0s 988us/step - loss: 7575.9556 - mae: 7575.9556\n",
            "Epoch 22/100\n",
            "34/34 [==============================] - 0s 936us/step - loss: 7847.2446 - mae: 7847.2446\n",
            "Epoch 23/100\n",
            "34/34 [==============================] - 0s 930us/step - loss: 7638.9082 - mae: 7638.9082\n",
            "Epoch 24/100\n",
            "34/34 [==============================] - 0s 922us/step - loss: 7556.2412 - mae: 7556.2412\n",
            "Epoch 25/100\n",
            "34/34 [==============================] - 0s 892us/step - loss: 7551.9604 - mae: 7551.9604\n",
            "Epoch 26/100\n",
            "34/34 [==============================] - 0s 917us/step - loss: 7615.7676 - mae: 7615.7676\n",
            "Epoch 27/100\n",
            "34/34 [==============================] - 0s 1ms/step - loss: 7719.1235 - mae: 7719.1235\n",
            "Epoch 28/100\n",
            "34/34 [==============================] - 0s 854us/step - loss: 7349.3022 - mae: 7349.3022\n",
            "Epoch 29/100\n",
            "34/34 [==============================] - 0s 930us/step - loss: 7689.7642 - mae: 7689.7642\n",
            "Epoch 30/100\n",
            "34/34 [==============================] - 0s 880us/step - loss: 7540.4663 - mae: 7540.4663\n",
            "Epoch 31/100\n",
            "34/34 [==============================] - 0s 900us/step - loss: 7521.6016 - mae: 7521.6016\n",
            "Epoch 32/100\n",
            "34/34 [==============================] - 0s 896us/step - loss: 7508.4062 - mae: 7508.4062\n",
            "Epoch 33/100\n",
            "34/34 [==============================] - 0s 916us/step - loss: 7292.4844 - mae: 7292.4844\n",
            "Epoch 34/100\n",
            "34/34 [==============================] - 0s 927us/step - loss: 7392.6909 - mae: 7392.6909\n",
            "Epoch 35/100\n",
            "34/34 [==============================] - 0s 908us/step - loss: 7380.2988 - mae: 7380.2988\n",
            "Epoch 36/100\n",
            "34/34 [==============================] - 0s 960us/step - loss: 7500.4023 - mae: 7500.4023\n",
            "Epoch 37/100\n",
            "34/34 [==============================] - 0s 994us/step - loss: 7671.4189 - mae: 7671.4189\n",
            "Epoch 38/100\n",
            "34/34 [==============================] - 0s 886us/step - loss: 7399.1685 - mae: 7399.1685\n",
            "Epoch 39/100\n",
            "34/34 [==============================] - 0s 1ms/step - loss: 7523.7256 - mae: 7523.7256\n",
            "Epoch 40/100\n",
            "34/34 [==============================] - 0s 902us/step - loss: 7350.5547 - mae: 7350.5547\n",
            "Epoch 41/100\n",
            "34/34 [==============================] - 0s 921us/step - loss: 7730.8530 - mae: 7730.8530\n",
            "Epoch 42/100\n",
            "34/34 [==============================] - 0s 944us/step - loss: 7715.5947 - mae: 7715.5947\n",
            "Epoch 43/100\n",
            "34/34 [==============================] - 0s 936us/step - loss: 7671.8906 - mae: 7671.8906\n",
            "Epoch 44/100\n",
            "34/34 [==============================] - 0s 911us/step - loss: 7553.7041 - mae: 7553.7041\n",
            "Epoch 45/100\n",
            "34/34 [==============================] - 0s 2ms/step - loss: 7319.0112 - mae: 7319.0112\n",
            "Epoch 46/100\n",
            "34/34 [==============================] - 0s 1ms/step - loss: 7576.9561 - mae: 7576.9561\n",
            "Epoch 47/100\n",
            "34/34 [==============================] - 0s 1ms/step - loss: 7522.6328 - mae: 7522.6328\n",
            "Epoch 48/100\n",
            "34/34 [==============================] - 0s 960us/step - loss: 7575.3604 - mae: 7575.3604\n",
            "Epoch 49/100\n",
            "34/34 [==============================] - 0s 953us/step - loss: 7533.1104 - mae: 7533.1104\n",
            "Epoch 50/100\n",
            "34/34 [==============================] - 0s 1ms/step - loss: 7491.2090 - mae: 7491.2090\n",
            "Epoch 51/100\n",
            "34/34 [==============================] - 0s 993us/step - loss: 7428.0161 - mae: 7428.0161\n",
            "Epoch 52/100\n",
            "34/34 [==============================] - 0s 1ms/step - loss: 7380.0288 - mae: 7380.0288\n",
            "Epoch 53/100\n",
            "34/34 [==============================] - 0s 956us/step - loss: 7652.3013 - mae: 7652.3013\n",
            "Epoch 54/100\n",
            "34/34 [==============================] - 0s 1ms/step - loss: 7258.3618 - mae: 7258.3618\n",
            "Epoch 55/100\n",
            "34/34 [==============================] - 0s 985us/step - loss: 7282.5571 - mae: 7282.5571\n",
            "Epoch 56/100\n",
            "34/34 [==============================] - 0s 979us/step - loss: 7270.7197 - mae: 7270.7197\n",
            "Epoch 57/100\n",
            "34/34 [==============================] - 0s 956us/step - loss: 7421.1758 - mae: 7421.1758\n",
            "Epoch 58/100\n",
            "34/34 [==============================] - 0s 921us/step - loss: 7438.7021 - mae: 7438.7021\n",
            "Epoch 59/100\n",
            "34/34 [==============================] - 0s 994us/step - loss: 7656.7988 - mae: 7656.7988\n",
            "Epoch 60/100\n",
            "34/34 [==============================] - 0s 930us/step - loss: 7315.5078 - mae: 7315.5078\n",
            "Epoch 61/100\n",
            "34/34 [==============================] - 0s 930us/step - loss: 7405.7769 - mae: 7405.7769\n",
            "Epoch 62/100\n",
            "34/34 [==============================] - 0s 985us/step - loss: 7545.2119 - mae: 7545.2119\n",
            "Epoch 63/100\n",
            "34/34 [==============================] - 0s 1ms/step - loss: 7424.6875 - mae: 7424.6875\n",
            "Epoch 64/100\n",
            "34/34 [==============================] - 0s 1ms/step - loss: 7358.2559 - mae: 7358.2559\n",
            "Epoch 65/100\n",
            "34/34 [==============================] - 0s 913us/step - loss: 7466.7500 - mae: 7466.7500\n",
            "Epoch 66/100\n",
            "34/34 [==============================] - 0s 951us/step - loss: 7119.3125 - mae: 7119.3125\n",
            "Epoch 67/100\n",
            "34/34 [==============================] - 0s 985us/step - loss: 7456.7686 - mae: 7456.7686\n",
            "Epoch 68/100\n",
            "34/34 [==============================] - 0s 981us/step - loss: 7490.7656 - mae: 7490.7656\n",
            "Epoch 69/100\n",
            "34/34 [==============================] - 0s 913us/step - loss: 7553.3452 - mae: 7553.3452\n",
            "Epoch 70/100\n",
            "34/34 [==============================] - 0s 1ms/step - loss: 7663.4888 - mae: 7663.4888\n",
            "Epoch 71/100\n",
            "34/34 [==============================] - 0s 926us/step - loss: 7224.0923 - mae: 7224.0923\n",
            "Epoch 72/100\n",
            "34/34 [==============================] - 0s 998us/step - loss: 7386.3247 - mae: 7386.3247\n",
            "Epoch 73/100\n",
            "34/34 [==============================] - 0s 947us/step - loss: 7325.4590 - mae: 7325.4590\n",
            "Epoch 74/100\n",
            "34/34 [==============================] - 0s 1ms/step - loss: 7389.1987 - mae: 7389.1987\n",
            "Epoch 75/100\n",
            "34/34 [==============================] - 0s 970us/step - loss: 7254.5073 - mae: 7254.5073\n",
            "Epoch 76/100\n",
            "34/34 [==============================] - 0s 941us/step - loss: 7048.2583 - mae: 7048.2583\n",
            "Epoch 77/100\n",
            "34/34 [==============================] - 0s 950us/step - loss: 7340.7070 - mae: 7340.7070\n",
            "Epoch 78/100\n",
            "34/34 [==============================] - 0s 1ms/step - loss: 7277.0259 - mae: 7277.0259\n",
            "Epoch 79/100\n",
            "34/34 [==============================] - 0s 980us/step - loss: 7259.8159 - mae: 7259.8159\n",
            "Epoch 80/100\n",
            "34/34 [==============================] - 0s 955us/step - loss: 7469.2739 - mae: 7469.2739\n",
            "Epoch 81/100\n",
            "34/34 [==============================] - 0s 1ms/step - loss: 7267.8306 - mae: 7267.8306\n",
            "Epoch 82/100\n",
            "34/34 [==============================] - 0s 999us/step - loss: 7257.8970 - mae: 7257.8970\n",
            "Epoch 83/100\n",
            "34/34 [==============================] - 0s 996us/step - loss: 7355.7983 - mae: 7355.7983\n",
            "Epoch 84/100\n",
            "34/34 [==============================] - 0s 921us/step - loss: 7389.7295 - mae: 7389.7295\n",
            "Epoch 85/100\n",
            "34/34 [==============================] - 0s 1ms/step - loss: 7307.7993 - mae: 7307.7993\n",
            "Epoch 86/100\n",
            "34/34 [==============================] - 0s 1ms/step - loss: 7287.2837 - mae: 7287.2837\n",
            "Epoch 87/100\n",
            "34/34 [==============================] - 0s 1ms/step - loss: 7258.7451 - mae: 7258.7451\n",
            "Epoch 88/100\n",
            "34/34 [==============================] - 0s 1ms/step - loss: 7161.8184 - mae: 7161.8184\n",
            "Epoch 89/100\n",
            "34/34 [==============================] - 0s 1ms/step - loss: 7520.8662 - mae: 7520.8662\n",
            "Epoch 90/100\n",
            "34/34 [==============================] - 0s 1ms/step - loss: 7072.6543 - mae: 7072.6543\n",
            "Epoch 91/100\n",
            "34/34 [==============================] - 0s 1ms/step - loss: 7128.8574 - mae: 7128.8574\n",
            "Epoch 92/100\n",
            "34/34 [==============================] - 0s 999us/step - loss: 7279.5190 - mae: 7279.5190\n",
            "Epoch 93/100\n",
            "34/34 [==============================] - 0s 984us/step - loss: 7505.1626 - mae: 7505.1626\n",
            "Epoch 94/100\n",
            "34/34 [==============================] - 0s 1ms/step - loss: 7052.4619 - mae: 7052.4619\n",
            "Epoch 95/100\n",
            "34/34 [==============================] - 0s 1ms/step - loss: 7195.3213 - mae: 7195.3213\n",
            "Epoch 96/100\n",
            "34/34 [==============================] - 0s 1ms/step - loss: 7224.0278 - mae: 7224.0278\n",
            "Epoch 97/100\n",
            "34/34 [==============================] - 0s 1ms/step - loss: 7070.0659 - mae: 7070.0659\n",
            "Epoch 98/100\n",
            "34/34 [==============================] - 0s 926us/step - loss: 7399.1030 - mae: 7399.1030\n",
            "Epoch 99/100\n",
            "34/34 [==============================] - 0s 1ms/step - loss: 7382.9946 - mae: 7382.9946\n",
            "Epoch 100/100\n",
            "34/34 [==============================] - 0s 922us/step - loss: 7322.7310 - mae: 7322.7310\n"
          ],
          "name": "stdout"
        },
        {
          "output_type": "execute_result",
          "data": {
            "text/plain": [
              "<tensorflow.python.keras.callbacks.History at 0x7f40da0ebc90>"
            ]
          },
          "metadata": {
            "tags": []
          },
          "execution_count": 34
        }
      ]
    },
    {
      "cell_type": "code",
      "metadata": {
        "id": "r8uspJRKOhMF",
        "colab": {
          "base_uri": "https://localhost:8080/",
          "height": 142
        },
        "outputId": "b01da448-5b00-4427-c991-84342305019c"
      },
      "source": [
        "model_result = [[\"model1\",mae1.numpy(),mse1.numpy()],\n",
        "                [\"model2\",mae2.numpy(),mse2.numpy()],\n",
        "                [\"model3\",mae3.numpy(),mse3.numpy()]]\n",
        "\n",
        "all_result = pd.DataFrame(model_result,columns=[\"model\",\"mae\",\"mse\"])\n",
        "all_result"
      ],
      "execution_count": null,
      "outputs": [
        {
          "output_type": "execute_result",
          "data": {
            "text/html": [
              "<div>\n",
              "<style scoped>\n",
              "    .dataframe tbody tr th:only-of-type {\n",
              "        vertical-align: middle;\n",
              "    }\n",
              "\n",
              "    .dataframe tbody tr th {\n",
              "        vertical-align: top;\n",
              "    }\n",
              "\n",
              "    .dataframe thead th {\n",
              "        text-align: right;\n",
              "    }\n",
              "</style>\n",
              "<table border=\"1\" class=\"dataframe\">\n",
              "  <thead>\n",
              "    <tr style=\"text-align: right;\">\n",
              "      <th></th>\n",
              "      <th>model</th>\n",
              "      <th>mae</th>\n",
              "      <th>mse</th>\n",
              "    </tr>\n",
              "  </thead>\n",
              "  <tbody>\n",
              "    <tr>\n",
              "      <th>0</th>\n",
              "      <td>model1</td>\n",
              "      <td>9241.274414</td>\n",
              "      <td>227512000.0</td>\n",
              "    </tr>\n",
              "    <tr>\n",
              "      <th>1</th>\n",
              "      <td>model2</td>\n",
              "      <td>7539.951172</td>\n",
              "      <td>157949344.0</td>\n",
              "    </tr>\n",
              "    <tr>\n",
              "      <th>2</th>\n",
              "      <td>model3</td>\n",
              "      <td>3210.971436</td>\n",
              "      <td>42239700.0</td>\n",
              "    </tr>\n",
              "  </tbody>\n",
              "</table>\n",
              "</div>"
            ],
            "text/plain": [
              "    model          mae          mse\n",
              "0  model1  9241.274414  227512000.0\n",
              "1  model2  7539.951172  157949344.0\n",
              "2  model3  3210.971436   42239700.0"
            ]
          },
          "metadata": {
            "tags": []
          },
          "execution_count": 35
        }
      ]
    },
    {
      "cell_type": "code",
      "metadata": {
        "colab": {
          "base_uri": "https://localhost:8080/"
        },
        "id": "7HAuJ0VNFeMe",
        "outputId": "9c2cc79c-11b6-45b6-bffa-4a7ebdb97c99"
      },
      "source": [
        "model3.summary()"
      ],
      "execution_count": null,
      "outputs": [
        {
          "output_type": "stream",
          "text": [
            "Model: \"sequential_2\"\n",
            "_________________________________________________________________\n",
            "Layer (type)                 Output Shape              Param #   \n",
            "=================================================================\n",
            "dense_3 (Dense)              (None, 100)               1200      \n",
            "_________________________________________________________________\n",
            "dense_4 (Dense)              (None, 100)               10100     \n",
            "_________________________________________________________________\n",
            "dense_5 (Dense)              (None, 1)                 101       \n",
            "=================================================================\n",
            "Total params: 11,401\n",
            "Trainable params: 11,401\n",
            "Non-trainable params: 0\n",
            "_________________________________________________________________\n"
          ],
          "name": "stdout"
        }
      ]
    },
    {
      "cell_type": "code",
      "metadata": {
        "colab": {
          "base_uri": "https://localhost:8080/"
        },
        "id": "AVKyyeQeFvPJ",
        "outputId": "63c02e3c-1dc8-4b58-a4d0-88de7165d995"
      },
      "source": [
        "model3.save(\"fit_model\")"
      ],
      "execution_count": null,
      "outputs": [
        {
          "output_type": "stream",
          "text": [
            "INFO:tensorflow:Assets written to: fit_model/assets\n"
          ],
          "name": "stdout"
        }
      ]
    },
    {
      "cell_type": "code",
      "metadata": {
        "id": "GnVZY9RpGN7L"
      },
      "source": [
        "model3.save(\"fit_model1.h5\")"
      ],
      "execution_count": null,
      "outputs": []
    },
    {
      "cell_type": "code",
      "metadata": {
        "id": "BPjsowKZG_Zp"
      },
      "source": [
        "#load the save model\n",
        "loaded_saved_model = tf.keras.models.load_model(\"fit_model\")"
      ],
      "execution_count": null,
      "outputs": []
    },
    {
      "cell_type": "code",
      "metadata": {
        "colab": {
          "base_uri": "https://localhost:8080/"
        },
        "id": "_NhYvVBSH3vt",
        "outputId": "39baafca-fd7d-42a8-8a86-96c7da8cb7ff"
      },
      "source": [
        "loaded_saved_model.summary()"
      ],
      "execution_count": null,
      "outputs": [
        {
          "output_type": "stream",
          "text": [
            "Model: \"sequential_2\"\n",
            "_________________________________________________________________\n",
            "Layer (type)                 Output Shape              Param #   \n",
            "=================================================================\n",
            "dense_3 (Dense)              (None, 100)               1200      \n",
            "_________________________________________________________________\n",
            "dense_4 (Dense)              (None, 100)               10100     \n",
            "_________________________________________________________________\n",
            "dense_5 (Dense)              (None, 1)                 101       \n",
            "=================================================================\n",
            "Total params: 11,401\n",
            "Trainable params: 11,401\n",
            "Non-trainable params: 0\n",
            "_________________________________________________________________\n"
          ],
          "name": "stdout"
        }
      ]
    },
    {
      "cell_type": "code",
      "metadata": {
        "colab": {
          "base_uri": "https://localhost:8080/",
          "height": 323
        },
        "id": "i2Wh85ACIhZR",
        "outputId": "ecbe1bfb-dbfa-42d8-ebdd-d06dd595e078"
      },
      "source": [
        "loaded_h5_predicted_model = tf.keras.models.load_model(\"fit_model.h5\")\n",
        "loaded_h5_predicted_model.summary()"
      ],
      "execution_count": null,
      "outputs": [
        {
          "output_type": "error",
          "ename": "OSError",
          "evalue": "ignored",
          "traceback": [
            "\u001b[0;31m---------------------------------------------------------------------------\u001b[0m",
            "\u001b[0;31mOSError\u001b[0m                                   Traceback (most recent call last)",
            "\u001b[0;32m<ipython-input-41-c9e249b6e071>\u001b[0m in \u001b[0;36m<module>\u001b[0;34m()\u001b[0m\n\u001b[0;32m----> 1\u001b[0;31m \u001b[0mloaded_h5_predicted_model\u001b[0m \u001b[0;34m=\u001b[0m \u001b[0mtf\u001b[0m\u001b[0;34m.\u001b[0m\u001b[0mkeras\u001b[0m\u001b[0;34m.\u001b[0m\u001b[0mmodels\u001b[0m\u001b[0;34m.\u001b[0m\u001b[0mload_model\u001b[0m\u001b[0;34m(\u001b[0m\u001b[0;34m\"fit_model.h5\"\u001b[0m\u001b[0;34m)\u001b[0m\u001b[0;34m\u001b[0m\u001b[0;34m\u001b[0m\u001b[0m\n\u001b[0m\u001b[1;32m      2\u001b[0m \u001b[0mloaded_h5_predicted_model\u001b[0m\u001b[0;34m.\u001b[0m\u001b[0msummary\u001b[0m\u001b[0;34m(\u001b[0m\u001b[0;34m)\u001b[0m\u001b[0;34m\u001b[0m\u001b[0;34m\u001b[0m\u001b[0m\n",
            "\u001b[0;32m/usr/local/lib/python3.7/dist-packages/tensorflow/python/keras/saving/save.py\u001b[0m in \u001b[0;36mload_model\u001b[0;34m(filepath, custom_objects, compile, options)\u001b[0m\n\u001b[1;32m    204\u001b[0m         \u001b[0mfilepath\u001b[0m \u001b[0;34m=\u001b[0m \u001b[0mpath_to_string\u001b[0m\u001b[0;34m(\u001b[0m\u001b[0mfilepath\u001b[0m\u001b[0;34m)\u001b[0m\u001b[0;34m\u001b[0m\u001b[0;34m\u001b[0m\u001b[0m\n\u001b[1;32m    205\u001b[0m         \u001b[0;32mif\u001b[0m \u001b[0misinstance\u001b[0m\u001b[0;34m(\u001b[0m\u001b[0mfilepath\u001b[0m\u001b[0;34m,\u001b[0m \u001b[0mstr\u001b[0m\u001b[0;34m)\u001b[0m\u001b[0;34m:\u001b[0m\u001b[0;34m\u001b[0m\u001b[0;34m\u001b[0m\u001b[0m\n\u001b[0;32m--> 206\u001b[0;31m           \u001b[0;32mreturn\u001b[0m \u001b[0msaved_model_load\u001b[0m\u001b[0;34m.\u001b[0m\u001b[0mload\u001b[0m\u001b[0;34m(\u001b[0m\u001b[0mfilepath\u001b[0m\u001b[0;34m,\u001b[0m \u001b[0mcompile\u001b[0m\u001b[0;34m,\u001b[0m \u001b[0moptions\u001b[0m\u001b[0;34m)\u001b[0m\u001b[0;34m\u001b[0m\u001b[0;34m\u001b[0m\u001b[0m\n\u001b[0m\u001b[1;32m    207\u001b[0m \u001b[0;34m\u001b[0m\u001b[0m\n\u001b[1;32m    208\u001b[0m   raise IOError(\n",
            "\u001b[0;32m/usr/local/lib/python3.7/dist-packages/tensorflow/python/keras/saving/saved_model/load.py\u001b[0m in \u001b[0;36mload\u001b[0;34m(path, compile, options)\u001b[0m\n\u001b[1;32m    119\u001b[0m   \u001b[0;31m# Look for metadata file or parse the SavedModel\u001b[0m\u001b[0;34m\u001b[0m\u001b[0;34m\u001b[0m\u001b[0;34m\u001b[0m\u001b[0m\n\u001b[1;32m    120\u001b[0m   \u001b[0mmetadata\u001b[0m \u001b[0;34m=\u001b[0m \u001b[0msaved_metadata_pb2\u001b[0m\u001b[0;34m.\u001b[0m\u001b[0mSavedMetadata\u001b[0m\u001b[0;34m(\u001b[0m\u001b[0;34m)\u001b[0m\u001b[0;34m\u001b[0m\u001b[0;34m\u001b[0m\u001b[0m\n\u001b[0;32m--> 121\u001b[0;31m   \u001b[0mmeta_graph_def\u001b[0m \u001b[0;34m=\u001b[0m \u001b[0mloader_impl\u001b[0m\u001b[0;34m.\u001b[0m\u001b[0mparse_saved_model\u001b[0m\u001b[0;34m(\u001b[0m\u001b[0mpath\u001b[0m\u001b[0;34m)\u001b[0m\u001b[0;34m.\u001b[0m\u001b[0mmeta_graphs\u001b[0m\u001b[0;34m[\u001b[0m\u001b[0;36m0\u001b[0m\u001b[0;34m]\u001b[0m\u001b[0;34m\u001b[0m\u001b[0;34m\u001b[0m\u001b[0m\n\u001b[0m\u001b[1;32m    122\u001b[0m   \u001b[0mobject_graph_def\u001b[0m \u001b[0;34m=\u001b[0m \u001b[0mmeta_graph_def\u001b[0m\u001b[0;34m.\u001b[0m\u001b[0mobject_graph_def\u001b[0m\u001b[0;34m\u001b[0m\u001b[0;34m\u001b[0m\u001b[0m\n\u001b[1;32m    123\u001b[0m   \u001b[0mpath_to_metadata_pb\u001b[0m \u001b[0;34m=\u001b[0m \u001b[0mos\u001b[0m\u001b[0;34m.\u001b[0m\u001b[0mpath\u001b[0m\u001b[0;34m.\u001b[0m\u001b[0mjoin\u001b[0m\u001b[0;34m(\u001b[0m\u001b[0mpath\u001b[0m\u001b[0;34m,\u001b[0m \u001b[0mconstants\u001b[0m\u001b[0;34m.\u001b[0m\u001b[0mSAVED_METADATA_PATH\u001b[0m\u001b[0;34m)\u001b[0m\u001b[0;34m\u001b[0m\u001b[0;34m\u001b[0m\u001b[0m\n",
            "\u001b[0;32m/usr/local/lib/python3.7/dist-packages/tensorflow/python/saved_model/loader_impl.py\u001b[0m in \u001b[0;36mparse_saved_model\u001b[0;34m(export_dir)\u001b[0m\n\u001b[1;32m    114\u001b[0m         \u001b[0;34m\"SavedModel file does not exist at: %s%s{%s|%s}\"\u001b[0m \u001b[0;34m%\u001b[0m\u001b[0;34m\u001b[0m\u001b[0;34m\u001b[0m\u001b[0m\n\u001b[1;32m    115\u001b[0m         (export_dir, os.path.sep, constants.SAVED_MODEL_FILENAME_PBTXT,\n\u001b[0;32m--> 116\u001b[0;31m          constants.SAVED_MODEL_FILENAME_PB))\n\u001b[0m\u001b[1;32m    117\u001b[0m \u001b[0;34m\u001b[0m\u001b[0m\n\u001b[1;32m    118\u001b[0m \u001b[0;34m\u001b[0m\u001b[0m\n",
            "\u001b[0;31mOSError\u001b[0m: SavedModel file does not exist at: fit_model.h5/{saved_model.pbtxt|saved_model.pb}"
          ]
        }
      ]
    },
    {
      "cell_type": "code",
      "metadata": {
        "id": "fgSizo4mJOkY"
      },
      "source": [
        "#download the model from colab\n",
        "from google.colab import files\n",
        "files.download(\"fit_model.h5\")"
      ],
      "execution_count": null,
      "outputs": []
    },
    {
      "cell_type": "code",
      "metadata": {
        "id": "h6QUqT9zJxYl"
      },
      "source": [
        "#save the model in google drive\n",
        "!cp /content/fit_model.h5 /content/drive/MyDrive/Classroom"
      ],
      "execution_count": null,
      "outputs": []
    },
    {
      "cell_type": "code",
      "metadata": {
        "id": "DOoKatNuKTGn"
      },
      "source": [
        "from google.colab import drive\n",
        "drive.mount('/content/drive')"
      ],
      "execution_count": null,
      "outputs": []
    },
    {
      "cell_type": "code",
      "metadata": {
        "colab": {
          "base_uri": "https://localhost:8080/"
        },
        "id": "MVOuE5HnKayc",
        "outputId": "77874857-6f2f-4d88-8734-c309b8e2e80f"
      },
      "source": [
        "!ls /content/drive/MyDrive/Classroom"
      ],
      "execution_count": null,
      "outputs": [
        {
          "output_type": "stream",
          "text": [
            " fit_model.h5  'ssss dasd'\n"
          ],
          "name": "stdout"
        }
      ]
    },
    {
      "cell_type": "markdown",
      "metadata": {
        "id": "ux9jgi6Gtfbk"
      },
      "source": [
        "##preprocessing data(normalization and standardization)\n",
        "\n",
        "In terms of scaling values, neural network tend to perfer normalization "
      ]
    },
    {
      "cell_type": "code",
      "metadata": {
        "id": "-dteJaJYKyiA"
      },
      "source": [
        "import tensorflow as tf\n",
        "import pandas as pd\n",
        "import matplotlib.pyplot as plt"
      ],
      "execution_count": null,
      "outputs": []
    },
    {
      "cell_type": "code",
      "metadata": {
        "colab": {
          "base_uri": "https://localhost:8080/",
          "height": 204
        },
        "id": "b1mtO0Pnvmx_",
        "outputId": "a5207c55-18f4-4416-a1fe-0d17b77e1b32"
      },
      "source": [
        "df = pd.read_csv(\"https://raw.githubusercontent.com/stedy/Machine-Learning-with-R-datasets/master/insurance.csv\")\n",
        "df.head()"
      ],
      "execution_count": null,
      "outputs": [
        {
          "output_type": "execute_result",
          "data": {
            "text/html": [
              "<div>\n",
              "<style scoped>\n",
              "    .dataframe tbody tr th:only-of-type {\n",
              "        vertical-align: middle;\n",
              "    }\n",
              "\n",
              "    .dataframe tbody tr th {\n",
              "        vertical-align: top;\n",
              "    }\n",
              "\n",
              "    .dataframe thead th {\n",
              "        text-align: right;\n",
              "    }\n",
              "</style>\n",
              "<table border=\"1\" class=\"dataframe\">\n",
              "  <thead>\n",
              "    <tr style=\"text-align: right;\">\n",
              "      <th></th>\n",
              "      <th>age</th>\n",
              "      <th>sex</th>\n",
              "      <th>bmi</th>\n",
              "      <th>children</th>\n",
              "      <th>smoker</th>\n",
              "      <th>region</th>\n",
              "      <th>charges</th>\n",
              "    </tr>\n",
              "  </thead>\n",
              "  <tbody>\n",
              "    <tr>\n",
              "      <th>0</th>\n",
              "      <td>19</td>\n",
              "      <td>female</td>\n",
              "      <td>27.900</td>\n",
              "      <td>0</td>\n",
              "      <td>yes</td>\n",
              "      <td>southwest</td>\n",
              "      <td>16884.92400</td>\n",
              "    </tr>\n",
              "    <tr>\n",
              "      <th>1</th>\n",
              "      <td>18</td>\n",
              "      <td>male</td>\n",
              "      <td>33.770</td>\n",
              "      <td>1</td>\n",
              "      <td>no</td>\n",
              "      <td>southeast</td>\n",
              "      <td>1725.55230</td>\n",
              "    </tr>\n",
              "    <tr>\n",
              "      <th>2</th>\n",
              "      <td>28</td>\n",
              "      <td>male</td>\n",
              "      <td>33.000</td>\n",
              "      <td>3</td>\n",
              "      <td>no</td>\n",
              "      <td>southeast</td>\n",
              "      <td>4449.46200</td>\n",
              "    </tr>\n",
              "    <tr>\n",
              "      <th>3</th>\n",
              "      <td>33</td>\n",
              "      <td>male</td>\n",
              "      <td>22.705</td>\n",
              "      <td>0</td>\n",
              "      <td>no</td>\n",
              "      <td>northwest</td>\n",
              "      <td>21984.47061</td>\n",
              "    </tr>\n",
              "    <tr>\n",
              "      <th>4</th>\n",
              "      <td>32</td>\n",
              "      <td>male</td>\n",
              "      <td>28.880</td>\n",
              "      <td>0</td>\n",
              "      <td>no</td>\n",
              "      <td>northwest</td>\n",
              "      <td>3866.85520</td>\n",
              "    </tr>\n",
              "  </tbody>\n",
              "</table>\n",
              "</div>"
            ],
            "text/plain": [
              "   age     sex     bmi  children smoker     region      charges\n",
              "0   19  female  27.900         0    yes  southwest  16884.92400\n",
              "1   18    male  33.770         1     no  southeast   1725.55230\n",
              "2   28    male  33.000         3     no  southeast   4449.46200\n",
              "3   33    male  22.705         0     no  northwest  21984.47061\n",
              "4   32    male  28.880         0     no  northwest   3866.85520"
            ]
          },
          "metadata": {
            "tags": []
          },
          "execution_count": 44
        }
      ]
    },
    {
      "cell_type": "markdown",
      "metadata": {
        "id": "kwCYndKAvvaq"
      },
      "source": [
        "To prepare our data, we can borrow few classes from scikit-learn"
      ]
    },
    {
      "cell_type": "code",
      "metadata": {
        "id": "1jsbud4bvso7"
      },
      "source": [
        "#Libaries\n",
        "from sklearn.compose import make_column_transformer\n",
        "from sklearn.preprocessing import OneHotEncoder,MinMaxScaler\n",
        "\n",
        "#Create the column transformer\n",
        "ct = make_column_transformer(\n",
        "    (MinMaxScaler(),[\"age\",\"bmi\",\"children\"]),\n",
        "    (OneHotEncoder(handle_unknown= \"ignore\"),[\"sex\",\"smoker\",\"region\"])\n",
        ")\n",
        "\n",
        "#create X & y\n",
        "\n",
        "x = df.drop(\"charges\",axis=1)\n",
        "y = df[\"charges\"]\n",
        "\n"
      ],
      "execution_count": null,
      "outputs": []
    },
    {
      "cell_type": "code",
      "metadata": {
        "id": "4_DH1oHZxQYT"
      },
      "source": [
        "from sklearn.model_selection import train_test_split\n",
        "\n",
        "#split the data into training and testing\n",
        "x_train,x_test,y_train,y_test = train_test_split(x, y, test_size = 0.2, random_state = 42)\n",
        "\n",
        "#fit the column transformer to our training data\n",
        "ct.fit(x_train)\n",
        "\n",
        "#converting the training and test data into normalization and onehotencoder\n",
        "x_train_normal = ct.transform(x_train)\n",
        "x_test_normal = ct.transform(x_test)\n"
      ],
      "execution_count": null,
      "outputs": []
    },
    {
      "cell_type": "code",
      "metadata": {
        "colab": {
          "base_uri": "https://localhost:8080/"
        },
        "id": "Zi4HN0Rizdrp",
        "outputId": "b3b352d6-6c6d-438e-8e2a-cad52b0fb510"
      },
      "source": [
        "#before normization and onehotencoder\n",
        "x_train.loc[0]"
      ],
      "execution_count": null,
      "outputs": [
        {
          "output_type": "execute_result",
          "data": {
            "text/plain": [
              "age                19\n",
              "sex            female\n",
              "bmi              27.9\n",
              "children            0\n",
              "smoker            yes\n",
              "region      southwest\n",
              "Name: 0, dtype: object"
            ]
          },
          "metadata": {
            "tags": []
          },
          "execution_count": 51
        }
      ]
    },
    {
      "cell_type": "code",
      "metadata": {
        "colab": {
          "base_uri": "https://localhost:8080/"
        },
        "id": "saOVCNv4zrdj",
        "outputId": "601f03f7-e1f1-4d16-d833-ee9798f18815"
      },
      "source": [
        "x_train_normal[0]"
      ],
      "execution_count": null,
      "outputs": [
        {
          "output_type": "execute_result",
          "data": {
            "text/plain": [
              "array([0.60869565, 0.10734463, 0.4       , 1.        , 0.        ,\n",
              "       1.        , 0.        , 0.        , 1.        , 0.        ,\n",
              "       0.        ])"
            ]
          },
          "metadata": {
            "tags": []
          },
          "execution_count": 52
        }
      ]
    },
    {
      "cell_type": "markdown",
      "metadata": {
        "id": "bIo64iEb0S4U"
      },
      "source": [
        "Now our data been normalized and onehotencoder. Let build our model"
      ]
    },
    {
      "cell_type": "code",
      "metadata": {
        "colab": {
          "base_uri": "https://localhost:8080/"
        },
        "id": "dSonGK4Qz5Ws",
        "outputId": "42efd27f-09e9-4a41-a8b6-30f58103757e"
      },
      "source": [
        "#set random seed\n",
        "tf.random.set_seed(42)\n",
        "\n",
        "#create neural network\n",
        "model5 = tf.keras.Sequential()\n",
        "model5.add(tf.keras.layers.Dense(100)),\n",
        "model5.add(tf.keras.layers.Dense(100)),\n",
        "model5.add(tf.keras.layers.Dense(1))\n",
        "\n",
        "#compile the model\n",
        "model5.compile(loss = tf.keras.losses.mae,\n",
        "               optimizer = tf.keras.optimizers.Adam(learning_rate=0.01),\n",
        "               metrics = [\"mae\"])\n",
        "\n",
        "#fit the model\n",
        "model5.fit(x_train_normal,y_train,epochs=100)"
      ],
      "execution_count": null,
      "outputs": [
        {
          "output_type": "stream",
          "text": [
            "Epoch 1/100\n",
            "34/34 [==============================] - 0s 1ms/step - loss: 12637.2021 - mae: 12637.2021\n",
            "Epoch 2/100\n",
            "34/34 [==============================] - 0s 1ms/step - loss: 8120.7441 - mae: 8120.7441\n",
            "Epoch 3/100\n",
            "34/34 [==============================] - 0s 1ms/step - loss: 7099.0166 - mae: 7099.0166\n",
            "Epoch 4/100\n",
            "34/34 [==============================] - 0s 1ms/step - loss: 5560.9072 - mae: 5560.9072\n",
            "Epoch 5/100\n",
            "34/34 [==============================] - 0s 1ms/step - loss: 3890.3486 - mae: 3890.3486\n",
            "Epoch 6/100\n",
            "34/34 [==============================] - 0s 1ms/step - loss: 3656.1345 - mae: 3656.1345\n",
            "Epoch 7/100\n",
            "34/34 [==============================] - 0s 1ms/step - loss: 3625.7568 - mae: 3625.7568\n",
            "Epoch 8/100\n",
            "34/34 [==============================] - 0s 1ms/step - loss: 3625.8984 - mae: 3625.8984\n",
            "Epoch 9/100\n",
            "34/34 [==============================] - 0s 1ms/step - loss: 3570.4048 - mae: 3570.4048\n",
            "Epoch 10/100\n",
            "34/34 [==============================] - 0s 1ms/step - loss: 3551.8513 - mae: 3551.8513\n",
            "Epoch 11/100\n",
            "34/34 [==============================] - 0s 1ms/step - loss: 3519.7932 - mae: 3519.7932\n",
            "Epoch 12/100\n",
            "34/34 [==============================] - 0s 1ms/step - loss: 3552.1145 - mae: 3552.1145\n",
            "Epoch 13/100\n",
            "34/34 [==============================] - 0s 1ms/step - loss: 3501.7554 - mae: 3501.7554\n",
            "Epoch 14/100\n",
            "34/34 [==============================] - 0s 1ms/step - loss: 3565.3994 - mae: 3565.3994\n",
            "Epoch 15/100\n",
            "34/34 [==============================] - 0s 2ms/step - loss: 3531.6367 - mae: 3531.6367\n",
            "Epoch 16/100\n",
            "34/34 [==============================] - 0s 1ms/step - loss: 3508.5950 - mae: 3508.5950\n",
            "Epoch 17/100\n",
            "34/34 [==============================] - 0s 1ms/step - loss: 3528.6409 - mae: 3528.6409\n",
            "Epoch 18/100\n",
            "34/34 [==============================] - 0s 1ms/step - loss: 3499.2529 - mae: 3499.2529\n",
            "Epoch 19/100\n",
            "34/34 [==============================] - 0s 1ms/step - loss: 3545.8782 - mae: 3545.8782\n",
            "Epoch 20/100\n",
            "34/34 [==============================] - 0s 1ms/step - loss: 3514.4370 - mae: 3514.4370\n",
            "Epoch 21/100\n",
            "34/34 [==============================] - 0s 1ms/step - loss: 3511.1533 - mae: 3511.1533\n",
            "Epoch 22/100\n",
            "34/34 [==============================] - 0s 1ms/step - loss: 3507.5413 - mae: 3507.5413\n",
            "Epoch 23/100\n",
            "34/34 [==============================] - 0s 1ms/step - loss: 3514.5093 - mae: 3514.5093\n",
            "Epoch 24/100\n",
            "34/34 [==============================] - 0s 1ms/step - loss: 3520.4968 - mae: 3520.4968\n",
            "Epoch 25/100\n",
            "34/34 [==============================] - 0s 1ms/step - loss: 3528.1169 - mae: 3528.1169\n",
            "Epoch 26/100\n",
            "34/34 [==============================] - 0s 2ms/step - loss: 3525.7761 - mae: 3525.7761\n",
            "Epoch 27/100\n",
            "34/34 [==============================] - 0s 2ms/step - loss: 3521.7102 - mae: 3521.7102\n",
            "Epoch 28/100\n",
            "34/34 [==============================] - 0s 1ms/step - loss: 3534.9097 - mae: 3534.9097\n",
            "Epoch 29/100\n",
            "34/34 [==============================] - 0s 1ms/step - loss: 3528.3162 - mae: 3528.3162\n",
            "Epoch 30/100\n",
            "34/34 [==============================] - 0s 2ms/step - loss: 3495.6848 - mae: 3495.6848\n",
            "Epoch 31/100\n",
            "34/34 [==============================] - 0s 2ms/step - loss: 3518.0745 - mae: 3518.0745\n",
            "Epoch 32/100\n",
            "34/34 [==============================] - 0s 2ms/step - loss: 3523.2007 - mae: 3523.2007\n",
            "Epoch 33/100\n",
            "34/34 [==============================] - 0s 2ms/step - loss: 3554.6458 - mae: 3554.6458\n",
            "Epoch 34/100\n",
            "34/34 [==============================] - 0s 2ms/step - loss: 3525.5889 - mae: 3525.5889\n",
            "Epoch 35/100\n",
            "34/34 [==============================] - 0s 1ms/step - loss: 3503.3354 - mae: 3503.3354\n",
            "Epoch 36/100\n",
            "34/34 [==============================] - 0s 1ms/step - loss: 3544.5852 - mae: 3544.5852\n",
            "Epoch 37/100\n",
            "34/34 [==============================] - 0s 1ms/step - loss: 3494.6538 - mae: 3494.6538\n",
            "Epoch 38/100\n",
            "34/34 [==============================] - 0s 1ms/step - loss: 3519.4109 - mae: 3519.4109\n",
            "Epoch 39/100\n",
            "34/34 [==============================] - 0s 1ms/step - loss: 3508.9958 - mae: 3508.9958\n",
            "Epoch 40/100\n",
            "34/34 [==============================] - 0s 1ms/step - loss: 3549.1541 - mae: 3549.1541\n",
            "Epoch 41/100\n",
            "34/34 [==============================] - 0s 1ms/step - loss: 3507.4658 - mae: 3507.4658\n",
            "Epoch 42/100\n",
            "34/34 [==============================] - 0s 1ms/step - loss: 3520.3872 - mae: 3520.3872\n",
            "Epoch 43/100\n",
            "34/34 [==============================] - 0s 2ms/step - loss: 3502.8022 - mae: 3502.8022\n",
            "Epoch 44/100\n",
            "34/34 [==============================] - 0s 2ms/step - loss: 3510.8037 - mae: 3510.8037\n",
            "Epoch 45/100\n",
            "34/34 [==============================] - 0s 1ms/step - loss: 3487.7854 - mae: 3487.7854\n",
            "Epoch 46/100\n",
            "34/34 [==============================] - 0s 2ms/step - loss: 3519.8721 - mae: 3519.8721\n",
            "Epoch 47/100\n",
            "34/34 [==============================] - 0s 1ms/step - loss: 3512.8640 - mae: 3512.8640\n",
            "Epoch 48/100\n",
            "34/34 [==============================] - 0s 1ms/step - loss: 3503.9897 - mae: 3503.9897\n",
            "Epoch 49/100\n",
            "34/34 [==============================] - 0s 1ms/step - loss: 3516.4036 - mae: 3516.4036\n",
            "Epoch 50/100\n",
            "34/34 [==============================] - 0s 2ms/step - loss: 3515.6641 - mae: 3515.6641\n",
            "Epoch 51/100\n",
            "34/34 [==============================] - 0s 2ms/step - loss: 3508.1189 - mae: 3508.1189\n",
            "Epoch 52/100\n",
            "34/34 [==============================] - 0s 1ms/step - loss: 3497.5017 - mae: 3497.5017\n",
            "Epoch 53/100\n",
            "34/34 [==============================] - 0s 1ms/step - loss: 3516.3289 - mae: 3516.3289\n",
            "Epoch 54/100\n",
            "34/34 [==============================] - 0s 1ms/step - loss: 3517.6514 - mae: 3517.6514\n",
            "Epoch 55/100\n",
            "34/34 [==============================] - 0s 1ms/step - loss: 3542.5818 - mae: 3542.5818\n",
            "Epoch 56/100\n",
            "34/34 [==============================] - 0s 1ms/step - loss: 3511.5371 - mae: 3511.5371\n",
            "Epoch 57/100\n",
            "34/34 [==============================] - 0s 1ms/step - loss: 3513.7336 - mae: 3513.7336\n",
            "Epoch 58/100\n",
            "34/34 [==============================] - 0s 1ms/step - loss: 3503.8801 - mae: 3503.8801\n",
            "Epoch 59/100\n",
            "34/34 [==============================] - 0s 1ms/step - loss: 3495.7690 - mae: 3495.7690\n",
            "Epoch 60/100\n",
            "34/34 [==============================] - 0s 1ms/step - loss: 3533.9233 - mae: 3533.9233\n",
            "Epoch 61/100\n",
            "34/34 [==============================] - 0s 1ms/step - loss: 3521.4480 - mae: 3521.4480\n",
            "Epoch 62/100\n",
            "34/34 [==============================] - 0s 2ms/step - loss: 3519.0454 - mae: 3519.0454\n",
            "Epoch 63/100\n",
            "34/34 [==============================] - 0s 1ms/step - loss: 3509.1182 - mae: 3509.1182\n",
            "Epoch 64/100\n",
            "34/34 [==============================] - 0s 2ms/step - loss: 3492.3564 - mae: 3492.3564\n",
            "Epoch 65/100\n",
            "34/34 [==============================] - 0s 2ms/step - loss: 3499.7947 - mae: 3499.7947\n",
            "Epoch 66/100\n",
            "34/34 [==============================] - 0s 1ms/step - loss: 3514.2766 - mae: 3514.2766\n",
            "Epoch 67/100\n",
            "34/34 [==============================] - 0s 1ms/step - loss: 3513.5452 - mae: 3513.5452\n",
            "Epoch 68/100\n",
            "34/34 [==============================] - 0s 1ms/step - loss: 3491.6338 - mae: 3491.6338\n",
            "Epoch 69/100\n",
            "34/34 [==============================] - 0s 1ms/step - loss: 3506.0874 - mae: 3506.0874\n",
            "Epoch 70/100\n",
            "34/34 [==============================] - 0s 2ms/step - loss: 3513.5562 - mae: 3513.5562\n",
            "Epoch 71/100\n",
            "34/34 [==============================] - 0s 2ms/step - loss: 3499.8677 - mae: 3499.8677\n",
            "Epoch 72/100\n",
            "34/34 [==============================] - 0s 1ms/step - loss: 3494.2861 - mae: 3494.2861\n",
            "Epoch 73/100\n",
            "34/34 [==============================] - 0s 2ms/step - loss: 3547.7039 - mae: 3547.7039\n",
            "Epoch 74/100\n",
            "34/34 [==============================] - 0s 1ms/step - loss: 3533.9714 - mae: 3533.9714\n",
            "Epoch 75/100\n",
            "34/34 [==============================] - 0s 1ms/step - loss: 3495.2063 - mae: 3495.2063\n",
            "Epoch 76/100\n",
            "34/34 [==============================] - 0s 1ms/step - loss: 3523.4082 - mae: 3523.4082\n",
            "Epoch 77/100\n",
            "34/34 [==============================] - 0s 1ms/step - loss: 3499.1887 - mae: 3499.1887\n",
            "Epoch 78/100\n",
            "34/34 [==============================] - 0s 1ms/step - loss: 3497.3630 - mae: 3497.3630\n",
            "Epoch 79/100\n",
            "34/34 [==============================] - 0s 2ms/step - loss: 3512.2295 - mae: 3512.2295\n",
            "Epoch 80/100\n",
            "34/34 [==============================] - 0s 2ms/step - loss: 3514.9551 - mae: 3514.9551\n",
            "Epoch 81/100\n",
            "34/34 [==============================] - 0s 2ms/step - loss: 3551.7349 - mae: 3551.7349\n",
            "Epoch 82/100\n",
            "34/34 [==============================] - 0s 2ms/step - loss: 3509.0259 - mae: 3509.0259\n",
            "Epoch 83/100\n",
            "34/34 [==============================] - 0s 1ms/step - loss: 3522.8064 - mae: 3522.8064\n",
            "Epoch 84/100\n",
            "34/34 [==============================] - 0s 1ms/step - loss: 3550.3445 - mae: 3550.3445\n",
            "Epoch 85/100\n",
            "34/34 [==============================] - 0s 2ms/step - loss: 3509.2668 - mae: 3509.2668\n",
            "Epoch 86/100\n",
            "34/34 [==============================] - 0s 2ms/step - loss: 3510.5989 - mae: 3510.5989\n",
            "Epoch 87/100\n",
            "34/34 [==============================] - 0s 1ms/step - loss: 3495.4436 - mae: 3495.4436\n",
            "Epoch 88/100\n",
            "34/34 [==============================] - 0s 1ms/step - loss: 3499.5762 - mae: 3499.5762\n",
            "Epoch 89/100\n",
            "34/34 [==============================] - 0s 1ms/step - loss: 3497.5366 - mae: 3497.5366\n",
            "Epoch 90/100\n",
            "34/34 [==============================] - 0s 1ms/step - loss: 3504.5913 - mae: 3504.5913\n",
            "Epoch 91/100\n",
            "34/34 [==============================] - 0s 2ms/step - loss: 3505.5349 - mae: 3505.5349\n",
            "Epoch 92/100\n",
            "34/34 [==============================] - 0s 1ms/step - loss: 3536.9810 - mae: 3536.9810\n",
            "Epoch 93/100\n",
            "34/34 [==============================] - 0s 1ms/step - loss: 3521.0002 - mae: 3521.0002\n",
            "Epoch 94/100\n",
            "34/34 [==============================] - 0s 1ms/step - loss: 3505.1311 - mae: 3505.1311\n",
            "Epoch 95/100\n",
            "34/34 [==============================] - 0s 1ms/step - loss: 3509.4158 - mae: 3509.4158\n",
            "Epoch 96/100\n",
            "34/34 [==============================] - 0s 2ms/step - loss: 3506.6897 - mae: 3506.6897\n",
            "Epoch 97/100\n",
            "34/34 [==============================] - 0s 2ms/step - loss: 3524.0281 - mae: 3524.0281\n",
            "Epoch 98/100\n",
            "34/34 [==============================] - 0s 1ms/step - loss: 3502.7942 - mae: 3502.7942\n",
            "Epoch 99/100\n",
            "34/34 [==============================] - 0s 1ms/step - loss: 3525.4792 - mae: 3525.4792\n",
            "Epoch 100/100\n",
            "34/34 [==============================] - 0s 2ms/step - loss: 3503.3457 - mae: 3503.3457\n"
          ],
          "name": "stdout"
        },
        {
          "output_type": "execute_result",
          "data": {
            "text/plain": [
              "<tensorflow.python.keras.callbacks.History at 0x7f40d1cf37d0>"
            ]
          },
          "metadata": {
            "tags": []
          },
          "execution_count": 73
        }
      ]
    },
    {
      "cell_type": "code",
      "metadata": {
        "colab": {
          "base_uri": "https://localhost:8080/"
        },
        "id": "GLbcPg132Q0l",
        "outputId": "5fe58691-c7f5-4911-f775-24c4e91f0129"
      },
      "source": [
        "#evaluate the model\n",
        "model5.evaluate(x_train_normal,y_train)"
      ],
      "execution_count": null,
      "outputs": [
        {
          "output_type": "stream",
          "text": [
            "34/34 [==============================] - 0s 958us/step - loss: 3474.3142 - mae: 3474.3142\n"
          ],
          "name": "stdout"
        },
        {
          "output_type": "execute_result",
          "data": {
            "text/plain": [
              "[3474.314208984375, 3474.314208984375]"
            ]
          },
          "metadata": {
            "tags": []
          },
          "execution_count": 74
        }
      ]
    },
    {
      "cell_type": "code",
      "metadata": {
        "id": "Bj17jyjR2jfh"
      },
      "source": [
        "#test the model\n",
        "y_pred = model5.predict(x_test_normal)"
      ],
      "execution_count": null,
      "outputs": []
    },
    {
      "cell_type": "code",
      "metadata": {
        "colab": {
          "base_uri": "https://localhost:8080/"
        },
        "id": "mVYTUGcR2u6D",
        "outputId": "df447e4e-aa6e-4e41-c846-24f6ea10dd5e"
      },
      "source": [
        "y_pred.shape"
      ],
      "execution_count": null,
      "outputs": [
        {
          "output_type": "execute_result",
          "data": {
            "text/plain": [
              "(268, 1)"
            ]
          },
          "metadata": {
            "tags": []
          },
          "execution_count": 76
        }
      ]
    },
    {
      "cell_type": "code",
      "metadata": {
        "id": "-Q67QUVK3BFr"
      },
      "source": [
        "y_pred = y_pred.reshape(268,)"
      ],
      "execution_count": null,
      "outputs": []
    },
    {
      "cell_type": "code",
      "metadata": {
        "id": "5T8zMChq3Q4o"
      },
      "source": [
        "mae5 = mae(y_test,y_pred)"
      ],
      "execution_count": null,
      "outputs": []
    },
    {
      "cell_type": "code",
      "metadata": {
        "colab": {
          "base_uri": "https://localhost:8080/"
        },
        "id": "JwgcA0Q63YnB",
        "outputId": "899b7934-6f24-4eee-e3c8-4de38ace929b"
      },
      "source": [
        "mae5"
      ],
      "execution_count": null,
      "outputs": [
        {
          "output_type": "execute_result",
          "data": {
            "text/plain": [
              "<tf.Tensor: shape=(), dtype=float32, numpy=3167.9775>"
            ]
          },
          "metadata": {
            "tags": []
          },
          "execution_count": 79
        }
      ]
    },
    {
      "cell_type": "code",
      "metadata": {
        "id": "kT-CXo963avI"
      },
      "source": [
        "mse5 = mse(y_test,y_pred)"
      ],
      "execution_count": null,
      "outputs": []
    },
    {
      "cell_type": "code",
      "metadata": {
        "colab": {
          "base_uri": "https://localhost:8080/"
        },
        "id": "9hAn_u6o3qj4",
        "outputId": "48f8168a-0282-4be7-f615-0fece63c9897"
      },
      "source": [
        "mse5"
      ],
      "execution_count": null,
      "outputs": [
        {
          "output_type": "execute_result",
          "data": {
            "text/plain": [
              "<tf.Tensor: shape=(), dtype=float32, numpy=43189836.0>"
            ]
          },
          "metadata": {
            "tags": []
          },
          "execution_count": 81
        }
      ]
    },
    {
      "cell_type": "markdown",
      "metadata": {
        "id": "iHqRSKN-404C"
      },
      "source": [
        "compare with same model without normalization"
      ]
    },
    {
      "cell_type": "code",
      "metadata": {
        "colab": {
          "base_uri": "https://localhost:8080/"
        },
        "id": "9INLKW4S4Dhj",
        "outputId": "fce2d13a-f313-4442-aa02-0e799f642aaf"
      },
      "source": [
        "#mae and mse\n",
        "mae3,mse3"
      ],
      "execution_count": null,
      "outputs": [
        {
          "output_type": "execute_result",
          "data": {
            "text/plain": [
              "(<tf.Tensor: shape=(), dtype=float32, numpy=3210.9714>,\n",
              " <tf.Tensor: shape=(), dtype=float32, numpy=42239700.0>)"
            ]
          },
          "metadata": {
            "tags": []
          },
          "execution_count": 82
        }
      ]
    },
    {
      "cell_type": "code",
      "metadata": {
        "id": "pVUUnZMA4_Nn"
      },
      "source": [
        ""
      ],
      "execution_count": null,
      "outputs": []
    }
  ]
}